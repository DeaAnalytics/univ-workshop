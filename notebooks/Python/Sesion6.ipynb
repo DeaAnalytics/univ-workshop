{
  "nbformat": 4,
  "nbformat_minor": 0,
  "metadata": {
    "colab": {
      "name": "Sesion6.ipynb",
      "provenance": [],
      "authorship_tag": "ABX9TyP0MDB9XHzPnxfKmBlwdqPH",
      "include_colab_link": true
    },
    "kernelspec": {
      "name": "python3",
      "display_name": "Python 3"
    },
    "language_info": {
      "name": "python"
    }
  },
  "cells": [
    {
      "cell_type": "markdown",
      "metadata": {
        "id": "view-in-github",
        "colab_type": "text"
      },
      "source": [
        "<a href=\"https://colab.research.google.com/github/DeaAnalytics/univ-workshop/blob/main/notebooks/Python/Sesion6.ipynb\" target=\"_parent\"><img src=\"https://colab.research.google.com/assets/colab-badge.svg\" alt=\"Open In Colab\"/></a>"
      ]
    },
    {
      "cell_type": "code",
      "metadata": {
        "id": "-eJ9kqaCDpK1"
      },
      "source": [
        "!pip uninstall -y -q plotly; pip install -q plotly\n",
        "# !pip uninstall -y -q pandas; pip install -q pandas"
      ],
      "execution_count": 1,
      "outputs": []
    },
    {
      "cell_type": "code",
      "metadata": {
        "id": "8-XVIxDr_b1j"
      },
      "source": [
        "import pandas as pd \n",
        "import plotly\n",
        "import plotly.express as px\n",
        "import numpy as np\n",
        "from sklearn.preprocessing import StandardScaler\n",
        "from sklearn.cluster import KMeans"
      ],
      "execution_count": 2,
      "outputs": []
    },
    {
      "cell_type": "code",
      "metadata": {
        "id": "blQNbWB8Euqr"
      },
      "source": [
        "pd.set_option('plotting.backend','plotly')"
      ],
      "execution_count": 3,
      "outputs": []
    },
    {
      "cell_type": "code",
      "metadata": {
        "colab": {
          "base_uri": "https://localhost:8080/",
          "height": 206
        },
        "id": "UD2CtFPv_X0u",
        "outputId": "9d854400-7792-4cb9-e9e7-00dd7b39913f"
      },
      "source": [
        "#Leer un archivo .csv, en este caso agregarmos la liga de github que contiene esta tabla y renombrarla como kdf\n",
        "#Con la función \"head\" puedo dar un vistazo a los primeros datos de mi tabla y sus encabezados\n",
        "df = pd.read_csv(\"https://github.com/DeaAnalytics/univ-workshop/raw/main/data/K_Means_U.csv\")\n",
        "df.head()"
      ],
      "execution_count": 4,
      "outputs": [
        {
          "output_type": "execute_result",
          "data": {
            "text/html": [
              "<div>\n",
              "<style scoped>\n",
              "    .dataframe tbody tr th:only-of-type {\n",
              "        vertical-align: middle;\n",
              "    }\n",
              "\n",
              "    .dataframe tbody tr th {\n",
              "        vertical-align: top;\n",
              "    }\n",
              "\n",
              "    .dataframe thead th {\n",
              "        text-align: right;\n",
              "    }\n",
              "</style>\n",
              "<table border=\"1\" class=\"dataframe\">\n",
              "  <thead>\n",
              "    <tr style=\"text-align: right;\">\n",
              "      <th></th>\n",
              "      <th>Temperatura</th>\n",
              "      <th>Velocidad</th>\n",
              "      <th>Elongacion</th>\n",
              "      <th>Diametro</th>\n",
              "    </tr>\n",
              "  </thead>\n",
              "  <tbody>\n",
              "    <tr>\n",
              "      <th>0</th>\n",
              "      <td>500</td>\n",
              "      <td>1600</td>\n",
              "      <td>3.4</td>\n",
              "      <td>0.4</td>\n",
              "    </tr>\n",
              "    <tr>\n",
              "      <th>1</th>\n",
              "      <td>520</td>\n",
              "      <td>1500</td>\n",
              "      <td>3.5</td>\n",
              "      <td>0.2</td>\n",
              "    </tr>\n",
              "    <tr>\n",
              "      <th>2</th>\n",
              "      <td>520</td>\n",
              "      <td>1400</td>\n",
              "      <td>3.4</td>\n",
              "      <td>0.2</td>\n",
              "    </tr>\n",
              "    <tr>\n",
              "      <th>3</th>\n",
              "      <td>470</td>\n",
              "      <td>1600</td>\n",
              "      <td>3.2</td>\n",
              "      <td>0.2</td>\n",
              "    </tr>\n",
              "    <tr>\n",
              "      <th>4</th>\n",
              "      <td>480</td>\n",
              "      <td>1600</td>\n",
              "      <td>3.1</td>\n",
              "      <td>0.2</td>\n",
              "    </tr>\n",
              "  </tbody>\n",
              "</table>\n",
              "</div>"
            ],
            "text/plain": [
              "   Temperatura  Velocidad  Elongacion  Diametro\n",
              "0          500       1600         3.4       0.4\n",
              "1          520       1500         3.5       0.2\n",
              "2          520       1400         3.4       0.2\n",
              "3          470       1600         3.2       0.2\n",
              "4          480       1600         3.1       0.2"
            ]
          },
          "metadata": {
            "tags": []
          },
          "execution_count": 4
        }
      ]
    },
    {
      "cell_type": "code",
      "metadata": {
        "colab": {
          "base_uri": "https://localhost:8080/",
          "height": 542
        },
        "id": "lNVRyULeFvFC",
        "outputId": "3500ff48-4c8e-40e5-b27b-3419a638c078"
      },
      "source": [
        "# nube de puntos de los datos, para detectar patrones e identificar grupos visualmente\n",
        "fig = px.scatter_matrix(df, dimensions=df.columns)\n",
        "fig.show()"
      ],
      "execution_count": 15,
      "outputs": [
        {
          "output_type": "display_data",
          "data": {
            "text/html": [
              "<html>\n",
              "<head><meta charset=\"utf-8\" /></head>\n",
              "<body>\n",
              "    <div>            <script src=\"https://cdnjs.cloudflare.com/ajax/libs/mathjax/2.7.5/MathJax.js?config=TeX-AMS-MML_SVG\"></script><script type=\"text/javascript\">if (window.MathJax) {MathJax.Hub.Config({SVG: {font: \"STIX-Web\"}});}</script>                <script type=\"text/javascript\">window.PlotlyConfig = {MathJaxConfig: 'local'};</script>\n",
              "        <script src=\"https://cdn.plot.ly/plotly-latest.min.js\"></script>                <div id=\"3f44474a-9b37-4520-8261-1dce82dcd010\" class=\"plotly-graph-div\" style=\"height:525px; width:100%;\"></div>            <script type=\"text/javascript\">                                    window.PLOTLYENV=window.PLOTLYENV || {};                                    if (document.getElementById(\"3f44474a-9b37-4520-8261-1dce82dcd010\")) {                    Plotly.newPlot(                        \"3f44474a-9b37-4520-8261-1dce82dcd010\",                        [{\"dimensions\": [{\"axis\": {\"matches\": true}, \"label\": \"Temperatura\", \"values\": [500, 520, 520, 470, 480, 540, 520, 550, 490, 500, 550, 490, 440, 510, 500, 450, 440, 500, 510, 480, 510, 460, 530, 500, 700, 640, 690, 550, 650, 570, 630, 490, 660, 520, 500, 590, 600, 610, 560, 670, 560, 580, 620, 560, 590, 610, 630, 610, 640, 660, 680, 670, 600, 570, 550, 550, 580, 600, 540, 600, 670, 630, 560, 550, 550, 610, 580, 500, 560, 570, 570, 620, 510, 570, 630, 580, 710, 630, 650, 760, 490, 730, 670, 720, 650, 640, 680, 570, 580, 640, 650, 770, 770, 600, 690, 560, 770, 630, 670, 720, 620, 610, 640, 720, 740, 790, 640, 630, 610, 770, 630, 640, 600, 690, 670, 690, 580, 680, 670, 670, 630, 650, 620, 590, 510, 490, 470, 460, 500, 540, 460, 500, 440, 490, 540, 480, 480, 430, 580, 570, 540, 510, 570, 510, 540, 510, 460, 510, 480, 500]}, {\"axis\": {\"matches\": true}, \"label\": \"Velocidad\", \"values\": [1600, 1500, 1400, 1600, 1600, 1500, 1500, 1400, 1500, 1200, 1300, 1500, 1300, 1500, 1300, 1300, 1300, 1600, 1900, 1400, 1600, 1400, 1500, 1400, 4700, 4500, 4900, 4000, 4600, 4500, 4700, 3300, 4600, 3900, 3500, 4200, 4000, 4700, 3600, 4400, 4500, 4100, 4500, 3900, 4800, 4000, 4900, 4700, 4300, 4400, 4800, 5000, 4500, 3500, 3800, 3700, 3900, 5100, 4500, 4500, 4700, 4400, 4100, 4000, 4400, 4600, 4000, 3300, 4200, 4200, 4200, 4300, 3000, 4100, 6000, 5100, 5900, 5600, 5800, 6600, 4500, 6300, 5800, 6100, 5100, 5300, 5500, 5000, 5100, 5300, 5500, 6700, 6900, 5000, 5700, 4900, 6700, 4900, 5700, 6000, 4800, 4900, 5600, 5800, 6100, 6400, 5600, 5100, 5600, 6100, 5600, 5500, 4800, 5400, 5600, 5100, 5100, 5900, 5700, 5200, 5000, 5200, 5400, 5100, 1400, 1400, 1300, 1500, 1400, 1700, 1400, 1500, 1400, 1500, 1500, 1600, 1400, 1100, 1200, 1500, 1300, 1400, 1700, 1500, 1700, 1500, 1000, 1700, 1900, 1600]}, {\"axis\": {\"matches\": true}, \"label\": \"Elongacion\", \"values\": [3.4, 3.5, 3.4, 3.2, 3.1, 3.4, 4.1, 4.2, 3.1, 3.2, 3.5, 3.1, 3.0, 3.4, 3.5, 2.3, 3.2, 3.5, 3.8, 3.0, 3.8, 3.2, 3.7, 3.3, 3.2, 3.2, 3.1, 2.3, 2.8, 2.8, 3.3, 2.4, 2.9, 2.7, 2.0, 3.0, 2.2, 2.9, 2.9, 3.1, 3.0, 2.7, 2.2, 2.5, 3.2, 2.8, 2.5, 2.8, 2.9, 3.0, 2.8, 3.0, 2.9, 2.6, 2.4, 2.4, 2.7, 2.7, 3.0, 3.4, 3.1, 2.3, 3.0, 2.5, 2.6, 3.0, 2.6, 2.3, 2.7, 3.0, 2.9, 2.9, 2.5, 2.8, 3.3, 2.7, 3.0, 2.9, 3.0, 3.0, 2.5, 2.9, 2.5, 3.6, 3.2, 2.7, 3.0, 2.5, 2.8, 3.2, 3.0, 3.8, 2.6, 2.2, 3.2, 2.8, 2.8, 2.7, 3.3, 3.2, 2.8, 3.0, 2.8, 3.0, 2.8, 3.8, 2.8, 2.8, 2.6, 3.0, 3.4, 3.1, 3.0, 3.1, 3.1, 3.1, 2.7, 3.2, 3.3, 3.0, 2.5, 3.0, 3.4, 3.0, 3.5, 3.0, 3.2, 3.1, 3.6, 3.9, 3.4, 3.4, 2.9, 3.1, 3.7, 3.4, 3.0, 3.0, 4.0, 4.4, 3.9, 3.5, 3.8, 3.8, 3.4, 3.7, 3.6, 3.3, 3.4, 3.0]}, {\"axis\": {\"matches\": true}, \"label\": \"Diametro\", \"values\": [0.4, 0.2, 0.2, 0.2, 0.2, 0.4, 0.1, 0.2, 0.1, 0.2, 0.2, 0.1, 0.2, 0.2, 0.3, 0.3, 0.2, 0.6, 0.4, 0.3, 0.2, 0.2, 0.2, 0.2, 1.4, 1.5, 1.5, 1.3, 1.5, 1.3, 1.6, 1.0, 1.3, 1.4, 1.0, 1.5, 1.0, 1.4, 1.3, 1.4, 1.5, 1.0, 1.5, 1.1, 1.8, 1.3, 1.5, 1.2, 1.3, 1.4, 1.4, 1.7, 1.5, 1.0, 1.1, 1.0, 1.2, 1.6, 1.5, 1.6, 1.5, 1.3, 1.3, 1.3, 1.2, 1.4, 1.2, 1.0, 1.3, 1.2, 1.3, 1.3, 1.1, 1.3, 2.5, 1.9, 2.1, 1.8, 2.2, 2.1, 1.7, 1.8, 1.8, 2.5, 2.0, 1.9, 2.1, 2.0, 2.4, 2.3, 1.8, 2.2, 2.3, 1.5, 2.3, 2.0, 2.0, 1.8, 2.1, 1.8, 1.8, 1.8, 2.1, 1.6, 1.9, 2.0, 2.2, 1.5, 1.4, 2.3, 2.4, 1.8, 1.8, 2.1, 2.4, 2.3, 1.9, 2.3, 2.5, 2.3, 1.9, 2.0, 2.3, 1.8, 0.2, 0.2, 0.2, 0.2, 0.2, 0.4, 0.3, 0.2, 0.2, 0.1, 0.2, 0.2, 0.1, 0.1, 0.2, 0.4, 0.4, 0.3, 0.3, 0.3, 0.2, 0.4, 0.2, 0.5, 0.2, 0.2]}], \"hovertemplate\": \"%{xaxis.title.text}=%{x}<br>%{yaxis.title.text}=%{y}<extra></extra>\", \"legendgroup\": \"\", \"marker\": {\"color\": \"#636efa\", \"symbol\": \"circle\"}, \"name\": \"\", \"showlegend\": false, \"type\": \"splom\"}],                        {\"dragmode\": \"select\", \"legend\": {\"tracegroupgap\": 0}, \"margin\": {\"t\": 60}, \"template\": {\"data\": {\"bar\": [{\"error_x\": {\"color\": \"#2a3f5f\"}, \"error_y\": {\"color\": \"#2a3f5f\"}, \"marker\": {\"line\": {\"color\": \"#E5ECF6\", \"width\": 0.5}}, \"type\": \"bar\"}], \"barpolar\": [{\"marker\": {\"line\": {\"color\": \"#E5ECF6\", \"width\": 0.5}}, \"type\": \"barpolar\"}], \"carpet\": [{\"aaxis\": {\"endlinecolor\": \"#2a3f5f\", \"gridcolor\": \"white\", \"linecolor\": \"white\", \"minorgridcolor\": \"white\", \"startlinecolor\": \"#2a3f5f\"}, \"baxis\": {\"endlinecolor\": \"#2a3f5f\", \"gridcolor\": \"white\", \"linecolor\": \"white\", \"minorgridcolor\": \"white\", \"startlinecolor\": \"#2a3f5f\"}, \"type\": \"carpet\"}], \"choropleth\": [{\"colorbar\": {\"outlinewidth\": 0, \"ticks\": \"\"}, \"type\": \"choropleth\"}], \"contour\": [{\"colorbar\": {\"outlinewidth\": 0, \"ticks\": \"\"}, \"colorscale\": [[0.0, \"#0d0887\"], [0.1111111111111111, \"#46039f\"], [0.2222222222222222, \"#7201a8\"], [0.3333333333333333, \"#9c179e\"], [0.4444444444444444, \"#bd3786\"], [0.5555555555555556, \"#d8576b\"], [0.6666666666666666, \"#ed7953\"], [0.7777777777777778, \"#fb9f3a\"], [0.8888888888888888, \"#fdca26\"], [1.0, \"#f0f921\"]], \"type\": \"contour\"}], \"contourcarpet\": [{\"colorbar\": {\"outlinewidth\": 0, \"ticks\": \"\"}, \"type\": \"contourcarpet\"}], \"heatmap\": [{\"colorbar\": {\"outlinewidth\": 0, \"ticks\": \"\"}, \"colorscale\": [[0.0, \"#0d0887\"], [0.1111111111111111, \"#46039f\"], [0.2222222222222222, \"#7201a8\"], [0.3333333333333333, \"#9c179e\"], [0.4444444444444444, \"#bd3786\"], [0.5555555555555556, \"#d8576b\"], [0.6666666666666666, \"#ed7953\"], [0.7777777777777778, \"#fb9f3a\"], [0.8888888888888888, \"#fdca26\"], [1.0, \"#f0f921\"]], \"type\": \"heatmap\"}], \"heatmapgl\": [{\"colorbar\": {\"outlinewidth\": 0, \"ticks\": \"\"}, \"colorscale\": [[0.0, \"#0d0887\"], [0.1111111111111111, \"#46039f\"], [0.2222222222222222, \"#7201a8\"], [0.3333333333333333, \"#9c179e\"], [0.4444444444444444, \"#bd3786\"], [0.5555555555555556, \"#d8576b\"], [0.6666666666666666, \"#ed7953\"], [0.7777777777777778, \"#fb9f3a\"], [0.8888888888888888, \"#fdca26\"], [1.0, \"#f0f921\"]], \"type\": \"heatmapgl\"}], \"histogram\": [{\"marker\": {\"colorbar\": {\"outlinewidth\": 0, \"ticks\": \"\"}}, \"type\": \"histogram\"}], \"histogram2d\": [{\"colorbar\": {\"outlinewidth\": 0, \"ticks\": \"\"}, \"colorscale\": [[0.0, \"#0d0887\"], [0.1111111111111111, \"#46039f\"], [0.2222222222222222, \"#7201a8\"], [0.3333333333333333, \"#9c179e\"], [0.4444444444444444, \"#bd3786\"], [0.5555555555555556, \"#d8576b\"], [0.6666666666666666, \"#ed7953\"], [0.7777777777777778, \"#fb9f3a\"], [0.8888888888888888, \"#fdca26\"], [1.0, \"#f0f921\"]], \"type\": \"histogram2d\"}], \"histogram2dcontour\": [{\"colorbar\": {\"outlinewidth\": 0, \"ticks\": \"\"}, \"colorscale\": [[0.0, \"#0d0887\"], [0.1111111111111111, \"#46039f\"], [0.2222222222222222, \"#7201a8\"], [0.3333333333333333, \"#9c179e\"], [0.4444444444444444, \"#bd3786\"], [0.5555555555555556, \"#d8576b\"], [0.6666666666666666, \"#ed7953\"], [0.7777777777777778, \"#fb9f3a\"], [0.8888888888888888, \"#fdca26\"], [1.0, \"#f0f921\"]], \"type\": \"histogram2dcontour\"}], \"mesh3d\": [{\"colorbar\": {\"outlinewidth\": 0, \"ticks\": \"\"}, \"type\": \"mesh3d\"}], \"parcoords\": [{\"line\": {\"colorbar\": {\"outlinewidth\": 0, \"ticks\": \"\"}}, \"type\": \"parcoords\"}], \"pie\": [{\"automargin\": true, \"type\": \"pie\"}], \"scatter\": [{\"marker\": {\"colorbar\": {\"outlinewidth\": 0, \"ticks\": \"\"}}, \"type\": \"scatter\"}], \"scatter3d\": [{\"line\": {\"colorbar\": {\"outlinewidth\": 0, \"ticks\": \"\"}}, \"marker\": {\"colorbar\": {\"outlinewidth\": 0, \"ticks\": \"\"}}, \"type\": \"scatter3d\"}], \"scattercarpet\": [{\"marker\": {\"colorbar\": {\"outlinewidth\": 0, \"ticks\": \"\"}}, \"type\": \"scattercarpet\"}], \"scattergeo\": [{\"marker\": {\"colorbar\": {\"outlinewidth\": 0, \"ticks\": \"\"}}, \"type\": \"scattergeo\"}], \"scattergl\": [{\"marker\": {\"colorbar\": {\"outlinewidth\": 0, \"ticks\": \"\"}}, \"type\": \"scattergl\"}], \"scattermapbox\": [{\"marker\": {\"colorbar\": {\"outlinewidth\": 0, \"ticks\": \"\"}}, \"type\": \"scattermapbox\"}], \"scatterpolar\": [{\"marker\": {\"colorbar\": {\"outlinewidth\": 0, \"ticks\": \"\"}}, \"type\": \"scatterpolar\"}], \"scatterpolargl\": [{\"marker\": {\"colorbar\": {\"outlinewidth\": 0, \"ticks\": \"\"}}, \"type\": \"scatterpolargl\"}], \"scatterternary\": [{\"marker\": {\"colorbar\": {\"outlinewidth\": 0, \"ticks\": \"\"}}, \"type\": \"scatterternary\"}], \"surface\": [{\"colorbar\": {\"outlinewidth\": 0, \"ticks\": \"\"}, \"colorscale\": [[0.0, \"#0d0887\"], [0.1111111111111111, \"#46039f\"], [0.2222222222222222, \"#7201a8\"], [0.3333333333333333, \"#9c179e\"], [0.4444444444444444, \"#bd3786\"], [0.5555555555555556, \"#d8576b\"], [0.6666666666666666, \"#ed7953\"], [0.7777777777777778, \"#fb9f3a\"], [0.8888888888888888, \"#fdca26\"], [1.0, \"#f0f921\"]], \"type\": \"surface\"}], \"table\": [{\"cells\": {\"fill\": {\"color\": \"#EBF0F8\"}, \"line\": {\"color\": \"white\"}}, \"header\": {\"fill\": {\"color\": \"#C8D4E3\"}, \"line\": {\"color\": \"white\"}}, \"type\": \"table\"}]}, \"layout\": {\"annotationdefaults\": {\"arrowcolor\": \"#2a3f5f\", \"arrowhead\": 0, \"arrowwidth\": 1}, \"autotypenumbers\": \"strict\", \"coloraxis\": {\"colorbar\": {\"outlinewidth\": 0, \"ticks\": \"\"}}, \"colorscale\": {\"diverging\": [[0, \"#8e0152\"], [0.1, \"#c51b7d\"], [0.2, \"#de77ae\"], [0.3, \"#f1b6da\"], [0.4, \"#fde0ef\"], [0.5, \"#f7f7f7\"], [0.6, \"#e6f5d0\"], [0.7, \"#b8e186\"], [0.8, \"#7fbc41\"], [0.9, \"#4d9221\"], [1, \"#276419\"]], \"sequential\": [[0.0, \"#0d0887\"], [0.1111111111111111, \"#46039f\"], [0.2222222222222222, \"#7201a8\"], [0.3333333333333333, \"#9c179e\"], [0.4444444444444444, \"#bd3786\"], [0.5555555555555556, \"#d8576b\"], [0.6666666666666666, \"#ed7953\"], [0.7777777777777778, \"#fb9f3a\"], [0.8888888888888888, \"#fdca26\"], [1.0, \"#f0f921\"]], \"sequentialminus\": [[0.0, \"#0d0887\"], [0.1111111111111111, \"#46039f\"], [0.2222222222222222, \"#7201a8\"], [0.3333333333333333, \"#9c179e\"], [0.4444444444444444, \"#bd3786\"], [0.5555555555555556, \"#d8576b\"], [0.6666666666666666, \"#ed7953\"], [0.7777777777777778, \"#fb9f3a\"], [0.8888888888888888, \"#fdca26\"], [1.0, \"#f0f921\"]]}, \"colorway\": [\"#636efa\", \"#EF553B\", \"#00cc96\", \"#ab63fa\", \"#FFA15A\", \"#19d3f3\", \"#FF6692\", \"#B6E880\", \"#FF97FF\", \"#FECB52\"], \"font\": {\"color\": \"#2a3f5f\"}, \"geo\": {\"bgcolor\": \"white\", \"lakecolor\": \"white\", \"landcolor\": \"#E5ECF6\", \"showlakes\": true, \"showland\": true, \"subunitcolor\": \"white\"}, \"hoverlabel\": {\"align\": \"left\"}, \"hovermode\": \"closest\", \"mapbox\": {\"style\": \"light\"}, \"paper_bgcolor\": \"white\", \"plot_bgcolor\": \"#E5ECF6\", \"polar\": {\"angularaxis\": {\"gridcolor\": \"white\", \"linecolor\": \"white\", \"ticks\": \"\"}, \"bgcolor\": \"#E5ECF6\", \"radialaxis\": {\"gridcolor\": \"white\", \"linecolor\": \"white\", \"ticks\": \"\"}}, \"scene\": {\"xaxis\": {\"backgroundcolor\": \"#E5ECF6\", \"gridcolor\": \"white\", \"gridwidth\": 2, \"linecolor\": \"white\", \"showbackground\": true, \"ticks\": \"\", \"zerolinecolor\": \"white\"}, \"yaxis\": {\"backgroundcolor\": \"#E5ECF6\", \"gridcolor\": \"white\", \"gridwidth\": 2, \"linecolor\": \"white\", \"showbackground\": true, \"ticks\": \"\", \"zerolinecolor\": \"white\"}, \"zaxis\": {\"backgroundcolor\": \"#E5ECF6\", \"gridcolor\": \"white\", \"gridwidth\": 2, \"linecolor\": \"white\", \"showbackground\": true, \"ticks\": \"\", \"zerolinecolor\": \"white\"}}, \"shapedefaults\": {\"line\": {\"color\": \"#2a3f5f\"}}, \"ternary\": {\"aaxis\": {\"gridcolor\": \"white\", \"linecolor\": \"white\", \"ticks\": \"\"}, \"baxis\": {\"gridcolor\": \"white\", \"linecolor\": \"white\", \"ticks\": \"\"}, \"bgcolor\": \"#E5ECF6\", \"caxis\": {\"gridcolor\": \"white\", \"linecolor\": \"white\", \"ticks\": \"\"}}, \"title\": {\"x\": 0.05}, \"xaxis\": {\"automargin\": true, \"gridcolor\": \"white\", \"linecolor\": \"white\", \"ticks\": \"\", \"title\": {\"standoff\": 15}, \"zerolinecolor\": \"white\", \"zerolinewidth\": 2}, \"yaxis\": {\"automargin\": true, \"gridcolor\": \"white\", \"linecolor\": \"white\", \"ticks\": \"\", \"title\": {\"standoff\": 15}, \"zerolinecolor\": \"white\", \"zerolinewidth\": 2}}}},                        {\"responsive\": true}                    ).then(function(){\n",
              "                            \n",
              "var gd = document.getElementById('3f44474a-9b37-4520-8261-1dce82dcd010');\n",
              "var x = new MutationObserver(function (mutations, observer) {{\n",
              "        var display = window.getComputedStyle(gd).display;\n",
              "        if (!display || display === 'none') {{\n",
              "            console.log([gd, 'removed!']);\n",
              "            Plotly.purge(gd);\n",
              "            observer.disconnect();\n",
              "        }}\n",
              "}});\n",
              "\n",
              "// Listen for the removal of the full notebook cells\n",
              "var notebookContainer = gd.closest('#notebook-container');\n",
              "if (notebookContainer) {{\n",
              "    x.observe(notebookContainer, {childList: true});\n",
              "}}\n",
              "\n",
              "// Listen for the clearing of the current output cell\n",
              "var outputEl = gd.closest('.output');\n",
              "if (outputEl) {{\n",
              "    x.observe(outputEl, {childList: true});\n",
              "}}\n",
              "\n",
              "                        })                };                            </script>        </div>\n",
              "</body>\n",
              "</html>"
            ]
          },
          "metadata": {
            "tags": []
          }
        }
      ]
    },
    {
      "cell_type": "code",
      "metadata": {
        "colab": {
          "base_uri": "https://localhost:8080/",
          "height": 300
        },
        "id": "7ATTTiOjoG8H",
        "outputId": "bfe16847-eb2d-42c5-f33e-403de237c2ab"
      },
      "source": [
        "df.describe()"
      ],
      "execution_count": 5,
      "outputs": [
        {
          "output_type": "execute_result",
          "data": {
            "text/html": [
              "<div>\n",
              "<style scoped>\n",
              "    .dataframe tbody tr th:only-of-type {\n",
              "        vertical-align: middle;\n",
              "    }\n",
              "\n",
              "    .dataframe tbody tr th {\n",
              "        vertical-align: top;\n",
              "    }\n",
              "\n",
              "    .dataframe thead th {\n",
              "        text-align: right;\n",
              "    }\n",
              "</style>\n",
              "<table border=\"1\" class=\"dataframe\">\n",
              "  <thead>\n",
              "    <tr style=\"text-align: right;\">\n",
              "      <th></th>\n",
              "      <th>Temperatura</th>\n",
              "      <th>Velocidad</th>\n",
              "      <th>Elongacion</th>\n",
              "      <th>Diametro</th>\n",
              "    </tr>\n",
              "  </thead>\n",
              "  <tbody>\n",
              "    <tr>\n",
              "      <th>count</th>\n",
              "      <td>150.000000</td>\n",
              "      <td>150.000000</td>\n",
              "      <td>150.000000</td>\n",
              "      <td>150.000000</td>\n",
              "    </tr>\n",
              "    <tr>\n",
              "      <th>mean</th>\n",
              "      <td>584.333333</td>\n",
              "      <td>3758.666667</td>\n",
              "      <td>3.054000</td>\n",
              "      <td>1.198667</td>\n",
              "    </tr>\n",
              "    <tr>\n",
              "      <th>std</th>\n",
              "      <td>82.806613</td>\n",
              "      <td>1764.420420</td>\n",
              "      <td>0.433594</td>\n",
              "      <td>0.763161</td>\n",
              "    </tr>\n",
              "    <tr>\n",
              "      <th>min</th>\n",
              "      <td>430.000000</td>\n",
              "      <td>1000.000000</td>\n",
              "      <td>2.000000</td>\n",
              "      <td>0.100000</td>\n",
              "    </tr>\n",
              "    <tr>\n",
              "      <th>25%</th>\n",
              "      <td>510.000000</td>\n",
              "      <td>1600.000000</td>\n",
              "      <td>2.800000</td>\n",
              "      <td>0.300000</td>\n",
              "    </tr>\n",
              "    <tr>\n",
              "      <th>50%</th>\n",
              "      <td>580.000000</td>\n",
              "      <td>4350.000000</td>\n",
              "      <td>3.000000</td>\n",
              "      <td>1.300000</td>\n",
              "    </tr>\n",
              "    <tr>\n",
              "      <th>75%</th>\n",
              "      <td>640.000000</td>\n",
              "      <td>5100.000000</td>\n",
              "      <td>3.300000</td>\n",
              "      <td>1.800000</td>\n",
              "    </tr>\n",
              "    <tr>\n",
              "      <th>max</th>\n",
              "      <td>790.000000</td>\n",
              "      <td>6900.000000</td>\n",
              "      <td>4.400000</td>\n",
              "      <td>2.500000</td>\n",
              "    </tr>\n",
              "  </tbody>\n",
              "</table>\n",
              "</div>"
            ],
            "text/plain": [
              "       Temperatura    Velocidad  Elongacion    Diametro\n",
              "count   150.000000   150.000000  150.000000  150.000000\n",
              "mean    584.333333  3758.666667    3.054000    1.198667\n",
              "std      82.806613  1764.420420    0.433594    0.763161\n",
              "min     430.000000  1000.000000    2.000000    0.100000\n",
              "25%     510.000000  1600.000000    2.800000    0.300000\n",
              "50%     580.000000  4350.000000    3.000000    1.300000\n",
              "75%     640.000000  5100.000000    3.300000    1.800000\n",
              "max     790.000000  6900.000000    4.400000    2.500000"
            ]
          },
          "metadata": {
            "tags": []
          },
          "execution_count": 5
        }
      ]
    },
    {
      "cell_type": "code",
      "metadata": {
        "colab": {
          "base_uri": "https://localhost:8080/",
          "height": 206
        },
        "id": "yDv25wzl_mVX",
        "outputId": "a900dd44-d977-4902-fff5-78ac1a4ca078"
      },
      "source": [
        "#Como podemos ver la magnitud de los valores entre cada variable difieren significativamente, \n",
        "#Por lo que debemos escalarlas antes de aplicar clustering\n",
        "scaler = StandardScaler()\n",
        "df_scale = pd.DataFrame(scaler.fit_transform(df), columns=df.columns)\n",
        "df_scale.head()"
      ],
      "execution_count": 6,
      "outputs": [
        {
          "output_type": "execute_result",
          "data": {
            "text/html": [
              "<div>\n",
              "<style scoped>\n",
              "    .dataframe tbody tr th:only-of-type {\n",
              "        vertical-align: middle;\n",
              "    }\n",
              "\n",
              "    .dataframe tbody tr th {\n",
              "        vertical-align: top;\n",
              "    }\n",
              "\n",
              "    .dataframe thead th {\n",
              "        text-align: right;\n",
              "    }\n",
              "</style>\n",
              "<table border=\"1\" class=\"dataframe\">\n",
              "  <thead>\n",
              "    <tr style=\"text-align: right;\">\n",
              "      <th></th>\n",
              "      <th>Temperatura</th>\n",
              "      <th>Velocidad</th>\n",
              "      <th>Elongacion</th>\n",
              "      <th>Diametro</th>\n",
              "    </tr>\n",
              "  </thead>\n",
              "  <tbody>\n",
              "    <tr>\n",
              "      <th>0</th>\n",
              "      <td>-1.021849</td>\n",
              "      <td>-1.227541</td>\n",
              "      <td>0.800654</td>\n",
              "      <td>-1.050031</td>\n",
              "    </tr>\n",
              "    <tr>\n",
              "      <th>1</th>\n",
              "      <td>-0.779513</td>\n",
              "      <td>-1.284407</td>\n",
              "      <td>1.032057</td>\n",
              "      <td>-1.312977</td>\n",
              "    </tr>\n",
              "    <tr>\n",
              "      <th>2</th>\n",
              "      <td>-0.779513</td>\n",
              "      <td>-1.341272</td>\n",
              "      <td>0.800654</td>\n",
              "      <td>-1.312977</td>\n",
              "    </tr>\n",
              "    <tr>\n",
              "      <th>3</th>\n",
              "      <td>-1.385353</td>\n",
              "      <td>-1.227541</td>\n",
              "      <td>0.337848</td>\n",
              "      <td>-1.312977</td>\n",
              "    </tr>\n",
              "    <tr>\n",
              "      <th>4</th>\n",
              "      <td>-1.264185</td>\n",
              "      <td>-1.227541</td>\n",
              "      <td>0.106445</td>\n",
              "      <td>-1.312977</td>\n",
              "    </tr>\n",
              "  </tbody>\n",
              "</table>\n",
              "</div>"
            ],
            "text/plain": [
              "   Temperatura  Velocidad  Elongacion  Diametro\n",
              "0    -1.021849  -1.227541    0.800654 -1.050031\n",
              "1    -0.779513  -1.284407    1.032057 -1.312977\n",
              "2    -0.779513  -1.341272    0.800654 -1.312977\n",
              "3    -1.385353  -1.227541    0.337848 -1.312977\n",
              "4    -1.264185  -1.227541    0.106445 -1.312977"
            ]
          },
          "metadata": {
            "tags": []
          },
          "execution_count": 6
        }
      ]
    },
    {
      "cell_type": "code",
      "metadata": {
        "id": "9NfpbWbpAHFg"
      },
      "source": [
        "# Funcion para calcular la inercia entre los grupos\n",
        "# la inercia es la suma de las distancias al cuadrado de cada objeto del Cluster a su centroide\n",
        "def Elbow(df, min_clusters=1, max_clusters=50):\n",
        "  wcss = []\n",
        "  n_clusters = []\n",
        "  for k in range(min_clusters, max_clusters + 1):\n",
        "    kmeans = KMeans(n_clusters = k, init = \"k-means++\", max_iter = 300, n_init = 10, random_state = 0)\n",
        "    kmeans.fit(df)\n",
        "    n_clusters.append(k)\n",
        "    wcss.append(kmeans.inertia_)\n",
        "  clusters = pd.DataFrame(data=[n_clusters, wcss]).T\n",
        "  clusters.columns = [\"n_clusters\", \"wcss\"]\n",
        "  clusters.set_index(\"n_clusters\", inplace=True)\n",
        "  return clusters"
      ],
      "execution_count": 7,
      "outputs": []
    },
    {
      "cell_type": "code",
      "metadata": {
        "colab": {
          "base_uri": "https://localhost:8080/",
          "height": 542
        },
        "id": "Xtf3Y0FuCDV3",
        "outputId": "02ce6dce-9134-457f-b21c-7e65e753d803"
      },
      "source": [
        "clusters = Elbow(df_scale, max_clusters=15)\n",
        "clusters.plot()"
      ],
      "execution_count": 8,
      "outputs": [
        {
          "output_type": "display_data",
          "data": {
            "text/html": [
              "<html>\n",
              "<head><meta charset=\"utf-8\" /></head>\n",
              "<body>\n",
              "    <div>            <script src=\"https://cdnjs.cloudflare.com/ajax/libs/mathjax/2.7.5/MathJax.js?config=TeX-AMS-MML_SVG\"></script><script type=\"text/javascript\">if (window.MathJax) {MathJax.Hub.Config({SVG: {font: \"STIX-Web\"}});}</script>                <script type=\"text/javascript\">window.PlotlyConfig = {MathJaxConfig: 'local'};</script>\n",
              "        <script src=\"https://cdn.plot.ly/plotly-latest.min.js\"></script>                <div id=\"a8c678be-4134-4726-a369-838d8372323c\" class=\"plotly-graph-div\" style=\"height:525px; width:100%;\"></div>            <script type=\"text/javascript\">                                    window.PLOTLYENV=window.PLOTLYENV || {};                                    if (document.getElementById(\"a8c678be-4134-4726-a369-838d8372323c\")) {                    Plotly.newPlot(                        \"a8c678be-4134-4726-a369-838d8372323c\",                        [{\"hovertemplate\": \"variable=wcss<br>n_clusters=%{x}<br>value=%{y}<extra></extra>\", \"legendgroup\": \"wcss\", \"line\": {\"color\": \"#636efa\", \"dash\": \"solid\"}, \"mode\": \"lines\", \"name\": \"wcss\", \"orientation\": \"v\", \"showlegend\": true, \"type\": \"scatter\", \"x\": [1.0, 2.0, 3.0, 4.0, 5.0, 6.0, 7.0, 8.0, 9.0, 10.0, 11.0, 12.0, 13.0, 14.0, 15.0], \"xaxis\": \"x\", \"y\": [600.0, 223.73200573676348, 140.965816630747, 114.61550694959809, 91.06677122728536, 80.23060704506958, 70.88546993521877, 62.6225728840965, 55.49374134438719, 47.32071598850855, 42.79750089065449, 39.75088764228279, 37.750358648724585, 36.026943068790644, 33.17178752228004], \"yaxis\": \"y\"}],                        {\"legend\": {\"title\": {\"text\": \"variable\"}, \"tracegroupgap\": 0}, \"margin\": {\"t\": 60}, \"template\": {\"data\": {\"bar\": [{\"error_x\": {\"color\": \"#2a3f5f\"}, \"error_y\": {\"color\": \"#2a3f5f\"}, \"marker\": {\"line\": {\"color\": \"#E5ECF6\", \"width\": 0.5}}, \"type\": \"bar\"}], \"barpolar\": [{\"marker\": {\"line\": {\"color\": \"#E5ECF6\", \"width\": 0.5}}, \"type\": \"barpolar\"}], \"carpet\": [{\"aaxis\": {\"endlinecolor\": \"#2a3f5f\", \"gridcolor\": \"white\", \"linecolor\": \"white\", \"minorgridcolor\": \"white\", \"startlinecolor\": \"#2a3f5f\"}, \"baxis\": {\"endlinecolor\": \"#2a3f5f\", \"gridcolor\": \"white\", \"linecolor\": \"white\", \"minorgridcolor\": \"white\", \"startlinecolor\": \"#2a3f5f\"}, \"type\": \"carpet\"}], \"choropleth\": [{\"colorbar\": {\"outlinewidth\": 0, \"ticks\": \"\"}, \"type\": \"choropleth\"}], \"contour\": [{\"colorbar\": {\"outlinewidth\": 0, \"ticks\": \"\"}, \"colorscale\": [[0.0, \"#0d0887\"], [0.1111111111111111, \"#46039f\"], [0.2222222222222222, \"#7201a8\"], [0.3333333333333333, \"#9c179e\"], [0.4444444444444444, \"#bd3786\"], [0.5555555555555556, \"#d8576b\"], [0.6666666666666666, \"#ed7953\"], [0.7777777777777778, \"#fb9f3a\"], [0.8888888888888888, \"#fdca26\"], [1.0, \"#f0f921\"]], \"type\": \"contour\"}], \"contourcarpet\": [{\"colorbar\": {\"outlinewidth\": 0, \"ticks\": \"\"}, \"type\": \"contourcarpet\"}], \"heatmap\": [{\"colorbar\": {\"outlinewidth\": 0, \"ticks\": \"\"}, \"colorscale\": [[0.0, \"#0d0887\"], [0.1111111111111111, \"#46039f\"], [0.2222222222222222, \"#7201a8\"], [0.3333333333333333, \"#9c179e\"], [0.4444444444444444, \"#bd3786\"], [0.5555555555555556, \"#d8576b\"], [0.6666666666666666, \"#ed7953\"], [0.7777777777777778, \"#fb9f3a\"], [0.8888888888888888, \"#fdca26\"], [1.0, \"#f0f921\"]], \"type\": \"heatmap\"}], \"heatmapgl\": [{\"colorbar\": {\"outlinewidth\": 0, \"ticks\": \"\"}, \"colorscale\": [[0.0, \"#0d0887\"], [0.1111111111111111, \"#46039f\"], [0.2222222222222222, \"#7201a8\"], [0.3333333333333333, \"#9c179e\"], [0.4444444444444444, \"#bd3786\"], [0.5555555555555556, \"#d8576b\"], [0.6666666666666666, \"#ed7953\"], [0.7777777777777778, \"#fb9f3a\"], [0.8888888888888888, \"#fdca26\"], [1.0, \"#f0f921\"]], \"type\": \"heatmapgl\"}], \"histogram\": [{\"marker\": {\"colorbar\": {\"outlinewidth\": 0, \"ticks\": \"\"}}, \"type\": \"histogram\"}], \"histogram2d\": [{\"colorbar\": {\"outlinewidth\": 0, \"ticks\": \"\"}, \"colorscale\": [[0.0, \"#0d0887\"], [0.1111111111111111, \"#46039f\"], [0.2222222222222222, \"#7201a8\"], [0.3333333333333333, \"#9c179e\"], [0.4444444444444444, \"#bd3786\"], [0.5555555555555556, \"#d8576b\"], [0.6666666666666666, \"#ed7953\"], [0.7777777777777778, \"#fb9f3a\"], [0.8888888888888888, \"#fdca26\"], [1.0, \"#f0f921\"]], \"type\": \"histogram2d\"}], \"histogram2dcontour\": [{\"colorbar\": {\"outlinewidth\": 0, \"ticks\": \"\"}, \"colorscale\": [[0.0, \"#0d0887\"], [0.1111111111111111, \"#46039f\"], [0.2222222222222222, \"#7201a8\"], [0.3333333333333333, \"#9c179e\"], [0.4444444444444444, \"#bd3786\"], [0.5555555555555556, \"#d8576b\"], [0.6666666666666666, \"#ed7953\"], [0.7777777777777778, \"#fb9f3a\"], [0.8888888888888888, \"#fdca26\"], [1.0, \"#f0f921\"]], \"type\": \"histogram2dcontour\"}], \"mesh3d\": [{\"colorbar\": {\"outlinewidth\": 0, \"ticks\": \"\"}, \"type\": \"mesh3d\"}], \"parcoords\": [{\"line\": {\"colorbar\": {\"outlinewidth\": 0, \"ticks\": \"\"}}, \"type\": \"parcoords\"}], \"pie\": [{\"automargin\": true, \"type\": \"pie\"}], \"scatter\": [{\"marker\": {\"colorbar\": {\"outlinewidth\": 0, \"ticks\": \"\"}}, \"type\": \"scatter\"}], \"scatter3d\": [{\"line\": {\"colorbar\": {\"outlinewidth\": 0, \"ticks\": \"\"}}, \"marker\": {\"colorbar\": {\"outlinewidth\": 0, \"ticks\": \"\"}}, \"type\": \"scatter3d\"}], \"scattercarpet\": [{\"marker\": {\"colorbar\": {\"outlinewidth\": 0, \"ticks\": \"\"}}, \"type\": \"scattercarpet\"}], \"scattergeo\": [{\"marker\": {\"colorbar\": {\"outlinewidth\": 0, \"ticks\": \"\"}}, \"type\": \"scattergeo\"}], \"scattergl\": [{\"marker\": {\"colorbar\": {\"outlinewidth\": 0, \"ticks\": \"\"}}, \"type\": \"scattergl\"}], \"scattermapbox\": [{\"marker\": {\"colorbar\": {\"outlinewidth\": 0, \"ticks\": \"\"}}, \"type\": \"scattermapbox\"}], \"scatterpolar\": [{\"marker\": {\"colorbar\": {\"outlinewidth\": 0, \"ticks\": \"\"}}, \"type\": \"scatterpolar\"}], \"scatterpolargl\": [{\"marker\": {\"colorbar\": {\"outlinewidth\": 0, \"ticks\": \"\"}}, \"type\": \"scatterpolargl\"}], \"scatterternary\": [{\"marker\": {\"colorbar\": {\"outlinewidth\": 0, \"ticks\": \"\"}}, \"type\": \"scatterternary\"}], \"surface\": [{\"colorbar\": {\"outlinewidth\": 0, \"ticks\": \"\"}, \"colorscale\": [[0.0, \"#0d0887\"], [0.1111111111111111, \"#46039f\"], [0.2222222222222222, \"#7201a8\"], [0.3333333333333333, \"#9c179e\"], [0.4444444444444444, \"#bd3786\"], [0.5555555555555556, \"#d8576b\"], [0.6666666666666666, \"#ed7953\"], [0.7777777777777778, \"#fb9f3a\"], [0.8888888888888888, \"#fdca26\"], [1.0, \"#f0f921\"]], \"type\": \"surface\"}], \"table\": [{\"cells\": {\"fill\": {\"color\": \"#EBF0F8\"}, \"line\": {\"color\": \"white\"}}, \"header\": {\"fill\": {\"color\": \"#C8D4E3\"}, \"line\": {\"color\": \"white\"}}, \"type\": \"table\"}]}, \"layout\": {\"annotationdefaults\": {\"arrowcolor\": \"#2a3f5f\", \"arrowhead\": 0, \"arrowwidth\": 1}, \"autotypenumbers\": \"strict\", \"coloraxis\": {\"colorbar\": {\"outlinewidth\": 0, \"ticks\": \"\"}}, \"colorscale\": {\"diverging\": [[0, \"#8e0152\"], [0.1, \"#c51b7d\"], [0.2, \"#de77ae\"], [0.3, \"#f1b6da\"], [0.4, \"#fde0ef\"], [0.5, \"#f7f7f7\"], [0.6, \"#e6f5d0\"], [0.7, \"#b8e186\"], [0.8, \"#7fbc41\"], [0.9, \"#4d9221\"], [1, \"#276419\"]], \"sequential\": [[0.0, \"#0d0887\"], [0.1111111111111111, \"#46039f\"], [0.2222222222222222, \"#7201a8\"], [0.3333333333333333, \"#9c179e\"], [0.4444444444444444, \"#bd3786\"], [0.5555555555555556, \"#d8576b\"], [0.6666666666666666, \"#ed7953\"], [0.7777777777777778, \"#fb9f3a\"], [0.8888888888888888, \"#fdca26\"], [1.0, \"#f0f921\"]], \"sequentialminus\": [[0.0, \"#0d0887\"], [0.1111111111111111, \"#46039f\"], [0.2222222222222222, \"#7201a8\"], [0.3333333333333333, \"#9c179e\"], [0.4444444444444444, \"#bd3786\"], [0.5555555555555556, \"#d8576b\"], [0.6666666666666666, \"#ed7953\"], [0.7777777777777778, \"#fb9f3a\"], [0.8888888888888888, \"#fdca26\"], [1.0, \"#f0f921\"]]}, \"colorway\": [\"#636efa\", \"#EF553B\", \"#00cc96\", \"#ab63fa\", \"#FFA15A\", \"#19d3f3\", \"#FF6692\", \"#B6E880\", \"#FF97FF\", \"#FECB52\"], \"font\": {\"color\": \"#2a3f5f\"}, \"geo\": {\"bgcolor\": \"white\", \"lakecolor\": \"white\", \"landcolor\": \"#E5ECF6\", \"showlakes\": true, \"showland\": true, \"subunitcolor\": \"white\"}, \"hoverlabel\": {\"align\": \"left\"}, \"hovermode\": \"closest\", \"mapbox\": {\"style\": \"light\"}, \"paper_bgcolor\": \"white\", \"plot_bgcolor\": \"#E5ECF6\", \"polar\": {\"angularaxis\": {\"gridcolor\": \"white\", \"linecolor\": \"white\", \"ticks\": \"\"}, \"bgcolor\": \"#E5ECF6\", \"radialaxis\": {\"gridcolor\": \"white\", \"linecolor\": \"white\", \"ticks\": \"\"}}, \"scene\": {\"xaxis\": {\"backgroundcolor\": \"#E5ECF6\", \"gridcolor\": \"white\", \"gridwidth\": 2, \"linecolor\": \"white\", \"showbackground\": true, \"ticks\": \"\", \"zerolinecolor\": \"white\"}, \"yaxis\": {\"backgroundcolor\": \"#E5ECF6\", \"gridcolor\": \"white\", \"gridwidth\": 2, \"linecolor\": \"white\", \"showbackground\": true, \"ticks\": \"\", \"zerolinecolor\": \"white\"}, \"zaxis\": {\"backgroundcolor\": \"#E5ECF6\", \"gridcolor\": \"white\", \"gridwidth\": 2, \"linecolor\": \"white\", \"showbackground\": true, \"ticks\": \"\", \"zerolinecolor\": \"white\"}}, \"shapedefaults\": {\"line\": {\"color\": \"#2a3f5f\"}}, \"ternary\": {\"aaxis\": {\"gridcolor\": \"white\", \"linecolor\": \"white\", \"ticks\": \"\"}, \"baxis\": {\"gridcolor\": \"white\", \"linecolor\": \"white\", \"ticks\": \"\"}, \"bgcolor\": \"#E5ECF6\", \"caxis\": {\"gridcolor\": \"white\", \"linecolor\": \"white\", \"ticks\": \"\"}}, \"title\": {\"x\": 0.05}, \"xaxis\": {\"automargin\": true, \"gridcolor\": \"white\", \"linecolor\": \"white\", \"ticks\": \"\", \"title\": {\"standoff\": 15}, \"zerolinecolor\": \"white\", \"zerolinewidth\": 2}, \"yaxis\": {\"automargin\": true, \"gridcolor\": \"white\", \"linecolor\": \"white\", \"ticks\": \"\", \"title\": {\"standoff\": 15}, \"zerolinecolor\": \"white\", \"zerolinewidth\": 2}}}, \"xaxis\": {\"anchor\": \"y\", \"domain\": [0.0, 1.0], \"title\": {\"text\": \"n_clusters\"}}, \"yaxis\": {\"anchor\": \"x\", \"domain\": [0.0, 1.0], \"title\": {\"text\": \"value\"}}},                        {\"responsive\": true}                    ).then(function(){\n",
              "                            \n",
              "var gd = document.getElementById('a8c678be-4134-4726-a369-838d8372323c');\n",
              "var x = new MutationObserver(function (mutations, observer) {{\n",
              "        var display = window.getComputedStyle(gd).display;\n",
              "        if (!display || display === 'none') {{\n",
              "            console.log([gd, 'removed!']);\n",
              "            Plotly.purge(gd);\n",
              "            observer.disconnect();\n",
              "        }}\n",
              "}});\n",
              "\n",
              "// Listen for the removal of the full notebook cells\n",
              "var notebookContainer = gd.closest('#notebook-container');\n",
              "if (notebookContainer) {{\n",
              "    x.observe(notebookContainer, {childList: true});\n",
              "}}\n",
              "\n",
              "// Listen for the clearing of the current output cell\n",
              "var outputEl = gd.closest('.output');\n",
              "if (outputEl) {{\n",
              "    x.observe(outputEl, {childList: true});\n",
              "}}\n",
              "\n",
              "                        })                };                            </script>        </div>\n",
              "</body>\n",
              "</html>"
            ]
          },
          "metadata": {
            "tags": []
          }
        }
      ]
    },
    {
      "cell_type": "code",
      "metadata": {
        "colab": {
          "base_uri": "https://localhost:8080/"
        },
        "id": "CdlzsvGMFbEY",
        "outputId": "dae56cf4-afaf-4c99-be2c-117c536c6435"
      },
      "source": [
        "#Ahora iniciemos con el Modelo Kmeans para k=3 (3 cluster):\n",
        "# El parametro de random_state es para establecer una semilla y el resultado no sea aleatorio en cada ejecucion\n",
        "k=3\n",
        "kMeans = KMeans(n_clusters=k, random_state=123)\n",
        "kMeans.fit(X=df_scale)"
      ],
      "execution_count": 9,
      "outputs": [
        {
          "output_type": "execute_result",
          "data": {
            "text/plain": [
              "KMeans(algorithm='auto', copy_x=True, init='k-means++', max_iter=300,\n",
              "       n_clusters=3, n_init=10, n_jobs=None, precompute_distances='auto',\n",
              "       random_state=123, tol=0.0001, verbose=0)"
            ]
          },
          "metadata": {
            "tags": []
          },
          "execution_count": 9
        }
      ]
    },
    {
      "cell_type": "code",
      "metadata": {
        "colab": {
          "base_uri": "https://localhost:8080/"
        },
        "id": "DUo_YaJuE_YL",
        "outputId": "775dee3c-a040-4c0e-b203-a6f1a5103495"
      },
      "source": [
        "kMeans.inertia_"
      ],
      "execution_count": 10,
      "outputs": [
        {
          "output_type": "execute_result",
          "data": {
            "text/plain": [
              "140.965816630747"
            ]
          },
          "metadata": {
            "tags": []
          },
          "execution_count": 10
        }
      ]
    },
    {
      "cell_type": "code",
      "metadata": {
        "colab": {
          "base_uri": "https://localhost:8080/"
        },
        "id": "CsP7njH1GteC",
        "outputId": "8d25c837-e3be-4b5a-a9d5-c2e1d8bd389e"
      },
      "source": [
        "kMeans.labels_"
      ],
      "execution_count": 12,
      "outputs": [
        {
          "output_type": "execute_result",
          "data": {
            "text/plain": [
              "array([1, 1, 1, 1, 1, 1, 1, 1, 1, 1, 1, 1, 1, 1, 1, 1, 1, 1, 1, 1, 1, 1,\n",
              "       1, 1, 2, 2, 2, 0, 0, 0, 2, 0, 0, 0, 0, 0, 0, 0, 0, 2, 0, 0, 0, 0,\n",
              "       2, 0, 0, 0, 0, 2, 2, 2, 0, 0, 0, 0, 0, 0, 0, 2, 2, 0, 0, 0, 0, 0,\n",
              "       0, 0, 0, 0, 0, 0, 0, 0, 2, 0, 2, 2, 2, 2, 0, 2, 2, 2, 2, 2, 2, 0,\n",
              "       0, 2, 2, 2, 2, 0, 2, 0, 2, 0, 2, 2, 0, 2, 2, 2, 2, 2, 2, 0, 0, 2,\n",
              "       2, 2, 0, 2, 2, 2, 0, 2, 2, 2, 0, 2, 2, 0, 1, 1, 1, 1, 1, 1, 1, 1,\n",
              "       1, 1, 1, 1, 1, 1, 1, 1, 1, 1, 1, 1, 1, 1, 1, 1, 1, 1], dtype=int32)"
            ]
          },
          "metadata": {
            "tags": []
          },
          "execution_count": 12
        }
      ]
    },
    {
      "cell_type": "code",
      "metadata": {
        "colab": {
          "base_uri": "https://localhost:8080/"
        },
        "id": "8Dsr5rdSGwa9",
        "outputId": "dd20eea0-e3f8-454d-fb4a-5cdb9da1c31e"
      },
      "source": [
        "kMeans.cluster_centers_"
      ],
      "execution_count": 13,
      "outputs": [
        {
          "output_type": "execute_result",
          "data": {
            "text/plain": [
              "array([[-0.05021989,  0.34753171, -0.88029181,  0.28206327],\n",
              "       [-1.01457897, -1.30487835,  0.84230679, -1.25512862],\n",
              "       [ 1.13597027,  0.996271  ,  0.09659843,  1.01717187]])"
            ]
          },
          "metadata": {
            "tags": []
          },
          "execution_count": 13
        }
      ]
    },
    {
      "cell_type": "code",
      "metadata": {
        "colab": {
          "base_uri": "https://localhost:8080/",
          "height": 542
        },
        "id": "W0TdaoQnIPUQ",
        "outputId": "66f77fa8-c85f-46e8-f5c6-98e8615ef81c"
      },
      "source": [
        "# Grafica con las variables escaladas\n",
        "# color continuo NO RECOMENDADO para visualizacion de clusters\n",
        "fig = px.scatter_matrix(df_scale, dimensions=df_scale.columns, color=kMeans.labels_)\n",
        "fig.show()"
      ],
      "execution_count": 16,
      "outputs": [
        {
          "output_type": "display_data",
          "data": {
            "text/html": [
              "<html>\n",
              "<head><meta charset=\"utf-8\" /></head>\n",
              "<body>\n",
              "    <div>            <script src=\"https://cdnjs.cloudflare.com/ajax/libs/mathjax/2.7.5/MathJax.js?config=TeX-AMS-MML_SVG\"></script><script type=\"text/javascript\">if (window.MathJax) {MathJax.Hub.Config({SVG: {font: \"STIX-Web\"}});}</script>                <script type=\"text/javascript\">window.PlotlyConfig = {MathJaxConfig: 'local'};</script>\n",
              "        <script src=\"https://cdn.plot.ly/plotly-latest.min.js\"></script>                <div id=\"07dcb735-6d81-49e0-8f48-d08a77213ea6\" class=\"plotly-graph-div\" style=\"height:525px; width:100%;\"></div>            <script type=\"text/javascript\">                                    window.PLOTLYENV=window.PLOTLYENV || {};                                    if (document.getElementById(\"07dcb735-6d81-49e0-8f48-d08a77213ea6\")) {                    Plotly.newPlot(                        \"07dcb735-6d81-49e0-8f48-d08a77213ea6\",                        [{\"dimensions\": [{\"axis\": {\"matches\": true}, \"label\": \"Temperatura\", \"values\": [-1.0218490407414598, -0.7795132998541571, -0.7795132998541571, -1.3853526520724135, -1.2641847816287624, -0.5371775589668545, -0.7795132998541571, -0.41600968852320325, -1.143016911185111, -1.0218490407414598, -0.41600968852320325, -1.143016911185111, -1.7488562634033673, -0.9006811702978084, -1.0218490407414598, -1.6276883929597161, -1.7488562634033673, -1.0218490407414598, -0.9006811702978084, -1.2641847816287624, -0.9006811702978084, -1.5065205225160647, -0.6583454294105058, -1.0218490407414598, 1.401508368131566, 0.6745011454696583, 1.280340497687915, -0.41600968852320325, 0.7956690159133096, -0.17367394763590063, 0.553333275026007, -1.143016911185111, 0.9168368863569609, -0.7795132998541571, -1.0218490407414598, 0.06866179325140194, 0.18982966369505322, 0.3109975341387045, -0.29484181807955195, 1.0380047568006123, -0.29484181807955195, -0.052506077192249354, 0.4321654045823558, -0.29484181807955195, 0.06866179325140194, 0.3109975341387045, 0.553333275026007, 0.3109975341387045, 0.6745011454696583, 0.9168368863569609, 1.1591726272442635, 1.0380047568006123, 0.18982966369505322, -0.17367394763590063, -0.41600968852320325, -0.41600968852320325, -0.052506077192249354, 0.18982966369505322, -0.5371775589668545, 0.18982966369505322, 1.0380047568006123, 0.553333275026007, -0.29484181807955195, -0.41600968852320325, -0.41600968852320325, 0.3109975341387045, -0.052506077192249354, -1.0218490407414598, -0.29484181807955195, -0.17367394763590063, -0.17367394763590063, 0.4321654045823558, -0.9006811702978084, -0.17367394763590063, 0.553333275026007, -0.052506077192249354, 1.5226762385752175, 0.553333275026007, 0.7956690159133096, 2.128515590793474, -1.143016911185111, 1.76501197946252, 1.0380047568006123, 1.6438441090188687, 0.7956690159133096, 0.6745011454696583, 1.1591726272442635, -0.17367394763590063, -0.052506077192249354, 0.6745011454696583, 0.7956690159133096, 2.249683461237125, 2.249683461237125, 0.18982966369505322, 1.280340497687915, -0.29484181807955195, 2.249683461237125, 0.553333275026007, 1.0380047568006123, 1.6438441090188687, 0.4321654045823558, 0.3109975341387045, 0.6745011454696583, 1.6438441090188687, 1.8861798499061713, 2.492019202124428, 0.6745011454696583, 0.553333275026007, 0.3109975341387045, 2.249683461237125, 0.553333275026007, 0.6745011454696583, 0.18982966369505322, 1.280340497687915, 1.0380047568006123, 1.280340497687915, -0.052506077192249354, 1.1591726272442635, 1.0380047568006123, 1.0380047568006123, 0.553333275026007, 0.7956690159133096, 0.4321654045823558, 0.06866179325140194, -0.9006811702978084, -1.143016911185111, -1.3853526520724135, -1.5065205225160647, -1.0218490407414598, -0.5371775589668545, -1.5065205225160647, -1.0218490407414598, -1.7488562634033673, -1.143016911185111, -0.5371775589668545, -1.2641847816287624, -1.2641847816287624, -1.8700241338470187, -0.052506077192249354, -0.17367394763590063, -0.5371775589668545, -0.9006811702978084, -0.17367394763590063, -0.9006811702978084, -0.5371775589668545, -0.9006811702978084, -1.5065205225160647, -0.9006811702978084, -1.2641847816287624, -1.0218490407414598]}, {\"axis\": {\"matches\": true}, \"label\": \"Velocidad\", \"values\": [-1.227540996781327, -1.2844067007705795, -1.341272404759832, -1.227540996781327, -1.227540996781327, -1.2844067007705795, -1.2844067007705795, -1.341272404759832, -1.2844067007705795, -1.4550038127383365, -1.398138108749084, -1.2844067007705795, -1.398138108749084, -1.2844067007705795, -1.398138108749084, -1.398138108749084, -1.398138108749084, -1.227540996781327, -1.0569438848135702, -1.341272404759832, -1.227540996781327, -1.341272404759832, -1.2844067007705795, -1.341272404759832, 0.5352958268854955, 0.42156441890699076, 0.6490272348640002, 0.13723589896072907, 0.4784301228962431, 0.42156441890699076, 0.5352958268854955, -0.26082402896403734, 0.4784301228962431, 0.08037019497147672, -0.14709262098553263, 0.25096730693923375, 0.13723589896072907, 0.5352958268854955, -0.0902269169962803, 0.3646987149177384, 0.42156441890699076, 0.1941016029499814, 0.42156441890699076, 0.08037019497147672, 0.5921615308747478, 0.13723589896072907, 0.6490272348640002, 0.5352958268854955, 0.3078330109284861, 0.3646987149177384, 0.5921615308747478, 0.7058929388532524, 0.42156441890699076, -0.14709262098553263, 0.023504490982224388, -0.033361213007027955, 0.08037019497147672, 0.7627586428425048, 0.42156441890699076, 0.42156441890699076, 0.5352958268854955, 0.3646987149177384, 0.1941016029499814, 0.13723589896072907, 0.3646987149177384, 0.4784301228962431, 0.13723589896072907, -0.26082402896403734, 0.25096730693923375, 0.25096730693923375, 0.25096730693923375, 0.3078330109284861, -0.43142114093179434, 0.1941016029499814, 1.274549978745776, 0.7627586428425048, 1.2176842747565235, 1.0470871627887666, 1.1608185707672711, 1.61574420268129, 0.42156441890699076, 1.4451470907135329, 1.1608185707672711, 1.3314156827350283, 0.7627586428425048, 0.8764900508210095, 0.9902214587995142, 0.7058929388532524, 0.7627586428425048, 0.8764900508210095, 0.9902214587995142, 1.6726099066705422, 1.786341314649047, 0.7058929388532524, 1.103952866778019, 0.6490272348640002, 1.6726099066705422, 0.6490272348640002, 1.103952866778019, 1.274549978745776, 0.5921615308747478, 0.6490272348640002, 1.0470871627887666, 1.1608185707672711, 1.3314156827350283, 1.5020127947027853, 1.0470871627887666, 0.7627586428425048, 1.0470871627887666, 1.3314156827350283, 1.0470871627887666, 0.9902214587995142, 0.5921615308747478, 0.9333557548102619, 1.0470871627887666, 0.7627586428425048, 0.7627586428425048, 1.2176842747565235, 1.103952866778019, 0.8196243468317571, 0.7058929388532524, 0.8196243468317571, 0.9333557548102619, 0.7627586428425048, -1.341272404759832, -1.341272404759832, -1.398138108749084, -1.2844067007705795, -1.341272404759832, -1.1706752927920747, -1.341272404759832, -1.2844067007705795, -1.341272404759832, -1.2844067007705795, -1.2844067007705795, -1.227540996781327, -1.341272404759832, -1.5118695167275888, -1.4550038127383365, -1.2844067007705795, -1.398138108749084, -1.341272404759832, -1.1706752927920747, -1.2844067007705795, -1.1706752927920747, -1.2844067007705795, -1.5687352207168412, -1.1706752927920747, -1.0569438848135702, -1.227540996781327]}, {\"axis\": {\"matches\": true}, \"label\": \"Elongacion\", \"values\": [0.8006542593569043, 1.0320572244889576, 0.8006542593569043, 0.3378483290927985, 0.10644536396074507, 0.8006542593569043, 2.420475015281276, 2.6518779804133303, 0.10644536396074507, 0.3378483290927985, 1.0320572244889576, 0.10644536396074507, -0.12495760117130832, 0.8006542593569043, 1.0320572244889576, -1.744778357095681, 0.3378483290927985, 1.0320572244889576, 1.7262661198851168, -0.12495760117130832, 1.7262661198851168, 0.3378483290927985, 1.4948631547530644, 0.5692512942248509, 0.3378483290927985, 0.3378483290927985, 0.10644536396074507, -1.744778357095681, -0.5877635314354152, -0.5877635314354152, 0.5692512942248509, -1.5133753919636277, -0.3563605663033617, -0.8191664965674674, -2.4389872524918403, -0.12495760117130832, -1.9761813222277334, -0.3563605663033617, -0.3563605663033617, 0.10644536396074507, -0.12495760117130832, -0.8191664965674674, -1.9761813222277334, -1.2819724268315742, 0.3378483290927985, -0.5877635314354152, -1.2819724268315742, -0.5877635314354152, -0.3563605663033617, -0.12495760117130832, -0.5877635314354152, -0.12495760117130832, -0.3563605663033617, -1.050569461699521, -1.5133753919636277, -1.5133753919636277, -0.8191664965674674, -0.8191664965674674, -0.12495760117130832, 0.8006542593569043, 0.10644536396074507, -1.744778357095681, -0.12495760117130832, -1.2819724268315742, -1.050569461699521, -0.12495760117130832, -1.050569461699521, -1.744778357095681, -0.8191664965674674, -0.12495760117130832, -0.3563605663033617, -0.3563605663033617, -1.2819724268315742, -0.5877635314354152, 0.5692512942248509, -0.8191664965674674, -0.12495760117130832, -0.3563605663033617, -0.12495760117130832, -0.12495760117130832, -1.2819724268315742, -0.3563605663033617, -1.2819724268315742, 1.263460189621011, 0.3378483290927985, -0.8191664965674674, -0.12495760117130832, -1.2819724268315742, -0.5877635314354152, 0.3378483290927985, -0.12495760117130832, 1.7262661198851168, -1.050569461699521, -1.9761813222277334, 0.3378483290927985, -0.5877635314354152, -0.5877635314354152, -0.8191664965674674, 0.5692512942248509, 0.3378483290927985, -0.5877635314354152, -0.12495760117130832, -0.5877635314354152, -0.12495760117130832, -0.5877635314354152, 1.7262661198851168, -0.5877635314354152, -0.5877635314354152, -1.050569461699521, -0.12495760117130832, 0.8006542593569043, 0.10644536396074507, -0.12495760117130832, 0.10644536396074507, 0.10644536396074507, 0.10644536396074507, -0.8191664965674674, 0.3378483290927985, 0.5692512942248509, -0.12495760117130832, -1.2819724268315742, -0.12495760117130832, 0.8006542593569043, -0.12495760117130832, 1.0320572244889576, -0.12495760117130832, 0.3378483290927985, 0.10644536396074507, 1.263460189621011, 1.95766908501717, 0.8006542593569043, 0.8006542593569043, -0.3563605663033617, 0.10644536396074507, 1.4948631547530644, 0.8006542593569043, -0.12495760117130832, -0.12495760117130832, 2.1890720501492233, 3.1146839106774373, 1.95766908501717, 1.0320572244889576, 1.7262661198851168, 1.7262661198851168, 0.8006542593569043, 1.4948631547530644, 1.263460189621011, 0.5692512942248509, 0.8006542593569043, -0.12495760117130832]}, {\"axis\": {\"matches\": true}, \"label\": \"Diametro\", \"values\": [-1.0500307872213979, -1.3129767272601451, -1.3129767272601451, -1.3129767272601451, -1.3129767272601451, -1.0500307872213979, -1.4444496972795187, -1.3129767272601451, -1.4444496972795187, -1.3129767272601451, -1.3129767272601451, -1.4444496972795187, -1.3129767272601451, -1.3129767272601451, -1.1815037572407714, -1.1815037572407714, -1.3129767272601451, -0.7870848471826505, -1.0500307872213979, -1.1815037572407714, -1.3129767272601451, -1.3129767272601451, -1.3129767272601451, -1.3129767272601451, 0.2646989129723387, 0.3961718829917125, 0.3961718829917125, 0.13322594295296525, 0.3961718829917125, 0.13322594295296525, 0.5276448530110863, -0.2611929671051558, 0.13322594295296525, 0.2646989129723387, -0.2611929671051558, 0.3961718829917125, -0.2611929671051558, 0.2646989129723387, 0.13322594295296525, 0.2646989129723387, 0.3961718829917125, -0.2611929671051558, 0.3961718829917125, -0.12971999708578202, 0.7905907930498336, 0.13322594295296525, 0.3961718829917125, 0.0017529729335914559, 0.13322594295296525, 0.2646989129723387, 0.2646989129723387, 0.6591178230304597, 0.3961718829917125, -0.2611929671051558, -0.12971999708578202, -0.2611929671051558, 0.0017529729335914559, 0.5276448530110863, 0.3961718829917125, 0.5276448530110863, 0.3961718829917125, 0.13322594295296525, 0.13322594295296525, 0.13322594295296525, 0.0017529729335914559, 0.2646989129723387, 0.0017529729335914559, -0.2611929671051558, 0.13322594295296525, 0.0017529729335914559, 0.13322594295296525, 0.13322594295296525, -0.12971999708578202, 0.13322594295296525, 1.710901583185449, 0.922063763069207, 1.1850097031079545, 0.7905907930498336, 1.3164826731273285, 1.1850097031079545, 0.6591178230304597, 0.7905907930498336, 0.7905907930498336, 1.710901583185449, 1.0535367330885808, 0.922063763069207, 1.1850097031079545, 1.0535367330885808, 1.5794286131660753, 1.4479556431467016, 0.7905907930498336, 1.3164826731273285, 1.4479556431467016, 0.3961718829917125, 1.4479556431467016, 1.0535367330885808, 1.0535367330885808, 0.7905907930498336, 1.1850097031079545, 0.7905907930498336, 0.7905907930498336, 0.7905907930498336, 1.1850097031079545, 0.5276448530110863, 0.922063763069207, 1.0535367330885808, 1.3164826731273285, 0.3961718829917125, 0.2646989129723387, 1.4479556431467016, 1.5794286131660753, 0.7905907930498336, 0.7905907930498336, 1.1850097031079545, 1.5794286131660753, 1.4479556431467016, 0.922063763069207, 1.4479556431467016, 1.710901583185449, 1.4479556431467016, 0.922063763069207, 1.0535367330885808, 1.4479556431467016, 0.7905907930498336, -1.3129767272601451, -1.3129767272601451, -1.3129767272601451, -1.3129767272601451, -1.3129767272601451, -1.0500307872213979, -1.1815037572407714, -1.3129767272601451, -1.3129767272601451, -1.4444496972795187, -1.3129767272601451, -1.3129767272601451, -1.4444496972795187, -1.4444496972795187, -1.3129767272601451, -1.0500307872213979, -1.0500307872213979, -1.1815037572407714, -1.1815037572407714, -1.1815037572407714, -1.3129767272601451, -1.0500307872213979, -1.3129767272601451, -0.9185578172020241, -1.3129767272601451, -1.3129767272601451]}], \"hovertemplate\": \"%{xaxis.title.text}=%{x}<br>%{yaxis.title.text}=%{y}<br>color=%{marker.color}<extra></extra>\", \"legendgroup\": \"\", \"marker\": {\"color\": [1, 1, 1, 1, 1, 1, 1, 1, 1, 1, 1, 1, 1, 1, 1, 1, 1, 1, 1, 1, 1, 1, 1, 1, 2, 2, 2, 0, 0, 0, 2, 0, 0, 0, 0, 0, 0, 0, 0, 2, 0, 0, 0, 0, 2, 0, 0, 0, 0, 2, 2, 2, 0, 0, 0, 0, 0, 0, 0, 2, 2, 0, 0, 0, 0, 0, 0, 0, 0, 0, 0, 0, 0, 0, 2, 0, 2, 2, 2, 2, 0, 2, 2, 2, 2, 2, 2, 0, 0, 2, 2, 2, 2, 0, 2, 0, 2, 0, 2, 2, 0, 2, 2, 2, 2, 2, 2, 0, 0, 2, 2, 2, 0, 2, 2, 2, 0, 2, 2, 2, 0, 2, 2, 0, 1, 1, 1, 1, 1, 1, 1, 1, 1, 1, 1, 1, 1, 1, 1, 1, 1, 1, 1, 1, 1, 1, 1, 1, 1, 1], \"coloraxis\": \"coloraxis\", \"symbol\": \"circle\"}, \"name\": \"\", \"showlegend\": false, \"type\": \"splom\"}],                        {\"coloraxis\": {\"colorbar\": {\"title\": {\"text\": \"color\"}}, \"colorscale\": [[0.0, \"#0d0887\"], [0.1111111111111111, \"#46039f\"], [0.2222222222222222, \"#7201a8\"], [0.3333333333333333, \"#9c179e\"], [0.4444444444444444, \"#bd3786\"], [0.5555555555555556, \"#d8576b\"], [0.6666666666666666, \"#ed7953\"], [0.7777777777777778, \"#fb9f3a\"], [0.8888888888888888, \"#fdca26\"], [1.0, \"#f0f921\"]]}, \"dragmode\": \"select\", \"legend\": {\"tracegroupgap\": 0}, \"margin\": {\"t\": 60}, \"template\": {\"data\": {\"bar\": [{\"error_x\": {\"color\": \"#2a3f5f\"}, \"error_y\": {\"color\": \"#2a3f5f\"}, \"marker\": {\"line\": {\"color\": \"#E5ECF6\", \"width\": 0.5}}, \"type\": \"bar\"}], \"barpolar\": [{\"marker\": {\"line\": {\"color\": \"#E5ECF6\", \"width\": 0.5}}, \"type\": \"barpolar\"}], \"carpet\": [{\"aaxis\": {\"endlinecolor\": \"#2a3f5f\", \"gridcolor\": \"white\", \"linecolor\": \"white\", \"minorgridcolor\": \"white\", \"startlinecolor\": \"#2a3f5f\"}, \"baxis\": {\"endlinecolor\": \"#2a3f5f\", \"gridcolor\": \"white\", \"linecolor\": \"white\", \"minorgridcolor\": \"white\", \"startlinecolor\": \"#2a3f5f\"}, \"type\": \"carpet\"}], \"choropleth\": [{\"colorbar\": {\"outlinewidth\": 0, \"ticks\": \"\"}, \"type\": \"choropleth\"}], \"contour\": [{\"colorbar\": {\"outlinewidth\": 0, \"ticks\": \"\"}, \"colorscale\": [[0.0, \"#0d0887\"], [0.1111111111111111, \"#46039f\"], [0.2222222222222222, \"#7201a8\"], [0.3333333333333333, \"#9c179e\"], [0.4444444444444444, \"#bd3786\"], [0.5555555555555556, \"#d8576b\"], [0.6666666666666666, \"#ed7953\"], [0.7777777777777778, \"#fb9f3a\"], [0.8888888888888888, \"#fdca26\"], [1.0, \"#f0f921\"]], \"type\": \"contour\"}], \"contourcarpet\": [{\"colorbar\": {\"outlinewidth\": 0, \"ticks\": \"\"}, \"type\": \"contourcarpet\"}], \"heatmap\": [{\"colorbar\": {\"outlinewidth\": 0, \"ticks\": \"\"}, \"colorscale\": [[0.0, \"#0d0887\"], [0.1111111111111111, \"#46039f\"], [0.2222222222222222, \"#7201a8\"], [0.3333333333333333, \"#9c179e\"], [0.4444444444444444, \"#bd3786\"], [0.5555555555555556, \"#d8576b\"], [0.6666666666666666, \"#ed7953\"], [0.7777777777777778, \"#fb9f3a\"], [0.8888888888888888, \"#fdca26\"], [1.0, \"#f0f921\"]], \"type\": \"heatmap\"}], \"heatmapgl\": [{\"colorbar\": {\"outlinewidth\": 0, \"ticks\": \"\"}, \"colorscale\": [[0.0, \"#0d0887\"], [0.1111111111111111, \"#46039f\"], [0.2222222222222222, \"#7201a8\"], [0.3333333333333333, \"#9c179e\"], [0.4444444444444444, \"#bd3786\"], [0.5555555555555556, \"#d8576b\"], [0.6666666666666666, \"#ed7953\"], [0.7777777777777778, \"#fb9f3a\"], [0.8888888888888888, \"#fdca26\"], [1.0, \"#f0f921\"]], \"type\": \"heatmapgl\"}], \"histogram\": [{\"marker\": {\"colorbar\": {\"outlinewidth\": 0, \"ticks\": \"\"}}, \"type\": \"histogram\"}], \"histogram2d\": [{\"colorbar\": {\"outlinewidth\": 0, \"ticks\": \"\"}, \"colorscale\": [[0.0, \"#0d0887\"], [0.1111111111111111, \"#46039f\"], [0.2222222222222222, \"#7201a8\"], [0.3333333333333333, \"#9c179e\"], [0.4444444444444444, \"#bd3786\"], [0.5555555555555556, \"#d8576b\"], [0.6666666666666666, \"#ed7953\"], [0.7777777777777778, \"#fb9f3a\"], [0.8888888888888888, \"#fdca26\"], [1.0, \"#f0f921\"]], \"type\": \"histogram2d\"}], \"histogram2dcontour\": [{\"colorbar\": {\"outlinewidth\": 0, \"ticks\": \"\"}, \"colorscale\": [[0.0, \"#0d0887\"], [0.1111111111111111, \"#46039f\"], [0.2222222222222222, \"#7201a8\"], [0.3333333333333333, \"#9c179e\"], [0.4444444444444444, \"#bd3786\"], [0.5555555555555556, \"#d8576b\"], [0.6666666666666666, \"#ed7953\"], [0.7777777777777778, \"#fb9f3a\"], [0.8888888888888888, \"#fdca26\"], [1.0, \"#f0f921\"]], \"type\": \"histogram2dcontour\"}], \"mesh3d\": [{\"colorbar\": {\"outlinewidth\": 0, \"ticks\": \"\"}, \"type\": \"mesh3d\"}], \"parcoords\": [{\"line\": {\"colorbar\": {\"outlinewidth\": 0, \"ticks\": \"\"}}, \"type\": \"parcoords\"}], \"pie\": [{\"automargin\": true, \"type\": \"pie\"}], \"scatter\": [{\"marker\": {\"colorbar\": {\"outlinewidth\": 0, \"ticks\": \"\"}}, \"type\": \"scatter\"}], \"scatter3d\": [{\"line\": {\"colorbar\": {\"outlinewidth\": 0, \"ticks\": \"\"}}, \"marker\": {\"colorbar\": {\"outlinewidth\": 0, \"ticks\": \"\"}}, \"type\": \"scatter3d\"}], \"scattercarpet\": [{\"marker\": {\"colorbar\": {\"outlinewidth\": 0, \"ticks\": \"\"}}, \"type\": \"scattercarpet\"}], \"scattergeo\": [{\"marker\": {\"colorbar\": {\"outlinewidth\": 0, \"ticks\": \"\"}}, \"type\": \"scattergeo\"}], \"scattergl\": [{\"marker\": {\"colorbar\": {\"outlinewidth\": 0, \"ticks\": \"\"}}, \"type\": \"scattergl\"}], \"scattermapbox\": [{\"marker\": {\"colorbar\": {\"outlinewidth\": 0, \"ticks\": \"\"}}, \"type\": \"scattermapbox\"}], \"scatterpolar\": [{\"marker\": {\"colorbar\": {\"outlinewidth\": 0, \"ticks\": \"\"}}, \"type\": \"scatterpolar\"}], \"scatterpolargl\": [{\"marker\": {\"colorbar\": {\"outlinewidth\": 0, \"ticks\": \"\"}}, \"type\": \"scatterpolargl\"}], \"scatterternary\": [{\"marker\": {\"colorbar\": {\"outlinewidth\": 0, \"ticks\": \"\"}}, \"type\": \"scatterternary\"}], \"surface\": [{\"colorbar\": {\"outlinewidth\": 0, \"ticks\": \"\"}, \"colorscale\": [[0.0, \"#0d0887\"], [0.1111111111111111, \"#46039f\"], [0.2222222222222222, \"#7201a8\"], [0.3333333333333333, \"#9c179e\"], [0.4444444444444444, \"#bd3786\"], [0.5555555555555556, \"#d8576b\"], [0.6666666666666666, \"#ed7953\"], [0.7777777777777778, \"#fb9f3a\"], [0.8888888888888888, \"#fdca26\"], [1.0, \"#f0f921\"]], \"type\": \"surface\"}], \"table\": [{\"cells\": {\"fill\": {\"color\": \"#EBF0F8\"}, \"line\": {\"color\": \"white\"}}, \"header\": {\"fill\": {\"color\": \"#C8D4E3\"}, \"line\": {\"color\": \"white\"}}, \"type\": \"table\"}]}, \"layout\": {\"annotationdefaults\": {\"arrowcolor\": \"#2a3f5f\", \"arrowhead\": 0, \"arrowwidth\": 1}, \"autotypenumbers\": \"strict\", \"coloraxis\": {\"colorbar\": {\"outlinewidth\": 0, \"ticks\": \"\"}}, \"colorscale\": {\"diverging\": [[0, \"#8e0152\"], [0.1, \"#c51b7d\"], [0.2, \"#de77ae\"], [0.3, \"#f1b6da\"], [0.4, \"#fde0ef\"], [0.5, \"#f7f7f7\"], [0.6, \"#e6f5d0\"], [0.7, \"#b8e186\"], [0.8, \"#7fbc41\"], [0.9, \"#4d9221\"], [1, \"#276419\"]], \"sequential\": [[0.0, \"#0d0887\"], [0.1111111111111111, \"#46039f\"], [0.2222222222222222, \"#7201a8\"], [0.3333333333333333, \"#9c179e\"], [0.4444444444444444, \"#bd3786\"], [0.5555555555555556, \"#d8576b\"], [0.6666666666666666, \"#ed7953\"], [0.7777777777777778, \"#fb9f3a\"], [0.8888888888888888, \"#fdca26\"], [1.0, \"#f0f921\"]], \"sequentialminus\": [[0.0, \"#0d0887\"], [0.1111111111111111, \"#46039f\"], [0.2222222222222222, \"#7201a8\"], [0.3333333333333333, \"#9c179e\"], [0.4444444444444444, \"#bd3786\"], [0.5555555555555556, \"#d8576b\"], [0.6666666666666666, \"#ed7953\"], [0.7777777777777778, \"#fb9f3a\"], [0.8888888888888888, \"#fdca26\"], [1.0, \"#f0f921\"]]}, \"colorway\": [\"#636efa\", \"#EF553B\", \"#00cc96\", \"#ab63fa\", \"#FFA15A\", \"#19d3f3\", \"#FF6692\", \"#B6E880\", \"#FF97FF\", \"#FECB52\"], \"font\": {\"color\": \"#2a3f5f\"}, \"geo\": {\"bgcolor\": \"white\", \"lakecolor\": \"white\", \"landcolor\": \"#E5ECF6\", \"showlakes\": true, \"showland\": true, \"subunitcolor\": \"white\"}, \"hoverlabel\": {\"align\": \"left\"}, \"hovermode\": \"closest\", \"mapbox\": {\"style\": \"light\"}, \"paper_bgcolor\": \"white\", \"plot_bgcolor\": \"#E5ECF6\", \"polar\": {\"angularaxis\": {\"gridcolor\": \"white\", \"linecolor\": \"white\", \"ticks\": \"\"}, \"bgcolor\": \"#E5ECF6\", \"radialaxis\": {\"gridcolor\": \"white\", \"linecolor\": \"white\", \"ticks\": \"\"}}, \"scene\": {\"xaxis\": {\"backgroundcolor\": \"#E5ECF6\", \"gridcolor\": \"white\", \"gridwidth\": 2, \"linecolor\": \"white\", \"showbackground\": true, \"ticks\": \"\", \"zerolinecolor\": \"white\"}, \"yaxis\": {\"backgroundcolor\": \"#E5ECF6\", \"gridcolor\": \"white\", \"gridwidth\": 2, \"linecolor\": \"white\", \"showbackground\": true, \"ticks\": \"\", \"zerolinecolor\": \"white\"}, \"zaxis\": {\"backgroundcolor\": \"#E5ECF6\", \"gridcolor\": \"white\", \"gridwidth\": 2, \"linecolor\": \"white\", \"showbackground\": true, \"ticks\": \"\", \"zerolinecolor\": \"white\"}}, \"shapedefaults\": {\"line\": {\"color\": \"#2a3f5f\"}}, \"ternary\": {\"aaxis\": {\"gridcolor\": \"white\", \"linecolor\": \"white\", \"ticks\": \"\"}, \"baxis\": {\"gridcolor\": \"white\", \"linecolor\": \"white\", \"ticks\": \"\"}, \"bgcolor\": \"#E5ECF6\", \"caxis\": {\"gridcolor\": \"white\", \"linecolor\": \"white\", \"ticks\": \"\"}}, \"title\": {\"x\": 0.05}, \"xaxis\": {\"automargin\": true, \"gridcolor\": \"white\", \"linecolor\": \"white\", \"ticks\": \"\", \"title\": {\"standoff\": 15}, \"zerolinecolor\": \"white\", \"zerolinewidth\": 2}, \"yaxis\": {\"automargin\": true, \"gridcolor\": \"white\", \"linecolor\": \"white\", \"ticks\": \"\", \"title\": {\"standoff\": 15}, \"zerolinecolor\": \"white\", \"zerolinewidth\": 2}}}},                        {\"responsive\": true}                    ).then(function(){\n",
              "                            \n",
              "var gd = document.getElementById('07dcb735-6d81-49e0-8f48-d08a77213ea6');\n",
              "var x = new MutationObserver(function (mutations, observer) {{\n",
              "        var display = window.getComputedStyle(gd).display;\n",
              "        if (!display || display === 'none') {{\n",
              "            console.log([gd, 'removed!']);\n",
              "            Plotly.purge(gd);\n",
              "            observer.disconnect();\n",
              "        }}\n",
              "}});\n",
              "\n",
              "// Listen for the removal of the full notebook cells\n",
              "var notebookContainer = gd.closest('#notebook-container');\n",
              "if (notebookContainer) {{\n",
              "    x.observe(notebookContainer, {childList: true});\n",
              "}}\n",
              "\n",
              "// Listen for the clearing of the current output cell\n",
              "var outputEl = gd.closest('.output');\n",
              "if (outputEl) {{\n",
              "    x.observe(outputEl, {childList: true});\n",
              "}}\n",
              "\n",
              "                        })                };                            </script>        </div>\n",
              "</body>\n",
              "</html>"
            ]
          },
          "metadata": {
            "tags": []
          }
        }
      ]
    },
    {
      "cell_type": "code",
      "metadata": {
        "colab": {
          "base_uri": "https://localhost:8080/",
          "height": 542
        },
        "id": "1Z-PqHuJNycy",
        "outputId": "575b94b3-7701-43a6-e67e-2880b20cb938"
      },
      "source": [
        "# Grafica con las variables escaladas\n",
        "# color discreto RECOMENDADO para visualizacion de clusters\n",
        "fig = px.scatter_matrix(df_scale, dimensions=df_scale.columns, color=kMeans.labels_.astype(str))\n",
        "fig.show()"
      ],
      "execution_count": 17,
      "outputs": [
        {
          "output_type": "display_data",
          "data": {
            "text/html": [
              "<html>\n",
              "<head><meta charset=\"utf-8\" /></head>\n",
              "<body>\n",
              "    <div>            <script src=\"https://cdnjs.cloudflare.com/ajax/libs/mathjax/2.7.5/MathJax.js?config=TeX-AMS-MML_SVG\"></script><script type=\"text/javascript\">if (window.MathJax) {MathJax.Hub.Config({SVG: {font: \"STIX-Web\"}});}</script>                <script type=\"text/javascript\">window.PlotlyConfig = {MathJaxConfig: 'local'};</script>\n",
              "        <script src=\"https://cdn.plot.ly/plotly-latest.min.js\"></script>                <div id=\"41bf24ad-7b09-4d0d-acdd-d245b2c3d4cb\" class=\"plotly-graph-div\" style=\"height:525px; width:100%;\"></div>            <script type=\"text/javascript\">                                    window.PLOTLYENV=window.PLOTLYENV || {};                                    if (document.getElementById(\"41bf24ad-7b09-4d0d-acdd-d245b2c3d4cb\")) {                    Plotly.newPlot(                        \"41bf24ad-7b09-4d0d-acdd-d245b2c3d4cb\",                        [{\"dimensions\": [{\"axis\": {\"matches\": true}, \"label\": \"Temperatura\", \"values\": [-1.0218490407414598, -0.7795132998541571, -0.7795132998541571, -1.3853526520724135, -1.2641847816287624, -0.5371775589668545, -0.7795132998541571, -0.41600968852320325, -1.143016911185111, -1.0218490407414598, -0.41600968852320325, -1.143016911185111, -1.7488562634033673, -0.9006811702978084, -1.0218490407414598, -1.6276883929597161, -1.7488562634033673, -1.0218490407414598, -0.9006811702978084, -1.2641847816287624, -0.9006811702978084, -1.5065205225160647, -0.6583454294105058, -1.0218490407414598, -0.9006811702978084, -1.143016911185111, -1.3853526520724135, -1.5065205225160647, -1.0218490407414598, -0.5371775589668545, -1.5065205225160647, -1.0218490407414598, -1.7488562634033673, -1.143016911185111, -0.5371775589668545, -1.2641847816287624, -1.2641847816287624, -1.8700241338470187, -0.052506077192249354, -0.17367394763590063, -0.5371775589668545, -0.9006811702978084, -0.17367394763590063, -0.9006811702978084, -0.5371775589668545, -0.9006811702978084, -1.5065205225160647, -0.9006811702978084, -1.2641847816287624, -1.0218490407414598]}, {\"axis\": {\"matches\": true}, \"label\": \"Velocidad\", \"values\": [-1.227540996781327, -1.2844067007705795, -1.341272404759832, -1.227540996781327, -1.227540996781327, -1.2844067007705795, -1.2844067007705795, -1.341272404759832, -1.2844067007705795, -1.4550038127383365, -1.398138108749084, -1.2844067007705795, -1.398138108749084, -1.2844067007705795, -1.398138108749084, -1.398138108749084, -1.398138108749084, -1.227540996781327, -1.0569438848135702, -1.341272404759832, -1.227540996781327, -1.341272404759832, -1.2844067007705795, -1.341272404759832, -1.341272404759832, -1.341272404759832, -1.398138108749084, -1.2844067007705795, -1.341272404759832, -1.1706752927920747, -1.341272404759832, -1.2844067007705795, -1.341272404759832, -1.2844067007705795, -1.2844067007705795, -1.227540996781327, -1.341272404759832, -1.5118695167275888, -1.4550038127383365, -1.2844067007705795, -1.398138108749084, -1.341272404759832, -1.1706752927920747, -1.2844067007705795, -1.1706752927920747, -1.2844067007705795, -1.5687352207168412, -1.1706752927920747, -1.0569438848135702, -1.227540996781327]}, {\"axis\": {\"matches\": true}, \"label\": \"Elongacion\", \"values\": [0.8006542593569043, 1.0320572244889576, 0.8006542593569043, 0.3378483290927985, 0.10644536396074507, 0.8006542593569043, 2.420475015281276, 2.6518779804133303, 0.10644536396074507, 0.3378483290927985, 1.0320572244889576, 0.10644536396074507, -0.12495760117130832, 0.8006542593569043, 1.0320572244889576, -1.744778357095681, 0.3378483290927985, 1.0320572244889576, 1.7262661198851168, -0.12495760117130832, 1.7262661198851168, 0.3378483290927985, 1.4948631547530644, 0.5692512942248509, 1.0320572244889576, -0.12495760117130832, 0.3378483290927985, 0.10644536396074507, 1.263460189621011, 1.95766908501717, 0.8006542593569043, 0.8006542593569043, -0.3563605663033617, 0.10644536396074507, 1.4948631547530644, 0.8006542593569043, -0.12495760117130832, -0.12495760117130832, 2.1890720501492233, 3.1146839106774373, 1.95766908501717, 1.0320572244889576, 1.7262661198851168, 1.7262661198851168, 0.8006542593569043, 1.4948631547530644, 1.263460189621011, 0.5692512942248509, 0.8006542593569043, -0.12495760117130832]}, {\"axis\": {\"matches\": true}, \"label\": \"Diametro\", \"values\": [-1.0500307872213979, -1.3129767272601451, -1.3129767272601451, -1.3129767272601451, -1.3129767272601451, -1.0500307872213979, -1.4444496972795187, -1.3129767272601451, -1.4444496972795187, -1.3129767272601451, -1.3129767272601451, -1.4444496972795187, -1.3129767272601451, -1.3129767272601451, -1.1815037572407714, -1.1815037572407714, -1.3129767272601451, -0.7870848471826505, -1.0500307872213979, -1.1815037572407714, -1.3129767272601451, -1.3129767272601451, -1.3129767272601451, -1.3129767272601451, -1.3129767272601451, -1.3129767272601451, -1.3129767272601451, -1.3129767272601451, -1.3129767272601451, -1.0500307872213979, -1.1815037572407714, -1.3129767272601451, -1.3129767272601451, -1.4444496972795187, -1.3129767272601451, -1.3129767272601451, -1.4444496972795187, -1.4444496972795187, -1.3129767272601451, -1.0500307872213979, -1.0500307872213979, -1.1815037572407714, -1.1815037572407714, -1.1815037572407714, -1.3129767272601451, -1.0500307872213979, -1.3129767272601451, -0.9185578172020241, -1.3129767272601451, -1.3129767272601451]}], \"hovertemplate\": \"color=1<br>%{xaxis.title.text}=%{x}<br>%{yaxis.title.text}=%{y}<extra></extra>\", \"legendgroup\": \"1\", \"marker\": {\"color\": \"#636efa\", \"symbol\": \"circle\"}, \"name\": \"1\", \"showlegend\": true, \"type\": \"splom\"}, {\"dimensions\": [{\"axis\": {\"matches\": true}, \"label\": \"Temperatura\", \"values\": [1.401508368131566, 0.6745011454696583, 1.280340497687915, 0.553333275026007, 1.0380047568006123, 0.06866179325140194, 0.9168368863569609, 1.1591726272442635, 1.0380047568006123, 0.18982966369505322, 1.0380047568006123, 0.553333275026007, 1.5226762385752175, 0.553333275026007, 0.7956690159133096, 2.128515590793474, 1.76501197946252, 1.0380047568006123, 1.6438441090188687, 0.7956690159133096, 0.6745011454696583, 1.1591726272442635, 0.6745011454696583, 0.7956690159133096, 2.249683461237125, 2.249683461237125, 1.280340497687915, 2.249683461237125, 1.0380047568006123, 1.6438441090188687, 0.3109975341387045, 0.6745011454696583, 1.6438441090188687, 1.8861798499061713, 2.492019202124428, 0.6745011454696583, 2.249683461237125, 0.553333275026007, 0.6745011454696583, 1.280340497687915, 1.0380047568006123, 1.280340497687915, 1.1591726272442635, 1.0380047568006123, 1.0380047568006123, 0.7956690159133096, 0.4321654045823558]}, {\"axis\": {\"matches\": true}, \"label\": \"Velocidad\", \"values\": [0.5352958268854955, 0.42156441890699076, 0.6490272348640002, 0.5352958268854955, 0.3646987149177384, 0.5921615308747478, 0.3646987149177384, 0.5921615308747478, 0.7058929388532524, 0.42156441890699076, 0.5352958268854955, 1.274549978745776, 1.2176842747565235, 1.0470871627887666, 1.1608185707672711, 1.61574420268129, 1.4451470907135329, 1.1608185707672711, 1.3314156827350283, 0.7627586428425048, 0.8764900508210095, 0.9902214587995142, 0.8764900508210095, 0.9902214587995142, 1.6726099066705422, 1.786341314649047, 1.103952866778019, 1.6726099066705422, 1.103952866778019, 1.274549978745776, 0.6490272348640002, 1.0470871627887666, 1.1608185707672711, 1.3314156827350283, 1.5020127947027853, 1.0470871627887666, 1.3314156827350283, 1.0470871627887666, 0.9902214587995142, 0.9333557548102619, 1.0470871627887666, 0.7627586428425048, 1.2176842747565235, 1.103952866778019, 0.8196243468317571, 0.8196243468317571, 0.9333557548102619]}, {\"axis\": {\"matches\": true}, \"label\": \"Elongacion\", \"values\": [0.3378483290927985, 0.3378483290927985, 0.10644536396074507, 0.5692512942248509, 0.10644536396074507, 0.3378483290927985, -0.12495760117130832, -0.5877635314354152, -0.12495760117130832, 0.8006542593569043, 0.10644536396074507, 0.5692512942248509, -0.12495760117130832, -0.3563605663033617, -0.12495760117130832, -0.12495760117130832, -0.3563605663033617, -1.2819724268315742, 1.263460189621011, 0.3378483290927985, -0.8191664965674674, -0.12495760117130832, 0.3378483290927985, -0.12495760117130832, 1.7262661198851168, -1.050569461699521, 0.3378483290927985, -0.5877635314354152, 0.5692512942248509, 0.3378483290927985, -0.12495760117130832, -0.5877635314354152, -0.12495760117130832, -0.5877635314354152, 1.7262661198851168, -0.5877635314354152, -0.12495760117130832, 0.8006542593569043, 0.10644536396074507, 0.10644536396074507, 0.10644536396074507, 0.10644536396074507, 0.3378483290927985, 0.5692512942248509, -0.12495760117130832, -0.12495760117130832, 0.8006542593569043]}, {\"axis\": {\"matches\": true}, \"label\": \"Diametro\", \"values\": [0.2646989129723387, 0.3961718829917125, 0.3961718829917125, 0.5276448530110863, 0.2646989129723387, 0.7905907930498336, 0.2646989129723387, 0.2646989129723387, 0.6591178230304597, 0.5276448530110863, 0.3961718829917125, 1.710901583185449, 1.1850097031079545, 0.7905907930498336, 1.3164826731273285, 1.1850097031079545, 0.7905907930498336, 0.7905907930498336, 1.710901583185449, 1.0535367330885808, 0.922063763069207, 1.1850097031079545, 1.4479556431467016, 0.7905907930498336, 1.3164826731273285, 1.4479556431467016, 1.4479556431467016, 1.0535367330885808, 1.1850097031079545, 0.7905907930498336, 0.7905907930498336, 1.1850097031079545, 0.5276448530110863, 0.922063763069207, 1.0535367330885808, 1.3164826731273285, 1.4479556431467016, 1.5794286131660753, 0.7905907930498336, 1.1850097031079545, 1.5794286131660753, 1.4479556431467016, 1.4479556431467016, 1.710901583185449, 1.4479556431467016, 1.0535367330885808, 1.4479556431467016]}], \"hovertemplate\": \"color=2<br>%{xaxis.title.text}=%{x}<br>%{yaxis.title.text}=%{y}<extra></extra>\", \"legendgroup\": \"2\", \"marker\": {\"color\": \"#EF553B\", \"symbol\": \"circle\"}, \"name\": \"2\", \"showlegend\": true, \"type\": \"splom\"}, {\"dimensions\": [{\"axis\": {\"matches\": true}, \"label\": \"Temperatura\", \"values\": [-0.41600968852320325, 0.7956690159133096, -0.17367394763590063, -1.143016911185111, 0.9168368863569609, -0.7795132998541571, -1.0218490407414598, 0.06866179325140194, 0.18982966369505322, 0.3109975341387045, -0.29484181807955195, -0.29484181807955195, -0.052506077192249354, 0.4321654045823558, -0.29484181807955195, 0.3109975341387045, 0.553333275026007, 0.3109975341387045, 0.6745011454696583, 0.18982966369505322, -0.17367394763590063, -0.41600968852320325, -0.41600968852320325, -0.052506077192249354, 0.18982966369505322, -0.5371775589668545, 0.553333275026007, -0.29484181807955195, -0.41600968852320325, -0.41600968852320325, 0.3109975341387045, -0.052506077192249354, -1.0218490407414598, -0.29484181807955195, -0.17367394763590063, -0.17367394763590063, 0.4321654045823558, -0.9006811702978084, -0.17367394763590063, -0.052506077192249354, -1.143016911185111, -0.17367394763590063, -0.052506077192249354, 0.18982966369505322, -0.29484181807955195, 0.553333275026007, 0.4321654045823558, 0.553333275026007, 0.3109975341387045, 0.18982966369505322, -0.052506077192249354, 0.553333275026007, 0.06866179325140194]}, {\"axis\": {\"matches\": true}, \"label\": \"Velocidad\", \"values\": [0.13723589896072907, 0.4784301228962431, 0.42156441890699076, -0.26082402896403734, 0.4784301228962431, 0.08037019497147672, -0.14709262098553263, 0.25096730693923375, 0.13723589896072907, 0.5352958268854955, -0.0902269169962803, 0.42156441890699076, 0.1941016029499814, 0.42156441890699076, 0.08037019497147672, 0.13723589896072907, 0.6490272348640002, 0.5352958268854955, 0.3078330109284861, 0.42156441890699076, -0.14709262098553263, 0.023504490982224388, -0.033361213007027955, 0.08037019497147672, 0.7627586428425048, 0.42156441890699076, 0.3646987149177384, 0.1941016029499814, 0.13723589896072907, 0.3646987149177384, 0.4784301228962431, 0.13723589896072907, -0.26082402896403734, 0.25096730693923375, 0.25096730693923375, 0.25096730693923375, 0.3078330109284861, -0.43142114093179434, 0.1941016029499814, 0.7627586428425048, 0.42156441890699076, 0.7058929388532524, 0.7627586428425048, 0.7058929388532524, 0.6490272348640002, 0.6490272348640002, 0.5921615308747478, 0.7627586428425048, 1.0470871627887666, 0.5921615308747478, 0.7627586428425048, 0.7058929388532524, 0.7627586428425048]}, {\"axis\": {\"matches\": true}, \"label\": \"Elongacion\", \"values\": [-1.744778357095681, -0.5877635314354152, -0.5877635314354152, -1.5133753919636277, -0.3563605663033617, -0.8191664965674674, -2.4389872524918403, -0.12495760117130832, -1.9761813222277334, -0.3563605663033617, -0.3563605663033617, -0.12495760117130832, -0.8191664965674674, -1.9761813222277334, -1.2819724268315742, -0.5877635314354152, -1.2819724268315742, -0.5877635314354152, -0.3563605663033617, -0.3563605663033617, -1.050569461699521, -1.5133753919636277, -1.5133753919636277, -0.8191664965674674, -0.8191664965674674, -0.12495760117130832, -1.744778357095681, -0.12495760117130832, -1.2819724268315742, -1.050569461699521, -0.12495760117130832, -1.050569461699521, -1.744778357095681, -0.8191664965674674, -0.12495760117130832, -0.3563605663033617, -0.3563605663033617, -1.2819724268315742, -0.5877635314354152, -0.8191664965674674, -1.2819724268315742, -1.2819724268315742, -0.5877635314354152, -1.9761813222277334, -0.5877635314354152, -0.8191664965674674, -0.5877635314354152, -0.5877635314354152, -1.050569461699521, -0.12495760117130832, -0.8191664965674674, -1.2819724268315742, -0.12495760117130832]}, {\"axis\": {\"matches\": true}, \"label\": \"Diametro\", \"values\": [0.13322594295296525, 0.3961718829917125, 0.13322594295296525, -0.2611929671051558, 0.13322594295296525, 0.2646989129723387, -0.2611929671051558, 0.3961718829917125, -0.2611929671051558, 0.2646989129723387, 0.13322594295296525, 0.3961718829917125, -0.2611929671051558, 0.3961718829917125, -0.12971999708578202, 0.13322594295296525, 0.3961718829917125, 0.0017529729335914559, 0.13322594295296525, 0.3961718829917125, -0.2611929671051558, -0.12971999708578202, -0.2611929671051558, 0.0017529729335914559, 0.5276448530110863, 0.3961718829917125, 0.13322594295296525, 0.13322594295296525, 0.13322594295296525, 0.0017529729335914559, 0.2646989129723387, 0.0017529729335914559, -0.2611929671051558, 0.13322594295296525, 0.0017529729335914559, 0.13322594295296525, 0.13322594295296525, -0.12971999708578202, 0.13322594295296525, 0.922063763069207, 0.6591178230304597, 1.0535367330885808, 1.5794286131660753, 0.3961718829917125, 1.0535367330885808, 0.7905907930498336, 0.7905907930498336, 0.3961718829917125, 0.2646989129723387, 0.7905907930498336, 0.922063763069207, 0.922063763069207, 0.7905907930498336]}], \"hovertemplate\": \"color=0<br>%{xaxis.title.text}=%{x}<br>%{yaxis.title.text}=%{y}<extra></extra>\", \"legendgroup\": \"0\", \"marker\": {\"color\": \"#00cc96\", \"symbol\": \"circle\"}, \"name\": \"0\", \"showlegend\": true, \"type\": \"splom\"}],                        {\"dragmode\": \"select\", \"legend\": {\"title\": {\"text\": \"color\"}, \"tracegroupgap\": 0}, \"margin\": {\"t\": 60}, \"template\": {\"data\": {\"bar\": [{\"error_x\": {\"color\": \"#2a3f5f\"}, \"error_y\": {\"color\": \"#2a3f5f\"}, \"marker\": {\"line\": {\"color\": \"#E5ECF6\", \"width\": 0.5}}, \"type\": \"bar\"}], \"barpolar\": [{\"marker\": {\"line\": {\"color\": \"#E5ECF6\", \"width\": 0.5}}, \"type\": \"barpolar\"}], \"carpet\": [{\"aaxis\": {\"endlinecolor\": \"#2a3f5f\", \"gridcolor\": \"white\", \"linecolor\": \"white\", \"minorgridcolor\": \"white\", \"startlinecolor\": \"#2a3f5f\"}, \"baxis\": {\"endlinecolor\": \"#2a3f5f\", \"gridcolor\": \"white\", \"linecolor\": \"white\", \"minorgridcolor\": \"white\", \"startlinecolor\": \"#2a3f5f\"}, \"type\": \"carpet\"}], \"choropleth\": [{\"colorbar\": {\"outlinewidth\": 0, \"ticks\": \"\"}, \"type\": \"choropleth\"}], \"contour\": [{\"colorbar\": {\"outlinewidth\": 0, \"ticks\": \"\"}, \"colorscale\": [[0.0, \"#0d0887\"], [0.1111111111111111, \"#46039f\"], [0.2222222222222222, \"#7201a8\"], [0.3333333333333333, \"#9c179e\"], [0.4444444444444444, \"#bd3786\"], [0.5555555555555556, \"#d8576b\"], [0.6666666666666666, \"#ed7953\"], [0.7777777777777778, \"#fb9f3a\"], [0.8888888888888888, \"#fdca26\"], [1.0, \"#f0f921\"]], \"type\": \"contour\"}], \"contourcarpet\": [{\"colorbar\": {\"outlinewidth\": 0, \"ticks\": \"\"}, \"type\": \"contourcarpet\"}], \"heatmap\": [{\"colorbar\": {\"outlinewidth\": 0, \"ticks\": \"\"}, \"colorscale\": [[0.0, \"#0d0887\"], [0.1111111111111111, \"#46039f\"], [0.2222222222222222, \"#7201a8\"], [0.3333333333333333, \"#9c179e\"], [0.4444444444444444, \"#bd3786\"], [0.5555555555555556, \"#d8576b\"], [0.6666666666666666, \"#ed7953\"], [0.7777777777777778, \"#fb9f3a\"], [0.8888888888888888, \"#fdca26\"], [1.0, \"#f0f921\"]], \"type\": \"heatmap\"}], \"heatmapgl\": [{\"colorbar\": {\"outlinewidth\": 0, \"ticks\": \"\"}, \"colorscale\": [[0.0, \"#0d0887\"], [0.1111111111111111, \"#46039f\"], [0.2222222222222222, \"#7201a8\"], [0.3333333333333333, \"#9c179e\"], [0.4444444444444444, \"#bd3786\"], [0.5555555555555556, \"#d8576b\"], [0.6666666666666666, \"#ed7953\"], [0.7777777777777778, \"#fb9f3a\"], [0.8888888888888888, \"#fdca26\"], [1.0, \"#f0f921\"]], \"type\": \"heatmapgl\"}], \"histogram\": [{\"marker\": {\"colorbar\": {\"outlinewidth\": 0, \"ticks\": \"\"}}, \"type\": \"histogram\"}], \"histogram2d\": [{\"colorbar\": {\"outlinewidth\": 0, \"ticks\": \"\"}, \"colorscale\": [[0.0, \"#0d0887\"], [0.1111111111111111, \"#46039f\"], [0.2222222222222222, \"#7201a8\"], [0.3333333333333333, \"#9c179e\"], [0.4444444444444444, \"#bd3786\"], [0.5555555555555556, \"#d8576b\"], [0.6666666666666666, \"#ed7953\"], [0.7777777777777778, \"#fb9f3a\"], [0.8888888888888888, \"#fdca26\"], [1.0, \"#f0f921\"]], \"type\": \"histogram2d\"}], \"histogram2dcontour\": [{\"colorbar\": {\"outlinewidth\": 0, \"ticks\": \"\"}, \"colorscale\": [[0.0, \"#0d0887\"], [0.1111111111111111, \"#46039f\"], [0.2222222222222222, \"#7201a8\"], [0.3333333333333333, \"#9c179e\"], [0.4444444444444444, \"#bd3786\"], [0.5555555555555556, \"#d8576b\"], [0.6666666666666666, \"#ed7953\"], [0.7777777777777778, \"#fb9f3a\"], [0.8888888888888888, \"#fdca26\"], [1.0, \"#f0f921\"]], \"type\": \"histogram2dcontour\"}], \"mesh3d\": [{\"colorbar\": {\"outlinewidth\": 0, \"ticks\": \"\"}, \"type\": \"mesh3d\"}], \"parcoords\": [{\"line\": {\"colorbar\": {\"outlinewidth\": 0, \"ticks\": \"\"}}, \"type\": \"parcoords\"}], \"pie\": [{\"automargin\": true, \"type\": \"pie\"}], \"scatter\": [{\"marker\": {\"colorbar\": {\"outlinewidth\": 0, \"ticks\": \"\"}}, \"type\": \"scatter\"}], \"scatter3d\": [{\"line\": {\"colorbar\": {\"outlinewidth\": 0, \"ticks\": \"\"}}, \"marker\": {\"colorbar\": {\"outlinewidth\": 0, \"ticks\": \"\"}}, \"type\": \"scatter3d\"}], \"scattercarpet\": [{\"marker\": {\"colorbar\": {\"outlinewidth\": 0, \"ticks\": \"\"}}, \"type\": \"scattercarpet\"}], \"scattergeo\": [{\"marker\": {\"colorbar\": {\"outlinewidth\": 0, \"ticks\": \"\"}}, \"type\": \"scattergeo\"}], \"scattergl\": [{\"marker\": {\"colorbar\": {\"outlinewidth\": 0, \"ticks\": \"\"}}, \"type\": \"scattergl\"}], \"scattermapbox\": [{\"marker\": {\"colorbar\": {\"outlinewidth\": 0, \"ticks\": \"\"}}, \"type\": \"scattermapbox\"}], \"scatterpolar\": [{\"marker\": {\"colorbar\": {\"outlinewidth\": 0, \"ticks\": \"\"}}, \"type\": \"scatterpolar\"}], \"scatterpolargl\": [{\"marker\": {\"colorbar\": {\"outlinewidth\": 0, \"ticks\": \"\"}}, \"type\": \"scatterpolargl\"}], \"scatterternary\": [{\"marker\": {\"colorbar\": {\"outlinewidth\": 0, \"ticks\": \"\"}}, \"type\": \"scatterternary\"}], \"surface\": [{\"colorbar\": {\"outlinewidth\": 0, \"ticks\": \"\"}, \"colorscale\": [[0.0, \"#0d0887\"], [0.1111111111111111, \"#46039f\"], [0.2222222222222222, \"#7201a8\"], [0.3333333333333333, \"#9c179e\"], [0.4444444444444444, \"#bd3786\"], [0.5555555555555556, \"#d8576b\"], [0.6666666666666666, \"#ed7953\"], [0.7777777777777778, \"#fb9f3a\"], [0.8888888888888888, \"#fdca26\"], [1.0, \"#f0f921\"]], \"type\": \"surface\"}], \"table\": [{\"cells\": {\"fill\": {\"color\": \"#EBF0F8\"}, \"line\": {\"color\": \"white\"}}, \"header\": {\"fill\": {\"color\": \"#C8D4E3\"}, \"line\": {\"color\": \"white\"}}, \"type\": \"table\"}]}, \"layout\": {\"annotationdefaults\": {\"arrowcolor\": \"#2a3f5f\", \"arrowhead\": 0, \"arrowwidth\": 1}, \"autotypenumbers\": \"strict\", \"coloraxis\": {\"colorbar\": {\"outlinewidth\": 0, \"ticks\": \"\"}}, \"colorscale\": {\"diverging\": [[0, \"#8e0152\"], [0.1, \"#c51b7d\"], [0.2, \"#de77ae\"], [0.3, \"#f1b6da\"], [0.4, \"#fde0ef\"], [0.5, \"#f7f7f7\"], [0.6, \"#e6f5d0\"], [0.7, \"#b8e186\"], [0.8, \"#7fbc41\"], [0.9, \"#4d9221\"], [1, \"#276419\"]], \"sequential\": [[0.0, \"#0d0887\"], [0.1111111111111111, \"#46039f\"], [0.2222222222222222, \"#7201a8\"], [0.3333333333333333, \"#9c179e\"], [0.4444444444444444, \"#bd3786\"], [0.5555555555555556, \"#d8576b\"], [0.6666666666666666, \"#ed7953\"], [0.7777777777777778, \"#fb9f3a\"], [0.8888888888888888, \"#fdca26\"], [1.0, \"#f0f921\"]], \"sequentialminus\": [[0.0, \"#0d0887\"], [0.1111111111111111, \"#46039f\"], [0.2222222222222222, \"#7201a8\"], [0.3333333333333333, \"#9c179e\"], [0.4444444444444444, \"#bd3786\"], [0.5555555555555556, \"#d8576b\"], [0.6666666666666666, \"#ed7953\"], [0.7777777777777778, \"#fb9f3a\"], [0.8888888888888888, \"#fdca26\"], [1.0, \"#f0f921\"]]}, \"colorway\": [\"#636efa\", \"#EF553B\", \"#00cc96\", \"#ab63fa\", \"#FFA15A\", \"#19d3f3\", \"#FF6692\", \"#B6E880\", \"#FF97FF\", \"#FECB52\"], \"font\": {\"color\": \"#2a3f5f\"}, \"geo\": {\"bgcolor\": \"white\", \"lakecolor\": \"white\", \"landcolor\": \"#E5ECF6\", \"showlakes\": true, \"showland\": true, \"subunitcolor\": \"white\"}, \"hoverlabel\": {\"align\": \"left\"}, \"hovermode\": \"closest\", \"mapbox\": {\"style\": \"light\"}, \"paper_bgcolor\": \"white\", \"plot_bgcolor\": \"#E5ECF6\", \"polar\": {\"angularaxis\": {\"gridcolor\": \"white\", \"linecolor\": \"white\", \"ticks\": \"\"}, \"bgcolor\": \"#E5ECF6\", \"radialaxis\": {\"gridcolor\": \"white\", \"linecolor\": \"white\", \"ticks\": \"\"}}, \"scene\": {\"xaxis\": {\"backgroundcolor\": \"#E5ECF6\", \"gridcolor\": \"white\", \"gridwidth\": 2, \"linecolor\": \"white\", \"showbackground\": true, \"ticks\": \"\", \"zerolinecolor\": \"white\"}, \"yaxis\": {\"backgroundcolor\": \"#E5ECF6\", \"gridcolor\": \"white\", \"gridwidth\": 2, \"linecolor\": \"white\", \"showbackground\": true, \"ticks\": \"\", \"zerolinecolor\": \"white\"}, \"zaxis\": {\"backgroundcolor\": \"#E5ECF6\", \"gridcolor\": \"white\", \"gridwidth\": 2, \"linecolor\": \"white\", \"showbackground\": true, \"ticks\": \"\", \"zerolinecolor\": \"white\"}}, \"shapedefaults\": {\"line\": {\"color\": \"#2a3f5f\"}}, \"ternary\": {\"aaxis\": {\"gridcolor\": \"white\", \"linecolor\": \"white\", \"ticks\": \"\"}, \"baxis\": {\"gridcolor\": \"white\", \"linecolor\": \"white\", \"ticks\": \"\"}, \"bgcolor\": \"#E5ECF6\", \"caxis\": {\"gridcolor\": \"white\", \"linecolor\": \"white\", \"ticks\": \"\"}}, \"title\": {\"x\": 0.05}, \"xaxis\": {\"automargin\": true, \"gridcolor\": \"white\", \"linecolor\": \"white\", \"ticks\": \"\", \"title\": {\"standoff\": 15}, \"zerolinecolor\": \"white\", \"zerolinewidth\": 2}, \"yaxis\": {\"automargin\": true, \"gridcolor\": \"white\", \"linecolor\": \"white\", \"ticks\": \"\", \"title\": {\"standoff\": 15}, \"zerolinecolor\": \"white\", \"zerolinewidth\": 2}}}},                        {\"responsive\": true}                    ).then(function(){\n",
              "                            \n",
              "var gd = document.getElementById('41bf24ad-7b09-4d0d-acdd-d245b2c3d4cb');\n",
              "var x = new MutationObserver(function (mutations, observer) {{\n",
              "        var display = window.getComputedStyle(gd).display;\n",
              "        if (!display || display === 'none') {{\n",
              "            console.log([gd, 'removed!']);\n",
              "            Plotly.purge(gd);\n",
              "            observer.disconnect();\n",
              "        }}\n",
              "}});\n",
              "\n",
              "// Listen for the removal of the full notebook cells\n",
              "var notebookContainer = gd.closest('#notebook-container');\n",
              "if (notebookContainer) {{\n",
              "    x.observe(notebookContainer, {childList: true});\n",
              "}}\n",
              "\n",
              "// Listen for the clearing of the current output cell\n",
              "var outputEl = gd.closest('.output');\n",
              "if (outputEl) {{\n",
              "    x.observe(outputEl, {childList: true});\n",
              "}}\n",
              "\n",
              "                        })                };                            </script>        </div>\n",
              "</body>\n",
              "</html>"
            ]
          },
          "metadata": {
            "tags": []
          }
        }
      ]
    },
    {
      "cell_type": "code",
      "metadata": {
        "id": "mIDo9ipGN7LC"
      },
      "source": [
        "from sklearn.metrics import silhouette_score\n",
        "from sklearn.metrics import silhouette_samples"
      ],
      "execution_count": 18,
      "outputs": []
    },
    {
      "cell_type": "code",
      "metadata": {
        "colab": {
          "base_uri": "https://localhost:8080/"
        },
        "id": "DWX2yYPst2u6",
        "outputId": "8ecda0fd-85fa-46d8-d6a5-eff9e19cfcfd"
      },
      "source": [
        "silhouette_score(X=df_scale, labels=kMeans.labels_)"
      ],
      "execution_count": 19,
      "outputs": [
        {
          "output_type": "execute_result",
          "data": {
            "text/plain": [
              "0.45897178668557237"
            ]
          },
          "metadata": {
            "tags": []
          },
          "execution_count": 19
        }
      ]
    },
    {
      "cell_type": "code",
      "metadata": {
        "colab": {
          "base_uri": "https://localhost:8080/"
        },
        "id": "M9vRmKBvtrea",
        "outputId": "8b7a2ece-2c54-454d-f778-9afe991e1c41"
      },
      "source": [
        "silhouette_samples(X=df_scale, labels=kMeans.labels_)"
      ],
      "execution_count": 20,
      "outputs": [
        {
          "output_type": "execute_result",
          "data": {
            "text/plain": [
              "array([ 0.70261401,  0.71745103,  0.71262009,  0.67084552,  0.6310475 ,\n",
              "        0.64619953,  0.58358858,  0.53526543,  0.63932991,  0.67919109,\n",
              "        0.66245827,  0.63932991,  0.55676622,  0.72268674,  0.72887695,\n",
              "        0.08121394,  0.63927004,  0.66019986,  0.64227539,  0.56480207,\n",
              "        0.67210029,  0.66871307,  0.68320211,  0.71137344,  0.34258316,\n",
              "        0.16825018,  0.35921488,  0.54341995,  0.13314978,  0.53825996,\n",
              "        0.23385527,  0.40753533,  0.03720138,  0.54373834,  0.42226153,\n",
              "        0.33939124,  0.46926967,  0.33099504,  0.49436241,  0.19035341,\n",
              "        0.39110564,  0.54899662,  0.4037049 ,  0.58241483,  0.03883921,\n",
              "        0.45814823,  0.36708449,  0.42571909,  0.21844191,  0.05222353,\n",
              "        0.03996145,  0.34239177,  0.37364238,  0.55581837,  0.56646216,\n",
              "        0.55681822,  0.56830957,  0.39052244,  0.40374251,  0.11226518,\n",
              "        0.28053667,  0.41853205,  0.43906479,  0.5861081 ,  0.58398743,\n",
              "        0.23958608,  0.57988808,  0.43673834,  0.58366904,  0.4292477 ,\n",
              "        0.49941975,  0.3386495 ,  0.43084732,  0.55238518,  0.42496728,\n",
              "        0.34410443,  0.52177753,  0.15102288,  0.43866348,  0.4719768 ,\n",
              "        0.47029784,  0.44316671,  0.01393973,  0.46612171,  0.44655473,\n",
              "       -0.01278625,  0.50114725,  0.38051383,  0.05889392,  0.44580257,\n",
              "        0.35188989,  0.41100011,  0.3296579 ,  0.41634381,  0.54974335,\n",
              "        0.3181221 ,  0.400187  ,  0.17879911,  0.52570592,  0.51442603,\n",
              "        0.17497197, -0.02384657,  0.22106472,  0.43641299,  0.41201146,\n",
              "        0.39849881,  0.24139402,  0.19562781,  0.34552507,  0.46865832,\n",
              "        0.4227215 ,  0.36153742,  0.08479245,  0.53811634,  0.50859362,\n",
              "        0.51139055,  0.34410443,  0.5429756 ,  0.50454469,  0.4619744 ,\n",
              "        0.23166788,  0.38107068,  0.38761483,  0.09671247,  0.7297931 ,\n",
              "        0.57451632,  0.68041895,  0.62489733,  0.7219581 ,  0.60394379,\n",
              "        0.69658343,  0.7287178 ,  0.49277745,  0.63932991,  0.66868733,\n",
              "        0.719804  ,  0.58494384,  0.55311334,  0.54805196,  0.45301673,\n",
              "        0.6152179 ,  0.72444162,  0.5811184 ,  0.67077938,  0.65894731,\n",
              "        0.68392379,  0.69167548,  0.63751679,  0.69953032,  0.55135351])"
            ]
          },
          "metadata": {
            "tags": []
          },
          "execution_count": 20
        }
      ]
    },
    {
      "cell_type": "code",
      "metadata": {
        "id": "zHtlr6Oht0VE"
      },
      "source": [
        "# Funcion para calcular la metrica de silueta entre los grupos\n",
        "# la silueta consiste en conocer el nivel de agrupamiento interno y externo\n",
        "def Silhouette(df, min_clusters=2, max_clusters=50):\n",
        "  silhouette_scores = []\n",
        "  n_clusters = []\n",
        "  for k in range(min_clusters, max_clusters + 1):\n",
        "    kmeans = KMeans(n_clusters = k, init = \"k-means++\", max_iter = 300, n_init = 10, random_state = 0)\n",
        "    kmeans.fit(df)\n",
        "    n_clusters.append(k)\n",
        "    silhouette_scores.append(silhouette_score(X=df, labels=kmeans.labels_))\n",
        "  clusters = pd.DataFrame(data=[n_clusters, silhouette_scores]).T\n",
        "  clusters.columns = [\"n_clusters\", \"silhouette_scores\"]\n",
        "  clusters.set_index(\"n_clusters\", inplace=True)\n",
        "  return clusters"
      ],
      "execution_count": 23,
      "outputs": []
    },
    {
      "cell_type": "code",
      "metadata": {
        "colab": {
          "base_uri": "https://localhost:8080/",
          "height": 542
        },
        "id": "4Z8wMg9Su2Kh",
        "outputId": "11ddd7b3-3093-4f97-8b5a-3dbd245bef20"
      },
      "source": [
        "clusters = Silhouette(df_scale, max_clusters=15)\n",
        "clusters.plot()"
      ],
      "execution_count": 24,
      "outputs": [
        {
          "output_type": "display_data",
          "data": {
            "text/html": [
              "<html>\n",
              "<head><meta charset=\"utf-8\" /></head>\n",
              "<body>\n",
              "    <div>            <script src=\"https://cdnjs.cloudflare.com/ajax/libs/mathjax/2.7.5/MathJax.js?config=TeX-AMS-MML_SVG\"></script><script type=\"text/javascript\">if (window.MathJax) {MathJax.Hub.Config({SVG: {font: \"STIX-Web\"}});}</script>                <script type=\"text/javascript\">window.PlotlyConfig = {MathJaxConfig: 'local'};</script>\n",
              "        <script src=\"https://cdn.plot.ly/plotly-latest.min.js\"></script>                <div id=\"9982a359-e9ac-497b-a56c-d1cb36fd306a\" class=\"plotly-graph-div\" style=\"height:525px; width:100%;\"></div>            <script type=\"text/javascript\">                                    window.PLOTLYENV=window.PLOTLYENV || {};                                    if (document.getElementById(\"9982a359-e9ac-497b-a56c-d1cb36fd306a\")) {                    Plotly.newPlot(                        \"9982a359-e9ac-497b-a56c-d1cb36fd306a\",                        [{\"hovertemplate\": \"variable=silhouette_scores<br>n_clusters=%{x}<br>value=%{y}<extra></extra>\", \"legendgroup\": \"silhouette_scores\", \"line\": {\"color\": \"#636efa\", \"dash\": \"solid\"}, \"mode\": \"lines\", \"name\": \"silhouette_scores\", \"orientation\": \"v\", \"showlegend\": true, \"type\": \"scatter\", \"x\": [2.0, 3.0, 4.0, 5.0, 6.0, 7.0, 8.0, 9.0, 10.0, 11.0, 12.0, 13.0, 14.0, 15.0], \"xaxis\": \"x\", \"y\": [0.5801844632464167, 0.45897178668557237, 0.39048202049756287, 0.34767483136987815, 0.3280024530631712, 0.32605857557889506, 0.3422665515383651, 0.33488146827109877, 0.35493734407987376, 0.36333154449438904, 0.3535715682396305, 0.3361065168869852, 0.3313756750932881, 0.3481974511820762], \"yaxis\": \"y\"}],                        {\"legend\": {\"title\": {\"text\": \"variable\"}, \"tracegroupgap\": 0}, \"margin\": {\"t\": 60}, \"template\": {\"data\": {\"bar\": [{\"error_x\": {\"color\": \"#2a3f5f\"}, \"error_y\": {\"color\": \"#2a3f5f\"}, \"marker\": {\"line\": {\"color\": \"#E5ECF6\", \"width\": 0.5}}, \"type\": \"bar\"}], \"barpolar\": [{\"marker\": {\"line\": {\"color\": \"#E5ECF6\", \"width\": 0.5}}, \"type\": \"barpolar\"}], \"carpet\": [{\"aaxis\": {\"endlinecolor\": \"#2a3f5f\", \"gridcolor\": \"white\", \"linecolor\": \"white\", \"minorgridcolor\": \"white\", \"startlinecolor\": \"#2a3f5f\"}, \"baxis\": {\"endlinecolor\": \"#2a3f5f\", \"gridcolor\": \"white\", \"linecolor\": \"white\", \"minorgridcolor\": \"white\", \"startlinecolor\": \"#2a3f5f\"}, \"type\": \"carpet\"}], \"choropleth\": [{\"colorbar\": {\"outlinewidth\": 0, \"ticks\": \"\"}, \"type\": \"choropleth\"}], \"contour\": [{\"colorbar\": {\"outlinewidth\": 0, \"ticks\": \"\"}, \"colorscale\": [[0.0, \"#0d0887\"], [0.1111111111111111, \"#46039f\"], [0.2222222222222222, \"#7201a8\"], [0.3333333333333333, \"#9c179e\"], [0.4444444444444444, \"#bd3786\"], [0.5555555555555556, \"#d8576b\"], [0.6666666666666666, \"#ed7953\"], [0.7777777777777778, \"#fb9f3a\"], [0.8888888888888888, \"#fdca26\"], [1.0, \"#f0f921\"]], \"type\": \"contour\"}], \"contourcarpet\": [{\"colorbar\": {\"outlinewidth\": 0, \"ticks\": \"\"}, \"type\": \"contourcarpet\"}], \"heatmap\": [{\"colorbar\": {\"outlinewidth\": 0, \"ticks\": \"\"}, \"colorscale\": [[0.0, \"#0d0887\"], [0.1111111111111111, \"#46039f\"], [0.2222222222222222, \"#7201a8\"], [0.3333333333333333, \"#9c179e\"], [0.4444444444444444, \"#bd3786\"], [0.5555555555555556, \"#d8576b\"], [0.6666666666666666, \"#ed7953\"], [0.7777777777777778, \"#fb9f3a\"], [0.8888888888888888, \"#fdca26\"], [1.0, \"#f0f921\"]], \"type\": \"heatmap\"}], \"heatmapgl\": [{\"colorbar\": {\"outlinewidth\": 0, \"ticks\": \"\"}, \"colorscale\": [[0.0, \"#0d0887\"], [0.1111111111111111, \"#46039f\"], [0.2222222222222222, \"#7201a8\"], [0.3333333333333333, \"#9c179e\"], [0.4444444444444444, \"#bd3786\"], [0.5555555555555556, \"#d8576b\"], [0.6666666666666666, \"#ed7953\"], [0.7777777777777778, \"#fb9f3a\"], [0.8888888888888888, \"#fdca26\"], [1.0, \"#f0f921\"]], \"type\": \"heatmapgl\"}], \"histogram\": [{\"marker\": {\"colorbar\": {\"outlinewidth\": 0, \"ticks\": \"\"}}, \"type\": \"histogram\"}], \"histogram2d\": [{\"colorbar\": {\"outlinewidth\": 0, \"ticks\": \"\"}, \"colorscale\": [[0.0, \"#0d0887\"], [0.1111111111111111, \"#46039f\"], [0.2222222222222222, \"#7201a8\"], [0.3333333333333333, \"#9c179e\"], [0.4444444444444444, \"#bd3786\"], [0.5555555555555556, \"#d8576b\"], [0.6666666666666666, \"#ed7953\"], [0.7777777777777778, \"#fb9f3a\"], [0.8888888888888888, \"#fdca26\"], [1.0, \"#f0f921\"]], \"type\": \"histogram2d\"}], \"histogram2dcontour\": [{\"colorbar\": {\"outlinewidth\": 0, \"ticks\": \"\"}, \"colorscale\": [[0.0, \"#0d0887\"], [0.1111111111111111, \"#46039f\"], [0.2222222222222222, \"#7201a8\"], [0.3333333333333333, \"#9c179e\"], [0.4444444444444444, \"#bd3786\"], [0.5555555555555556, \"#d8576b\"], [0.6666666666666666, \"#ed7953\"], [0.7777777777777778, \"#fb9f3a\"], [0.8888888888888888, \"#fdca26\"], [1.0, \"#f0f921\"]], \"type\": \"histogram2dcontour\"}], \"mesh3d\": [{\"colorbar\": {\"outlinewidth\": 0, \"ticks\": \"\"}, \"type\": \"mesh3d\"}], \"parcoords\": [{\"line\": {\"colorbar\": {\"outlinewidth\": 0, \"ticks\": \"\"}}, \"type\": \"parcoords\"}], \"pie\": [{\"automargin\": true, \"type\": \"pie\"}], \"scatter\": [{\"marker\": {\"colorbar\": {\"outlinewidth\": 0, \"ticks\": \"\"}}, \"type\": \"scatter\"}], \"scatter3d\": [{\"line\": {\"colorbar\": {\"outlinewidth\": 0, \"ticks\": \"\"}}, \"marker\": {\"colorbar\": {\"outlinewidth\": 0, \"ticks\": \"\"}}, \"type\": \"scatter3d\"}], \"scattercarpet\": [{\"marker\": {\"colorbar\": {\"outlinewidth\": 0, \"ticks\": \"\"}}, \"type\": \"scattercarpet\"}], \"scattergeo\": [{\"marker\": {\"colorbar\": {\"outlinewidth\": 0, \"ticks\": \"\"}}, \"type\": \"scattergeo\"}], \"scattergl\": [{\"marker\": {\"colorbar\": {\"outlinewidth\": 0, \"ticks\": \"\"}}, \"type\": \"scattergl\"}], \"scattermapbox\": [{\"marker\": {\"colorbar\": {\"outlinewidth\": 0, \"ticks\": \"\"}}, \"type\": \"scattermapbox\"}], \"scatterpolar\": [{\"marker\": {\"colorbar\": {\"outlinewidth\": 0, \"ticks\": \"\"}}, \"type\": \"scatterpolar\"}], \"scatterpolargl\": [{\"marker\": {\"colorbar\": {\"outlinewidth\": 0, \"ticks\": \"\"}}, \"type\": \"scatterpolargl\"}], \"scatterternary\": [{\"marker\": {\"colorbar\": {\"outlinewidth\": 0, \"ticks\": \"\"}}, \"type\": \"scatterternary\"}], \"surface\": [{\"colorbar\": {\"outlinewidth\": 0, \"ticks\": \"\"}, \"colorscale\": [[0.0, \"#0d0887\"], [0.1111111111111111, \"#46039f\"], [0.2222222222222222, \"#7201a8\"], [0.3333333333333333, \"#9c179e\"], [0.4444444444444444, \"#bd3786\"], [0.5555555555555556, \"#d8576b\"], [0.6666666666666666, \"#ed7953\"], [0.7777777777777778, \"#fb9f3a\"], [0.8888888888888888, \"#fdca26\"], [1.0, \"#f0f921\"]], \"type\": \"surface\"}], \"table\": [{\"cells\": {\"fill\": {\"color\": \"#EBF0F8\"}, \"line\": {\"color\": \"white\"}}, \"header\": {\"fill\": {\"color\": \"#C8D4E3\"}, \"line\": {\"color\": \"white\"}}, \"type\": \"table\"}]}, \"layout\": {\"annotationdefaults\": {\"arrowcolor\": \"#2a3f5f\", \"arrowhead\": 0, \"arrowwidth\": 1}, \"autotypenumbers\": \"strict\", \"coloraxis\": {\"colorbar\": {\"outlinewidth\": 0, \"ticks\": \"\"}}, \"colorscale\": {\"diverging\": [[0, \"#8e0152\"], [0.1, \"#c51b7d\"], [0.2, \"#de77ae\"], [0.3, \"#f1b6da\"], [0.4, \"#fde0ef\"], [0.5, \"#f7f7f7\"], [0.6, \"#e6f5d0\"], [0.7, \"#b8e186\"], [0.8, \"#7fbc41\"], [0.9, \"#4d9221\"], [1, \"#276419\"]], \"sequential\": [[0.0, \"#0d0887\"], [0.1111111111111111, \"#46039f\"], [0.2222222222222222, \"#7201a8\"], [0.3333333333333333, \"#9c179e\"], [0.4444444444444444, \"#bd3786\"], [0.5555555555555556, \"#d8576b\"], [0.6666666666666666, \"#ed7953\"], [0.7777777777777778, \"#fb9f3a\"], [0.8888888888888888, \"#fdca26\"], [1.0, \"#f0f921\"]], \"sequentialminus\": [[0.0, \"#0d0887\"], [0.1111111111111111, \"#46039f\"], [0.2222222222222222, \"#7201a8\"], [0.3333333333333333, \"#9c179e\"], [0.4444444444444444, \"#bd3786\"], [0.5555555555555556, \"#d8576b\"], [0.6666666666666666, \"#ed7953\"], [0.7777777777777778, \"#fb9f3a\"], [0.8888888888888888, \"#fdca26\"], [1.0, \"#f0f921\"]]}, \"colorway\": [\"#636efa\", \"#EF553B\", \"#00cc96\", \"#ab63fa\", \"#FFA15A\", \"#19d3f3\", \"#FF6692\", \"#B6E880\", \"#FF97FF\", \"#FECB52\"], \"font\": {\"color\": \"#2a3f5f\"}, \"geo\": {\"bgcolor\": \"white\", \"lakecolor\": \"white\", \"landcolor\": \"#E5ECF6\", \"showlakes\": true, \"showland\": true, \"subunitcolor\": \"white\"}, \"hoverlabel\": {\"align\": \"left\"}, \"hovermode\": \"closest\", \"mapbox\": {\"style\": \"light\"}, \"paper_bgcolor\": \"white\", \"plot_bgcolor\": \"#E5ECF6\", \"polar\": {\"angularaxis\": {\"gridcolor\": \"white\", \"linecolor\": \"white\", \"ticks\": \"\"}, \"bgcolor\": \"#E5ECF6\", \"radialaxis\": {\"gridcolor\": \"white\", \"linecolor\": \"white\", \"ticks\": \"\"}}, \"scene\": {\"xaxis\": {\"backgroundcolor\": \"#E5ECF6\", \"gridcolor\": \"white\", \"gridwidth\": 2, \"linecolor\": \"white\", \"showbackground\": true, \"ticks\": \"\", \"zerolinecolor\": \"white\"}, \"yaxis\": {\"backgroundcolor\": \"#E5ECF6\", \"gridcolor\": \"white\", \"gridwidth\": 2, \"linecolor\": \"white\", \"showbackground\": true, \"ticks\": \"\", \"zerolinecolor\": \"white\"}, \"zaxis\": {\"backgroundcolor\": \"#E5ECF6\", \"gridcolor\": \"white\", \"gridwidth\": 2, \"linecolor\": \"white\", \"showbackground\": true, \"ticks\": \"\", \"zerolinecolor\": \"white\"}}, \"shapedefaults\": {\"line\": {\"color\": \"#2a3f5f\"}}, \"ternary\": {\"aaxis\": {\"gridcolor\": \"white\", \"linecolor\": \"white\", \"ticks\": \"\"}, \"baxis\": {\"gridcolor\": \"white\", \"linecolor\": \"white\", \"ticks\": \"\"}, \"bgcolor\": \"#E5ECF6\", \"caxis\": {\"gridcolor\": \"white\", \"linecolor\": \"white\", \"ticks\": \"\"}}, \"title\": {\"x\": 0.05}, \"xaxis\": {\"automargin\": true, \"gridcolor\": \"white\", \"linecolor\": \"white\", \"ticks\": \"\", \"title\": {\"standoff\": 15}, \"zerolinecolor\": \"white\", \"zerolinewidth\": 2}, \"yaxis\": {\"automargin\": true, \"gridcolor\": \"white\", \"linecolor\": \"white\", \"ticks\": \"\", \"title\": {\"standoff\": 15}, \"zerolinecolor\": \"white\", \"zerolinewidth\": 2}}}, \"xaxis\": {\"anchor\": \"y\", \"domain\": [0.0, 1.0], \"title\": {\"text\": \"n_clusters\"}}, \"yaxis\": {\"anchor\": \"x\", \"domain\": [0.0, 1.0], \"title\": {\"text\": \"value\"}}},                        {\"responsive\": true}                    ).then(function(){\n",
              "                            \n",
              "var gd = document.getElementById('9982a359-e9ac-497b-a56c-d1cb36fd306a');\n",
              "var x = new MutationObserver(function (mutations, observer) {{\n",
              "        var display = window.getComputedStyle(gd).display;\n",
              "        if (!display || display === 'none') {{\n",
              "            console.log([gd, 'removed!']);\n",
              "            Plotly.purge(gd);\n",
              "            observer.disconnect();\n",
              "        }}\n",
              "}});\n",
              "\n",
              "// Listen for the removal of the full notebook cells\n",
              "var notebookContainer = gd.closest('#notebook-container');\n",
              "if (notebookContainer) {{\n",
              "    x.observe(notebookContainer, {childList: true});\n",
              "}}\n",
              "\n",
              "// Listen for the clearing of the current output cell\n",
              "var outputEl = gd.closest('.output');\n",
              "if (outputEl) {{\n",
              "    x.observe(outputEl, {childList: true});\n",
              "}}\n",
              "\n",
              "                        })                };                            </script>        </div>\n",
              "</body>\n",
              "</html>"
            ]
          },
          "metadata": {
            "tags": []
          }
        }
      ]
    },
    {
      "cell_type": "code",
      "metadata": {
        "colab": {
          "base_uri": "https://localhost:8080/",
          "height": 424
        },
        "id": "y3UgHqW6wPcr",
        "outputId": "37301812-8884-4fa5-bc15-5e7ea5a559b5"
      },
      "source": [
        "df[\"Grupo\"] = kMeans.labels_\n",
        "df"
      ],
      "execution_count": 25,
      "outputs": [
        {
          "output_type": "execute_result",
          "data": {
            "text/html": [
              "<div>\n",
              "<style scoped>\n",
              "    .dataframe tbody tr th:only-of-type {\n",
              "        vertical-align: middle;\n",
              "    }\n",
              "\n",
              "    .dataframe tbody tr th {\n",
              "        vertical-align: top;\n",
              "    }\n",
              "\n",
              "    .dataframe thead th {\n",
              "        text-align: right;\n",
              "    }\n",
              "</style>\n",
              "<table border=\"1\" class=\"dataframe\">\n",
              "  <thead>\n",
              "    <tr style=\"text-align: right;\">\n",
              "      <th></th>\n",
              "      <th>Temperatura</th>\n",
              "      <th>Velocidad</th>\n",
              "      <th>Elongacion</th>\n",
              "      <th>Diametro</th>\n",
              "      <th>Grupo</th>\n",
              "    </tr>\n",
              "  </thead>\n",
              "  <tbody>\n",
              "    <tr>\n",
              "      <th>0</th>\n",
              "      <td>500</td>\n",
              "      <td>1600</td>\n",
              "      <td>3.4</td>\n",
              "      <td>0.4</td>\n",
              "      <td>1</td>\n",
              "    </tr>\n",
              "    <tr>\n",
              "      <th>1</th>\n",
              "      <td>520</td>\n",
              "      <td>1500</td>\n",
              "      <td>3.5</td>\n",
              "      <td>0.2</td>\n",
              "      <td>1</td>\n",
              "    </tr>\n",
              "    <tr>\n",
              "      <th>2</th>\n",
              "      <td>520</td>\n",
              "      <td>1400</td>\n",
              "      <td>3.4</td>\n",
              "      <td>0.2</td>\n",
              "      <td>1</td>\n",
              "    </tr>\n",
              "    <tr>\n",
              "      <th>3</th>\n",
              "      <td>470</td>\n",
              "      <td>1600</td>\n",
              "      <td>3.2</td>\n",
              "      <td>0.2</td>\n",
              "      <td>1</td>\n",
              "    </tr>\n",
              "    <tr>\n",
              "      <th>4</th>\n",
              "      <td>480</td>\n",
              "      <td>1600</td>\n",
              "      <td>3.1</td>\n",
              "      <td>0.2</td>\n",
              "      <td>1</td>\n",
              "    </tr>\n",
              "    <tr>\n",
              "      <th>...</th>\n",
              "      <td>...</td>\n",
              "      <td>...</td>\n",
              "      <td>...</td>\n",
              "      <td>...</td>\n",
              "      <td>...</td>\n",
              "    </tr>\n",
              "    <tr>\n",
              "      <th>145</th>\n",
              "      <td>510</td>\n",
              "      <td>1500</td>\n",
              "      <td>3.7</td>\n",
              "      <td>0.4</td>\n",
              "      <td>1</td>\n",
              "    </tr>\n",
              "    <tr>\n",
              "      <th>146</th>\n",
              "      <td>460</td>\n",
              "      <td>1000</td>\n",
              "      <td>3.6</td>\n",
              "      <td>0.2</td>\n",
              "      <td>1</td>\n",
              "    </tr>\n",
              "    <tr>\n",
              "      <th>147</th>\n",
              "      <td>510</td>\n",
              "      <td>1700</td>\n",
              "      <td>3.3</td>\n",
              "      <td>0.5</td>\n",
              "      <td>1</td>\n",
              "    </tr>\n",
              "    <tr>\n",
              "      <th>148</th>\n",
              "      <td>480</td>\n",
              "      <td>1900</td>\n",
              "      <td>3.4</td>\n",
              "      <td>0.2</td>\n",
              "      <td>1</td>\n",
              "    </tr>\n",
              "    <tr>\n",
              "      <th>149</th>\n",
              "      <td>500</td>\n",
              "      <td>1600</td>\n",
              "      <td>3.0</td>\n",
              "      <td>0.2</td>\n",
              "      <td>1</td>\n",
              "    </tr>\n",
              "  </tbody>\n",
              "</table>\n",
              "<p>150 rows × 5 columns</p>\n",
              "</div>"
            ],
            "text/plain": [
              "     Temperatura  Velocidad  Elongacion  Diametro  Grupo\n",
              "0            500       1600         3.4       0.4      1\n",
              "1            520       1500         3.5       0.2      1\n",
              "2            520       1400         3.4       0.2      1\n",
              "3            470       1600         3.2       0.2      1\n",
              "4            480       1600         3.1       0.2      1\n",
              "..           ...        ...         ...       ...    ...\n",
              "145          510       1500         3.7       0.4      1\n",
              "146          460       1000         3.6       0.2      1\n",
              "147          510       1700         3.3       0.5      1\n",
              "148          480       1900         3.4       0.2      1\n",
              "149          500       1600         3.0       0.2      1\n",
              "\n",
              "[150 rows x 5 columns]"
            ]
          },
          "metadata": {
            "tags": []
          },
          "execution_count": 25
        }
      ]
    },
    {
      "cell_type": "code",
      "metadata": {
        "colab": {
          "base_uri": "https://localhost:8080/",
          "height": 542
        },
        "id": "zhQaeXRiwQko",
        "outputId": "252ba3a4-d2f9-481b-9d53-fb0997e465f9"
      },
      "source": [
        "# Grafica con las variables en la escala original\n",
        "# color discreto RECOMENDADO para visualizacion de clusters\n",
        "fig = px.scatter_matrix(df, dimensions=df.columns[:-1], color=df[df.columns[-1]].astype(str))\n",
        "fig.show()"
      ],
      "execution_count": 34,
      "outputs": [
        {
          "output_type": "display_data",
          "data": {
            "text/html": [
              "<html>\n",
              "<head><meta charset=\"utf-8\" /></head>\n",
              "<body>\n",
              "    <div>            <script src=\"https://cdnjs.cloudflare.com/ajax/libs/mathjax/2.7.5/MathJax.js?config=TeX-AMS-MML_SVG\"></script><script type=\"text/javascript\">if (window.MathJax) {MathJax.Hub.Config({SVG: {font: \"STIX-Web\"}});}</script>                <script type=\"text/javascript\">window.PlotlyConfig = {MathJaxConfig: 'local'};</script>\n",
              "        <script src=\"https://cdn.plot.ly/plotly-latest.min.js\"></script>                <div id=\"c41bd8d4-685f-425e-858e-8081eb7042fe\" class=\"plotly-graph-div\" style=\"height:525px; width:100%;\"></div>            <script type=\"text/javascript\">                                    window.PLOTLYENV=window.PLOTLYENV || {};                                    if (document.getElementById(\"c41bd8d4-685f-425e-858e-8081eb7042fe\")) {                    Plotly.newPlot(                        \"c41bd8d4-685f-425e-858e-8081eb7042fe\",                        [{\"dimensions\": [{\"axis\": {\"matches\": true}, \"label\": \"Temperatura\", \"values\": [500, 520, 520, 470, 480, 540, 520, 550, 490, 500, 550, 490, 440, 510, 500, 450, 440, 500, 510, 480, 510, 460, 530, 500, 510, 490, 470, 460, 500, 540, 460, 500, 440, 490, 540, 480, 480, 430, 580, 570, 540, 510, 570, 510, 540, 510, 460, 510, 480, 500]}, {\"axis\": {\"matches\": true}, \"label\": \"Velocidad\", \"values\": [1600, 1500, 1400, 1600, 1600, 1500, 1500, 1400, 1500, 1200, 1300, 1500, 1300, 1500, 1300, 1300, 1300, 1600, 1900, 1400, 1600, 1400, 1500, 1400, 1400, 1400, 1300, 1500, 1400, 1700, 1400, 1500, 1400, 1500, 1500, 1600, 1400, 1100, 1200, 1500, 1300, 1400, 1700, 1500, 1700, 1500, 1000, 1700, 1900, 1600]}, {\"axis\": {\"matches\": true}, \"label\": \"Elongacion\", \"values\": [3.4, 3.5, 3.4, 3.2, 3.1, 3.4, 4.1, 4.2, 3.1, 3.2, 3.5, 3.1, 3.0, 3.4, 3.5, 2.3, 3.2, 3.5, 3.8, 3.0, 3.8, 3.2, 3.7, 3.3, 3.5, 3.0, 3.2, 3.1, 3.6, 3.9, 3.4, 3.4, 2.9, 3.1, 3.7, 3.4, 3.0, 3.0, 4.0, 4.4, 3.9, 3.5, 3.8, 3.8, 3.4, 3.7, 3.6, 3.3, 3.4, 3.0]}, {\"axis\": {\"matches\": true}, \"label\": \"Diametro\", \"values\": [0.4, 0.2, 0.2, 0.2, 0.2, 0.4, 0.1, 0.2, 0.1, 0.2, 0.2, 0.1, 0.2, 0.2, 0.3, 0.3, 0.2, 0.6, 0.4, 0.3, 0.2, 0.2, 0.2, 0.2, 0.2, 0.2, 0.2, 0.2, 0.2, 0.4, 0.3, 0.2, 0.2, 0.1, 0.2, 0.2, 0.1, 0.1, 0.2, 0.4, 0.4, 0.3, 0.3, 0.3, 0.2, 0.4, 0.2, 0.5, 0.2, 0.2]}], \"hovertemplate\": \"color=1<br>%{xaxis.title.text}=%{x}<br>%{yaxis.title.text}=%{y}<extra></extra>\", \"legendgroup\": \"1\", \"marker\": {\"color\": \"#636efa\", \"symbol\": \"circle\"}, \"name\": \"1\", \"showlegend\": true, \"type\": \"splom\"}, {\"dimensions\": [{\"axis\": {\"matches\": true}, \"label\": \"Temperatura\", \"values\": [700, 640, 690, 630, 670, 590, 660, 680, 670, 600, 670, 630, 710, 630, 650, 760, 730, 670, 720, 650, 640, 680, 640, 650, 770, 770, 690, 770, 670, 720, 610, 640, 720, 740, 790, 640, 770, 630, 640, 690, 670, 690, 680, 670, 670, 650, 620]}, {\"axis\": {\"matches\": true}, \"label\": \"Velocidad\", \"values\": [4700, 4500, 4900, 4700, 4400, 4800, 4400, 4800, 5000, 4500, 4700, 6000, 5900, 5600, 5800, 6600, 6300, 5800, 6100, 5100, 5300, 5500, 5300, 5500, 6700, 6900, 5700, 6700, 5700, 6000, 4900, 5600, 5800, 6100, 6400, 5600, 6100, 5600, 5500, 5400, 5600, 5100, 5900, 5700, 5200, 5200, 5400]}, {\"axis\": {\"matches\": true}, \"label\": \"Elongacion\", \"values\": [3.2, 3.2, 3.1, 3.3, 3.1, 3.2, 3.0, 2.8, 3.0, 3.4, 3.1, 3.3, 3.0, 2.9, 3.0, 3.0, 2.9, 2.5, 3.6, 3.2, 2.7, 3.0, 3.2, 3.0, 3.8, 2.6, 3.2, 2.8, 3.3, 3.2, 3.0, 2.8, 3.0, 2.8, 3.8, 2.8, 3.0, 3.4, 3.1, 3.1, 3.1, 3.1, 3.2, 3.3, 3.0, 3.0, 3.4]}, {\"axis\": {\"matches\": true}, \"label\": \"Diametro\", \"values\": [1.4, 1.5, 1.5, 1.6, 1.4, 1.8, 1.4, 1.4, 1.7, 1.6, 1.5, 2.5, 2.1, 1.8, 2.2, 2.1, 1.8, 1.8, 2.5, 2.0, 1.9, 2.1, 2.3, 1.8, 2.2, 2.3, 2.3, 2.0, 2.1, 1.8, 1.8, 2.1, 1.6, 1.9, 2.0, 2.2, 2.3, 2.4, 1.8, 2.1, 2.4, 2.3, 2.3, 2.5, 2.3, 2.0, 2.3]}], \"hovertemplate\": \"color=2<br>%{xaxis.title.text}=%{x}<br>%{yaxis.title.text}=%{y}<extra></extra>\", \"legendgroup\": \"2\", \"marker\": {\"color\": \"#EF553B\", \"symbol\": \"circle\"}, \"name\": \"2\", \"showlegend\": true, \"type\": \"splom\"}, {\"dimensions\": [{\"axis\": {\"matches\": true}, \"label\": \"Temperatura\", \"values\": [550, 650, 570, 490, 660, 520, 500, 590, 600, 610, 560, 560, 580, 620, 560, 610, 630, 610, 640, 600, 570, 550, 550, 580, 600, 540, 630, 560, 550, 550, 610, 580, 500, 560, 570, 570, 620, 510, 570, 580, 490, 570, 580, 600, 560, 630, 620, 630, 610, 600, 580, 630, 590]}, {\"axis\": {\"matches\": true}, \"label\": \"Velocidad\", \"values\": [4000, 4600, 4500, 3300, 4600, 3900, 3500, 4200, 4000, 4700, 3600, 4500, 4100, 4500, 3900, 4000, 4900, 4700, 4300, 4500, 3500, 3800, 3700, 3900, 5100, 4500, 4400, 4100, 4000, 4400, 4600, 4000, 3300, 4200, 4200, 4200, 4300, 3000, 4100, 5100, 4500, 5000, 5100, 5000, 4900, 4900, 4800, 5100, 5600, 4800, 5100, 5000, 5100]}, {\"axis\": {\"matches\": true}, \"label\": \"Elongacion\", \"values\": [2.3, 2.8, 2.8, 2.4, 2.9, 2.7, 2.0, 3.0, 2.2, 2.9, 2.9, 3.0, 2.7, 2.2, 2.5, 2.8, 2.5, 2.8, 2.9, 2.9, 2.6, 2.4, 2.4, 2.7, 2.7, 3.0, 2.3, 3.0, 2.5, 2.6, 3.0, 2.6, 2.3, 2.7, 3.0, 2.9, 2.9, 2.5, 2.8, 2.7, 2.5, 2.5, 2.8, 2.2, 2.8, 2.7, 2.8, 2.8, 2.6, 3.0, 2.7, 2.5, 3.0]}, {\"axis\": {\"matches\": true}, \"label\": \"Diametro\", \"values\": [1.3, 1.5, 1.3, 1.0, 1.3, 1.4, 1.0, 1.5, 1.0, 1.4, 1.3, 1.5, 1.0, 1.5, 1.1, 1.3, 1.5, 1.2, 1.3, 1.5, 1.0, 1.1, 1.0, 1.2, 1.6, 1.5, 1.3, 1.3, 1.3, 1.2, 1.4, 1.2, 1.0, 1.3, 1.2, 1.3, 1.3, 1.1, 1.3, 1.9, 1.7, 2.0, 2.4, 1.5, 2.0, 1.8, 1.8, 1.5, 1.4, 1.8, 1.9, 1.9, 1.8]}], \"hovertemplate\": \"color=0<br>%{xaxis.title.text}=%{x}<br>%{yaxis.title.text}=%{y}<extra></extra>\", \"legendgroup\": \"0\", \"marker\": {\"color\": \"#00cc96\", \"symbol\": \"circle\"}, \"name\": \"0\", \"showlegend\": true, \"type\": \"splom\"}],                        {\"dragmode\": \"select\", \"legend\": {\"title\": {\"text\": \"color\"}, \"tracegroupgap\": 0}, \"margin\": {\"t\": 60}, \"template\": {\"data\": {\"bar\": [{\"error_x\": {\"color\": \"#2a3f5f\"}, \"error_y\": {\"color\": \"#2a3f5f\"}, \"marker\": {\"line\": {\"color\": \"#E5ECF6\", \"width\": 0.5}}, \"type\": \"bar\"}], \"barpolar\": [{\"marker\": {\"line\": {\"color\": \"#E5ECF6\", \"width\": 0.5}}, \"type\": \"barpolar\"}], \"carpet\": [{\"aaxis\": {\"endlinecolor\": \"#2a3f5f\", \"gridcolor\": \"white\", \"linecolor\": \"white\", \"minorgridcolor\": \"white\", \"startlinecolor\": \"#2a3f5f\"}, \"baxis\": {\"endlinecolor\": \"#2a3f5f\", \"gridcolor\": \"white\", \"linecolor\": \"white\", \"minorgridcolor\": \"white\", \"startlinecolor\": \"#2a3f5f\"}, \"type\": \"carpet\"}], \"choropleth\": [{\"colorbar\": {\"outlinewidth\": 0, \"ticks\": \"\"}, \"type\": \"choropleth\"}], \"contour\": [{\"colorbar\": {\"outlinewidth\": 0, \"ticks\": \"\"}, \"colorscale\": [[0.0, \"#0d0887\"], [0.1111111111111111, \"#46039f\"], [0.2222222222222222, \"#7201a8\"], [0.3333333333333333, \"#9c179e\"], [0.4444444444444444, \"#bd3786\"], [0.5555555555555556, \"#d8576b\"], [0.6666666666666666, \"#ed7953\"], [0.7777777777777778, \"#fb9f3a\"], [0.8888888888888888, \"#fdca26\"], [1.0, \"#f0f921\"]], \"type\": \"contour\"}], \"contourcarpet\": [{\"colorbar\": {\"outlinewidth\": 0, \"ticks\": \"\"}, \"type\": \"contourcarpet\"}], \"heatmap\": [{\"colorbar\": {\"outlinewidth\": 0, \"ticks\": \"\"}, \"colorscale\": [[0.0, \"#0d0887\"], [0.1111111111111111, \"#46039f\"], [0.2222222222222222, \"#7201a8\"], [0.3333333333333333, \"#9c179e\"], [0.4444444444444444, \"#bd3786\"], [0.5555555555555556, \"#d8576b\"], [0.6666666666666666, \"#ed7953\"], [0.7777777777777778, \"#fb9f3a\"], [0.8888888888888888, \"#fdca26\"], [1.0, \"#f0f921\"]], \"type\": \"heatmap\"}], \"heatmapgl\": [{\"colorbar\": {\"outlinewidth\": 0, \"ticks\": \"\"}, \"colorscale\": [[0.0, \"#0d0887\"], [0.1111111111111111, \"#46039f\"], [0.2222222222222222, \"#7201a8\"], [0.3333333333333333, \"#9c179e\"], [0.4444444444444444, \"#bd3786\"], [0.5555555555555556, \"#d8576b\"], [0.6666666666666666, \"#ed7953\"], [0.7777777777777778, \"#fb9f3a\"], [0.8888888888888888, \"#fdca26\"], [1.0, \"#f0f921\"]], \"type\": \"heatmapgl\"}], \"histogram\": [{\"marker\": {\"colorbar\": {\"outlinewidth\": 0, \"ticks\": \"\"}}, \"type\": \"histogram\"}], \"histogram2d\": [{\"colorbar\": {\"outlinewidth\": 0, \"ticks\": \"\"}, \"colorscale\": [[0.0, \"#0d0887\"], [0.1111111111111111, \"#46039f\"], [0.2222222222222222, \"#7201a8\"], [0.3333333333333333, \"#9c179e\"], [0.4444444444444444, \"#bd3786\"], [0.5555555555555556, \"#d8576b\"], [0.6666666666666666, \"#ed7953\"], [0.7777777777777778, \"#fb9f3a\"], [0.8888888888888888, \"#fdca26\"], [1.0, \"#f0f921\"]], \"type\": \"histogram2d\"}], \"histogram2dcontour\": [{\"colorbar\": {\"outlinewidth\": 0, \"ticks\": \"\"}, \"colorscale\": [[0.0, \"#0d0887\"], [0.1111111111111111, \"#46039f\"], [0.2222222222222222, \"#7201a8\"], [0.3333333333333333, \"#9c179e\"], [0.4444444444444444, \"#bd3786\"], [0.5555555555555556, \"#d8576b\"], [0.6666666666666666, \"#ed7953\"], [0.7777777777777778, \"#fb9f3a\"], [0.8888888888888888, \"#fdca26\"], [1.0, \"#f0f921\"]], \"type\": \"histogram2dcontour\"}], \"mesh3d\": [{\"colorbar\": {\"outlinewidth\": 0, \"ticks\": \"\"}, \"type\": \"mesh3d\"}], \"parcoords\": [{\"line\": {\"colorbar\": {\"outlinewidth\": 0, \"ticks\": \"\"}}, \"type\": \"parcoords\"}], \"pie\": [{\"automargin\": true, \"type\": \"pie\"}], \"scatter\": [{\"marker\": {\"colorbar\": {\"outlinewidth\": 0, \"ticks\": \"\"}}, \"type\": \"scatter\"}], \"scatter3d\": [{\"line\": {\"colorbar\": {\"outlinewidth\": 0, \"ticks\": \"\"}}, \"marker\": {\"colorbar\": {\"outlinewidth\": 0, \"ticks\": \"\"}}, \"type\": \"scatter3d\"}], \"scattercarpet\": [{\"marker\": {\"colorbar\": {\"outlinewidth\": 0, \"ticks\": \"\"}}, \"type\": \"scattercarpet\"}], \"scattergeo\": [{\"marker\": {\"colorbar\": {\"outlinewidth\": 0, \"ticks\": \"\"}}, \"type\": \"scattergeo\"}], \"scattergl\": [{\"marker\": {\"colorbar\": {\"outlinewidth\": 0, \"ticks\": \"\"}}, \"type\": \"scattergl\"}], \"scattermapbox\": [{\"marker\": {\"colorbar\": {\"outlinewidth\": 0, \"ticks\": \"\"}}, \"type\": \"scattermapbox\"}], \"scatterpolar\": [{\"marker\": {\"colorbar\": {\"outlinewidth\": 0, \"ticks\": \"\"}}, \"type\": \"scatterpolar\"}], \"scatterpolargl\": [{\"marker\": {\"colorbar\": {\"outlinewidth\": 0, \"ticks\": \"\"}}, \"type\": \"scatterpolargl\"}], \"scatterternary\": [{\"marker\": {\"colorbar\": {\"outlinewidth\": 0, \"ticks\": \"\"}}, \"type\": \"scatterternary\"}], \"surface\": [{\"colorbar\": {\"outlinewidth\": 0, \"ticks\": \"\"}, \"colorscale\": [[0.0, \"#0d0887\"], [0.1111111111111111, \"#46039f\"], [0.2222222222222222, \"#7201a8\"], [0.3333333333333333, \"#9c179e\"], [0.4444444444444444, \"#bd3786\"], [0.5555555555555556, \"#d8576b\"], [0.6666666666666666, \"#ed7953\"], [0.7777777777777778, \"#fb9f3a\"], [0.8888888888888888, \"#fdca26\"], [1.0, \"#f0f921\"]], \"type\": \"surface\"}], \"table\": [{\"cells\": {\"fill\": {\"color\": \"#EBF0F8\"}, \"line\": {\"color\": \"white\"}}, \"header\": {\"fill\": {\"color\": \"#C8D4E3\"}, \"line\": {\"color\": \"white\"}}, \"type\": \"table\"}]}, \"layout\": {\"annotationdefaults\": {\"arrowcolor\": \"#2a3f5f\", \"arrowhead\": 0, \"arrowwidth\": 1}, \"autotypenumbers\": \"strict\", \"coloraxis\": {\"colorbar\": {\"outlinewidth\": 0, \"ticks\": \"\"}}, \"colorscale\": {\"diverging\": [[0, \"#8e0152\"], [0.1, \"#c51b7d\"], [0.2, \"#de77ae\"], [0.3, \"#f1b6da\"], [0.4, \"#fde0ef\"], [0.5, \"#f7f7f7\"], [0.6, \"#e6f5d0\"], [0.7, \"#b8e186\"], [0.8, \"#7fbc41\"], [0.9, \"#4d9221\"], [1, \"#276419\"]], \"sequential\": [[0.0, \"#0d0887\"], [0.1111111111111111, \"#46039f\"], [0.2222222222222222, \"#7201a8\"], [0.3333333333333333, \"#9c179e\"], [0.4444444444444444, \"#bd3786\"], [0.5555555555555556, \"#d8576b\"], [0.6666666666666666, \"#ed7953\"], [0.7777777777777778, \"#fb9f3a\"], [0.8888888888888888, \"#fdca26\"], [1.0, \"#f0f921\"]], \"sequentialminus\": [[0.0, \"#0d0887\"], [0.1111111111111111, \"#46039f\"], [0.2222222222222222, \"#7201a8\"], [0.3333333333333333, \"#9c179e\"], [0.4444444444444444, \"#bd3786\"], [0.5555555555555556, \"#d8576b\"], [0.6666666666666666, \"#ed7953\"], [0.7777777777777778, \"#fb9f3a\"], [0.8888888888888888, \"#fdca26\"], [1.0, \"#f0f921\"]]}, \"colorway\": [\"#636efa\", \"#EF553B\", \"#00cc96\", \"#ab63fa\", \"#FFA15A\", \"#19d3f3\", \"#FF6692\", \"#B6E880\", \"#FF97FF\", \"#FECB52\"], \"font\": {\"color\": \"#2a3f5f\"}, \"geo\": {\"bgcolor\": \"white\", \"lakecolor\": \"white\", \"landcolor\": \"#E5ECF6\", \"showlakes\": true, \"showland\": true, \"subunitcolor\": \"white\"}, \"hoverlabel\": {\"align\": \"left\"}, \"hovermode\": \"closest\", \"mapbox\": {\"style\": \"light\"}, \"paper_bgcolor\": \"white\", \"plot_bgcolor\": \"#E5ECF6\", \"polar\": {\"angularaxis\": {\"gridcolor\": \"white\", \"linecolor\": \"white\", \"ticks\": \"\"}, \"bgcolor\": \"#E5ECF6\", \"radialaxis\": {\"gridcolor\": \"white\", \"linecolor\": \"white\", \"ticks\": \"\"}}, \"scene\": {\"xaxis\": {\"backgroundcolor\": \"#E5ECF6\", \"gridcolor\": \"white\", \"gridwidth\": 2, \"linecolor\": \"white\", \"showbackground\": true, \"ticks\": \"\", \"zerolinecolor\": \"white\"}, \"yaxis\": {\"backgroundcolor\": \"#E5ECF6\", \"gridcolor\": \"white\", \"gridwidth\": 2, \"linecolor\": \"white\", \"showbackground\": true, \"ticks\": \"\", \"zerolinecolor\": \"white\"}, \"zaxis\": {\"backgroundcolor\": \"#E5ECF6\", \"gridcolor\": \"white\", \"gridwidth\": 2, \"linecolor\": \"white\", \"showbackground\": true, \"ticks\": \"\", \"zerolinecolor\": \"white\"}}, \"shapedefaults\": {\"line\": {\"color\": \"#2a3f5f\"}}, \"ternary\": {\"aaxis\": {\"gridcolor\": \"white\", \"linecolor\": \"white\", \"ticks\": \"\"}, \"baxis\": {\"gridcolor\": \"white\", \"linecolor\": \"white\", \"ticks\": \"\"}, \"bgcolor\": \"#E5ECF6\", \"caxis\": {\"gridcolor\": \"white\", \"linecolor\": \"white\", \"ticks\": \"\"}}, \"title\": {\"x\": 0.05}, \"xaxis\": {\"automargin\": true, \"gridcolor\": \"white\", \"linecolor\": \"white\", \"ticks\": \"\", \"title\": {\"standoff\": 15}, \"zerolinecolor\": \"white\", \"zerolinewidth\": 2}, \"yaxis\": {\"automargin\": true, \"gridcolor\": \"white\", \"linecolor\": \"white\", \"ticks\": \"\", \"title\": {\"standoff\": 15}, \"zerolinecolor\": \"white\", \"zerolinewidth\": 2}}}},                        {\"responsive\": true}                    ).then(function(){\n",
              "                            \n",
              "var gd = document.getElementById('c41bd8d4-685f-425e-858e-8081eb7042fe');\n",
              "var x = new MutationObserver(function (mutations, observer) {{\n",
              "        var display = window.getComputedStyle(gd).display;\n",
              "        if (!display || display === 'none') {{\n",
              "            console.log([gd, 'removed!']);\n",
              "            Plotly.purge(gd);\n",
              "            observer.disconnect();\n",
              "        }}\n",
              "}});\n",
              "\n",
              "// Listen for the removal of the full notebook cells\n",
              "var notebookContainer = gd.closest('#notebook-container');\n",
              "if (notebookContainer) {{\n",
              "    x.observe(notebookContainer, {childList: true});\n",
              "}}\n",
              "\n",
              "// Listen for the clearing of the current output cell\n",
              "var outputEl = gd.closest('.output');\n",
              "if (outputEl) {{\n",
              "    x.observe(outputEl, {childList: true});\n",
              "}}\n",
              "\n",
              "                        })                };                            </script>        </div>\n",
              "</body>\n",
              "</html>"
            ]
          },
          "metadata": {
            "tags": []
          }
        }
      ]
    },
    {
      "cell_type": "code",
      "metadata": {
        "id": "haoIKKM-GpLb"
      },
      "source": [
        ""
      ],
      "execution_count": null,
      "outputs": []
    }
  ]
}