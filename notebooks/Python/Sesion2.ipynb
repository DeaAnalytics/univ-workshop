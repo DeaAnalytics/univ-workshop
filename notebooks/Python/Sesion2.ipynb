{
  "nbformat": 4,
  "nbformat_minor": 0,
  "metadata": {
    "colab": {
      "name": "Sesion2.ipynb",
      "provenance": [],
      "authorship_tag": "ABX9TyPnLJpJX9lIAmRuclkqyasJ",
      "include_colab_link": true
    },
    "kernelspec": {
      "name": "python3",
      "display_name": "Python 3"
    },
    "language_info": {
      "name": "python"
    }
  },
  "cells": [
    {
      "cell_type": "markdown",
      "metadata": {
        "id": "view-in-github",
        "colab_type": "text"
      },
      "source": [
        "<a href=\"https://colab.research.google.com/github/DeaAnalytics/univ-workshop/blob/main/notebooks/Python/Sesion2.ipynb\" target=\"_parent\"><img src=\"https://colab.research.google.com/assets/colab-badge.svg\" alt=\"Open In Colab\"/></a>"
      ]
    },
    {
      "cell_type": "code",
      "metadata": {
        "colab": {
          "base_uri": "https://localhost:8080/"
        },
        "id": "2LvLVKbsouOi",
        "outputId": "aba97d19-17f6-4376-8722-3406b78055e7"
      },
      "source": [
        "# Instalacion de librerias\n",
        "!pip install pandas"
      ],
      "execution_count": 1,
      "outputs": [
        {
          "output_type": "stream",
          "text": [
            "Requirement already satisfied: pandas in /usr/local/lib/python3.7/dist-packages (1.1.5)\n",
            "Requirement already satisfied: python-dateutil>=2.7.3 in /usr/local/lib/python3.7/dist-packages (from pandas) (2.8.1)\n",
            "Requirement already satisfied: pytz>=2017.2 in /usr/local/lib/python3.7/dist-packages (from pandas) (2018.9)\n",
            "Requirement already satisfied: numpy>=1.15.4 in /usr/local/lib/python3.7/dist-packages (from pandas) (1.19.5)\n",
            "Requirement already satisfied: six>=1.5 in /usr/local/lib/python3.7/dist-packages (from python-dateutil>=2.7.3->pandas) (1.15.0)\n",
            "Requirement already satisfied: sklearn in /usr/local/lib/python3.7/dist-packages (0.0)\n",
            "Requirement already satisfied: scikit-learn in /usr/local/lib/python3.7/dist-packages (from sklearn) (0.22.2.post1)\n",
            "Requirement already satisfied: scipy>=0.17.0 in /usr/local/lib/python3.7/dist-packages (from scikit-learn->sklearn) (1.4.1)\n",
            "Requirement already satisfied: numpy>=1.11.0 in /usr/local/lib/python3.7/dist-packages (from scikit-learn->sklearn) (1.19.5)\n",
            "Requirement already satisfied: joblib>=0.11 in /usr/local/lib/python3.7/dist-packages (from scikit-learn->sklearn) (1.0.1)\n"
          ],
          "name": "stdout"
        }
      ]
    },
    {
      "cell_type": "code",
      "metadata": {
        "id": "fZggLp81ovM_"
      },
      "source": [
        "# Importacion de librerias\n",
        "import pandas as pd\n",
        "import matplotlib.pyplot as plt"
      ],
      "execution_count": 2,
      "outputs": []
    },
    {
      "cell_type": "code",
      "metadata": {
        "colab": {
          "base_uri": "https://localhost:8080/",
          "height": 424
        },
        "id": "Phdas2V-omhj",
        "outputId": "3d5d0871-ffa4-4e5f-9505-dc6c5a409b88"
      },
      "source": [
        "#Leer el archivo que se llama TicketPrice_Airlines.csv y renombrarlo como \"df\"\n",
        "df = pd.read_csv(\"https://github.com/DeaAnalytics/univ-workshop/raw/main/data/TicketPrice_Airlines.csv\")\n",
        "df"
      ],
      "execution_count": 3,
      "outputs": [
        {
          "output_type": "execute_result",
          "data": {
            "text/html": [
              "<div>\n",
              "<style scoped>\n",
              "    .dataframe tbody tr th:only-of-type {\n",
              "        vertical-align: middle;\n",
              "    }\n",
              "\n",
              "    .dataframe tbody tr th {\n",
              "        vertical-align: top;\n",
              "    }\n",
              "\n",
              "    .dataframe thead th {\n",
              "        text-align: right;\n",
              "    }\n",
              "</style>\n",
              "<table border=\"1\" class=\"dataframe\">\n",
              "  <thead>\n",
              "    <tr style=\"text-align: right;\">\n",
              "      <th></th>\n",
              "      <th>TicketPrice</th>\n",
              "    </tr>\n",
              "  </thead>\n",
              "  <tbody>\n",
              "    <tr>\n",
              "      <th>0</th>\n",
              "      <td>336</td>\n",
              "    </tr>\n",
              "    <tr>\n",
              "      <th>1</th>\n",
              "      <td>344</td>\n",
              "    </tr>\n",
              "    <tr>\n",
              "      <th>2</th>\n",
              "      <td>480</td>\n",
              "    </tr>\n",
              "    <tr>\n",
              "      <th>3</th>\n",
              "      <td>480</td>\n",
              "    </tr>\n",
              "    <tr>\n",
              "      <th>4</th>\n",
              "      <td>301</td>\n",
              "    </tr>\n",
              "    <tr>\n",
              "      <th>...</th>\n",
              "      <td>...</td>\n",
              "    </tr>\n",
              "    <tr>\n",
              "      <th>103</th>\n",
              "      <td>301</td>\n",
              "    </tr>\n",
              "    <tr>\n",
              "      <th>104</th>\n",
              "      <td>300</td>\n",
              "    </tr>\n",
              "    <tr>\n",
              "      <th>105</th>\n",
              "      <td>300</td>\n",
              "    </tr>\n",
              "    <tr>\n",
              "      <th>106</th>\n",
              "      <td>614</td>\n",
              "    </tr>\n",
              "    <tr>\n",
              "      <th>107</th>\n",
              "      <td>614</td>\n",
              "    </tr>\n",
              "  </tbody>\n",
              "</table>\n",
              "<p>108 rows × 1 columns</p>\n",
              "</div>"
            ],
            "text/plain": [
              "     TicketPrice\n",
              "0            336\n",
              "1            344\n",
              "2            480\n",
              "3            480\n",
              "4            301\n",
              "..           ...\n",
              "103          301\n",
              "104          300\n",
              "105          300\n",
              "106          614\n",
              "107          614\n",
              "\n",
              "[108 rows x 1 columns]"
            ]
          },
          "metadata": {
            "tags": []
          },
          "execution_count": 3
        }
      ]
    },
    {
      "cell_type": "code",
      "metadata": {
        "colab": {
          "base_uri": "https://localhost:8080/",
          "height": 283
        },
        "id": "3_kE-pJRpLI4",
        "outputId": "12bb72d0-af32-4dc4-eab1-7b6f18765626"
      },
      "source": [
        "#Hacer un histograma simple, con falta de formato:\n",
        "# df.plot(kind=\"hist\")\n",
        "df.plot.hist()"
      ],
      "execution_count": 4,
      "outputs": [
        {
          "output_type": "execute_result",
          "data": {
            "text/plain": [
              "<matplotlib.axes._subplots.AxesSubplot at 0x7f81ca9caed0>"
            ]
          },
          "metadata": {
            "tags": []
          },
          "execution_count": 4
        },
        {
          "output_type": "display_data",
          "data": {
            "image/png": "[encoded data removed]",
            "text/plain": [
              "<Figure size 432x288 with 1 Axes>"
            ]
          },
          "metadata": {
            "tags": [],
            "needs_background": "light"
          }
        }
      ]
    },
    {
      "cell_type": "code",
      "metadata": {
        "colab": {
          "base_uri": "https://localhost:8080/",
          "height": 313
        },
        "id": "WmcxFYBfpkiW",
        "outputId": "d43cc3fd-0452-4712-be1b-b9e52da1b254"
      },
      "source": [
        "#Ahora a mi histograma vamos a ponerle títulos entendibles y color\n",
        "# df.plot(kind=\"hist\")\n",
        "fig = df.plot.hist(color=\"blue\")\n",
        "fig.set_title(\"Histograma de Ticket Price\")\n",
        "fig.set_xlabel(\"Ticket Price\")\n",
        "fig.set_ylabel(\"Frecuencia\")\n",
        "fig"
      ],
      "execution_count": 5,
      "outputs": [
        {
          "output_type": "execute_result",
          "data": {
            "text/plain": [
              "<matplotlib.axes._subplots.AxesSubplot at 0x7f81c3d4f1d0>"
            ]
          },
          "metadata": {
            "tags": []
          },
          "execution_count": 5
        },
        {
          "output_type": "display_data",
          "data": {
            "image/png": "[encoded data removed]",
            "text/plain": [
              "<Figure size 432x288 with 1 Axes>"
            ]
          },
          "metadata": {
            "tags": [],
            "needs_background": "light"
          }
        }
      ]
    },
    {
      "cell_type": "code",
      "metadata": {
        "colab": {
          "base_uri": "https://localhost:8080/",
          "height": 313
        },
        "id": "O7pPaO5npBHz",
        "outputId": "b660d75f-ce79-459e-84d3-feba571a7dba"
      },
      "source": [
        "#Si solo te interesa analizar una parte del eje x, puedes acotarlo utilizando xlim de la siguiente manera:\n",
        "fig = df.plot.hist(color=\"blue\")\n",
        "fig.set_title(\"Histograma de Ticket Price\")\n",
        "fig.set_xlabel(\"Ticket Price\")\n",
        "fig.set_ylabel(\"Frecuencia\")\n",
        "fig.set_xlim(300,500)\n",
        "fig"
      ],
      "execution_count": 6,
      "outputs": [
        {
          "output_type": "execute_result",
          "data": {
            "text/plain": [
              "<matplotlib.axes._subplots.AxesSubplot at 0x7f81c381d590>"
            ]
          },
          "metadata": {
            "tags": []
          },
          "execution_count": 6
        },
        {
          "output_type": "display_data",
          "data": {
            "image/png": "[encoded data removed]",
            "text/plain": [
              "<Figure size 432x288 with 1 Axes>"
            ]
          },
          "metadata": {
            "tags": [],
            "needs_background": "light"
          }
        }
      ]
    },
    {
      "cell_type": "code",
      "metadata": {
        "colab": {
          "base_uri": "https://localhost:8080/",
          "height": 313
        },
        "id": "EhXRz6PuuO8s",
        "outputId": "6beebad5-5530-4bcc-bcea-0553dbc9f8fb"
      },
      "source": [
        "#De manera muy similar si deseas acotar el eje y, se hace de la siguiente manera, solo que en lugar de xlim, ahora usamos ylim:\n",
        "fig = df.plot.hist(color=\"blue\")\n",
        "fig.set_title(\"Histograma de Ticket Price\")\n",
        "fig.set_xlabel(\"Ticket Price\")\n",
        "fig.set_ylabel(\"Frecuencia\")\n",
        "fig.set_ylim(0,40)\n",
        "fig"
      ],
      "execution_count": 7,
      "outputs": [
        {
          "output_type": "execute_result",
          "data": {
            "text/plain": [
              "<matplotlib.axes._subplots.AxesSubplot at 0x7f81c3757fd0>"
            ]
          },
          "metadata": {
            "tags": []
          },
          "execution_count": 7
        },
        {
          "output_type": "display_data",
          "data": {
            "image/png": "[encoded data removed]",
            "text/plain": [
              "<Figure size 432x288 with 1 Axes>"
            ]
          },
          "metadata": {
            "tags": [],
            "needs_background": "light"
          }
        }
      ]
    },
    {
      "cell_type": "code",
      "metadata": {
        "colab": {
          "base_uri": "https://localhost:8080/",
          "height": 283
        },
        "id": "M9pNBJd5uYvc",
        "outputId": "e8d6e5e7-8560-4847-98e6-efa05fa60fc2"
      },
      "source": [
        "#Plus: Como hacer un gráfica de densidad sin formato:\n",
        "df.plot.kde()"
      ],
      "execution_count": 8,
      "outputs": [
        {
          "output_type": "execute_result",
          "data": {
            "text/plain": [
              "<matplotlib.axes._subplots.AxesSubplot at 0x7f81c373d6d0>"
            ]
          },
          "metadata": {
            "tags": []
          },
          "execution_count": 8
        },
        {
          "output_type": "display_data",
          "data": {
            "image/png": "[encoded data removed]",
            "text/plain": [
              "<Figure size 432x288 with 1 Axes>"
            ]
          },
          "metadata": {
            "tags": [],
            "needs_background": "light"
          }
        }
      ]
    },
    {
      "cell_type": "code",
      "metadata": {
        "colab": {
          "base_uri": "https://localhost:8080/",
          "height": 313
        },
        "id": "nomEd0YEwXPs",
        "outputId": "6dba841e-059a-43ba-c801-31f21152dfea"
      },
      "source": [
        "#Como hacer un gráfica de densidad con un poco más de formato:\n",
        "fig = df.plot.kde(color=\"blue\")\n",
        "fig.set_title(\"Densidad de Ticket Price\")\n",
        "fig.set_xlabel(\"Ticket Price\")\n",
        "fig.set_ylabel(\"Densidad\")\n",
        "fig"
      ],
      "execution_count": 9,
      "outputs": [
        {
          "output_type": "execute_result",
          "data": {
            "text/plain": [
              "<matplotlib.axes._subplots.AxesSubplot at 0x7f81b3cf1a50>"
            ]
          },
          "metadata": {
            "tags": []
          },
          "execution_count": 9
        },
        {
          "output_type": "display_data",
          "data": {
            "image/png": "[encoded data removed]",
            "text/plain": [
              "<Figure size 432x288 with 1 Axes>"
            ]
          },
          "metadata": {
            "tags": [],
            "needs_background": "light"
          }
        }
      ]
    },
    {
      "cell_type": "code",
      "metadata": {
        "colab": {
          "base_uri": "https://localhost:8080/",
          "height": 283
        },
        "id": "Oh3hqprJwm9F",
        "outputId": "32da00fb-aa5c-47d8-f5b8-513bdd3b4a3e"
      },
      "source": [
        "#Ahora veamos como hacer un boxplot, de inicio sin formato\n",
        "df.plot.box()"
      ],
      "execution_count": 10,
      "outputs": [
        {
          "output_type": "execute_result",
          "data": {
            "text/plain": [
              "<matplotlib.axes._subplots.AxesSubplot at 0x7f81b3c6ce90>"
            ]
          },
          "metadata": {
            "tags": []
          },
          "execution_count": 10
        },
        {
          "output_type": "display_data",
          "data": {
            "image/png": "[encoded data removed]",
            "text/plain": [
              "<Figure size 432x288 with 1 Axes>"
            ]
          },
          "metadata": {
            "tags": [],
            "needs_background": "light"
          }
        }
      ]
    },
    {
      "cell_type": "code",
      "metadata": {
        "colab": {
          "base_uri": "https://localhost:8080/",
          "height": 299
        },
        "id": "g2ZG_E8rwts7",
        "outputId": "fac1d0fd-bcf8-4e39-b9bc-190617b17f4f"
      },
      "source": [
        "#Ahora hagamos más presentable nuestro boxplot, le ponemos nombre, le ponemos color y lo vamos a poner de manera horizontal:\n",
        "fig = df.plot.box(color = \"#0000CC\", vert=False, notch=True)\n",
        "fig.set_title(\"Boxplot de TicketPrice\")\n",
        "fig"
      ],
      "execution_count": 11,
      "outputs": [
        {
          "output_type": "execute_result",
          "data": {
            "text/plain": [
              "<matplotlib.axes._subplots.AxesSubplot at 0x7f81b3bcef90>"
            ]
          },
          "metadata": {
            "tags": []
          },
          "execution_count": 11
        },
        {
          "output_type": "display_data",
          "data": {
            "image/png": "[encoded data removed]",
            "text/plain": [
              "<Figure size 432x288 with 1 Axes>"
            ]
          },
          "metadata": {
            "tags": [],
            "needs_background": "light"
          }
        }
      ]
    },
    {
      "cell_type": "code",
      "metadata": {
        "colab": {
          "base_uri": "https://localhost:8080/",
          "height": 300
        },
        "id": "vHOuJsz3w-FH",
        "outputId": "486e67a3-896e-447d-9e73-7b71d0c90b9c"
      },
      "source": [
        "df.describe()"
      ],
      "execution_count": 12,
      "outputs": [
        {
          "output_type": "execute_result",
          "data": {
            "text/html": [
              "<div>\n",
              "<style scoped>\n",
              "    .dataframe tbody tr th:only-of-type {\n",
              "        vertical-align: middle;\n",
              "    }\n",
              "\n",
              "    .dataframe tbody tr th {\n",
              "        vertical-align: top;\n",
              "    }\n",
              "\n",
              "    .dataframe thead th {\n",
              "        text-align: right;\n",
              "    }\n",
              "</style>\n",
              "<table border=\"1\" class=\"dataframe\">\n",
              "  <thead>\n",
              "    <tr style=\"text-align: right;\">\n",
              "      <th></th>\n",
              "      <th>TicketPrice</th>\n",
              "    </tr>\n",
              "  </thead>\n",
              "  <tbody>\n",
              "    <tr>\n",
              "      <th>count</th>\n",
              "      <td>108.000000</td>\n",
              "    </tr>\n",
              "    <tr>\n",
              "      <th>mean</th>\n",
              "      <td>376.370370</td>\n",
              "    </tr>\n",
              "    <tr>\n",
              "      <th>std</th>\n",
              "      <td>86.460038</td>\n",
              "    </tr>\n",
              "    <tr>\n",
              "      <th>min</th>\n",
              "      <td>300.000000</td>\n",
              "    </tr>\n",
              "    <tr>\n",
              "      <th>25%</th>\n",
              "      <td>305.000000</td>\n",
              "    </tr>\n",
              "    <tr>\n",
              "      <th>50%</th>\n",
              "      <td>341.000000</td>\n",
              "    </tr>\n",
              "    <tr>\n",
              "      <th>75%</th>\n",
              "      <td>424.000000</td>\n",
              "    </tr>\n",
              "    <tr>\n",
              "      <th>max</th>\n",
              "      <td>620.000000</td>\n",
              "    </tr>\n",
              "  </tbody>\n",
              "</table>\n",
              "</div>"
            ],
            "text/plain": [
              "       TicketPrice\n",
              "count   108.000000\n",
              "mean    376.370370\n",
              "std      86.460038\n",
              "min     300.000000\n",
              "25%     305.000000\n",
              "50%     341.000000\n",
              "75%     424.000000\n",
              "max     620.000000"
            ]
          },
          "metadata": {
            "tags": []
          },
          "execution_count": 12
        }
      ]
    },
    {
      "cell_type": "code",
      "metadata": {
        "colab": {
          "base_uri": "https://localhost:8080/",
          "height": 606
        },
        "id": "1-lKcDh1x80n",
        "outputId": "eb0f78ac-9f44-4f5c-c997-d2e47d666ee1"
      },
      "source": [
        "#Ahora, supongamos que queremos analizar estas 3 representaciones gráficas en uno solo y un summary inicial para mejor visión de los resultados:\n",
        "print(df.describe())\n",
        "\n",
        "# Creamos los espacios para las figuras\n",
        "fig, axes = plt.subplots(nrows=3, ncols=1, figsize=(8,6))\n",
        "\n",
        "# Agregamos la grfica de densidad\n",
        "df.plot.kde(color=\"blue\", ax=axes[0])\n",
        "axes[0].set_title(\"Densidad de Ticket Price\")\n",
        "axes[0].set_xlabel(\"Ticket Price\")\n",
        "axes[0].set_ylabel(\"Densidad\")\n",
        "\n",
        "# Agregamos la grfica de histograma\n",
        "df.plot.hist(color=\"blue\", ax=axes[1])\n",
        "axes[1].set_title(\"Histograma de Ticket Price\")\n",
        "axes[1].set_xlabel(\"Ticket Price\")\n",
        "axes[1].set_ylabel(\"Frecuencia\")\n",
        "\n",
        "# Agregamos la grfica de caja\n",
        "df.plot.box(color = \"#0000CC\", vert=False, notch=True, ax=axes[2])\n",
        "axes[2].set_title(\"Boxplot de TicketPrice\")\n",
        "\n",
        "# Ajustamos la imagen\n",
        "fig.tight_layout()\n",
        "# Mostramos el resultado\n",
        "fig.show()\n",
        "#Que puntos son considerados outlier: Q3 + 1.5 IQR y Q3 - 1.5 IQR (donde IQR: rango ingercuartílico = Q3-Q1)\n",
        "\n"
      ],
      "execution_count": 13,
      "outputs": [
        {
          "output_type": "stream",
          "text": [
            "       TicketPrice\n",
            "count   108.000000\n",
            "mean    376.370370\n",
            "std      86.460038\n",
            "min     300.000000\n",
            "25%     305.000000\n",
            "50%     341.000000\n",
            "75%     424.000000\n",
            "max     620.000000\n"
          ],
          "name": "stdout"
        },
        {
          "output_type": "display_data",
          "data": {
            "image/png": "[encoded data removed]",
            "text/plain": [
              "<Figure size 576x432 with 3 Axes>"
            ]
          },
          "metadata": {
            "tags": [],
            "needs_background": "light"
          }
        }
      ]
    },
    {
      "cell_type": "code",
      "metadata": {
        "colab": {
          "base_uri": "https://localhost:8080/",
          "height": 424
        },
        "id": "NM0hwmcqz_CD",
        "outputId": "915ebe5b-30fc-49e3-fbdc-73e620ee4210"
      },
      "source": [
        "#Ahora vamos a leer el archivo que se llama Matriz_Correlacion.csv y renombrarlo como \"df2\" para hacer análisis futuros y veamos que contiene\n",
        "df2 = pd.read_csv(\"https://github.com/DeaAnalytics/univ-workshop/raw/main/data/Matriz_Correlacion.csv\")\n",
        "df2"
      ],
      "execution_count": 14,
      "outputs": [
        {
          "output_type": "execute_result",
          "data": {
            "text/html": [
              "<div>\n",
              "<style scoped>\n",
              "    .dataframe tbody tr th:only-of-type {\n",
              "        vertical-align: middle;\n",
              "    }\n",
              "\n",
              "    .dataframe tbody tr th {\n",
              "        vertical-align: top;\n",
              "    }\n",
              "\n",
              "    .dataframe thead th {\n",
              "        text-align: right;\n",
              "    }\n",
              "</style>\n",
              "<table border=\"1\" class=\"dataframe\">\n",
              "  <thead>\n",
              "    <tr style=\"text-align: right;\">\n",
              "      <th></th>\n",
              "      <th>TempS1</th>\n",
              "      <th>TorqueS1</th>\n",
              "      <th>TempS2</th>\n",
              "      <th>TorqueS2</th>\n",
              "    </tr>\n",
              "  </thead>\n",
              "  <tbody>\n",
              "    <tr>\n",
              "      <th>0</th>\n",
              "      <td>124</td>\n",
              "      <td>24</td>\n",
              "      <td>100</td>\n",
              "      <td>26</td>\n",
              "    </tr>\n",
              "    <tr>\n",
              "      <th>1</th>\n",
              "      <td>118</td>\n",
              "      <td>23</td>\n",
              "      <td>65</td>\n",
              "      <td>24</td>\n",
              "    </tr>\n",
              "    <tr>\n",
              "      <th>2</th>\n",
              "      <td>105</td>\n",
              "      <td>21</td>\n",
              "      <td>120</td>\n",
              "      <td>26</td>\n",
              "    </tr>\n",
              "    <tr>\n",
              "      <th>3</th>\n",
              "      <td>96</td>\n",
              "      <td>20</td>\n",
              "      <td>76</td>\n",
              "      <td>24</td>\n",
              "    </tr>\n",
              "    <tr>\n",
              "      <th>4</th>\n",
              "      <td>130</td>\n",
              "      <td>27</td>\n",
              "      <td>35</td>\n",
              "      <td>21</td>\n",
              "    </tr>\n",
              "    <tr>\n",
              "      <th>...</th>\n",
              "      <td>...</td>\n",
              "      <td>...</td>\n",
              "      <td>...</td>\n",
              "      <td>...</td>\n",
              "    </tr>\n",
              "    <tr>\n",
              "      <th>172</th>\n",
              "      <td>106</td>\n",
              "      <td>29</td>\n",
              "      <td>70</td>\n",
              "      <td>22</td>\n",
              "    </tr>\n",
              "    <tr>\n",
              "      <th>173</th>\n",
              "      <td>105</td>\n",
              "      <td>24</td>\n",
              "      <td>80</td>\n",
              "      <td>22</td>\n",
              "    </tr>\n",
              "    <tr>\n",
              "      <th>174</th>\n",
              "      <td>101</td>\n",
              "      <td>26</td>\n",
              "      <td>90</td>\n",
              "      <td>27</td>\n",
              "    </tr>\n",
              "    <tr>\n",
              "      <th>175</th>\n",
              "      <td>80</td>\n",
              "      <td>26</td>\n",
              "      <td>100</td>\n",
              "      <td>32</td>\n",
              "    </tr>\n",
              "    <tr>\n",
              "      <th>176</th>\n",
              "      <td>100</td>\n",
              "      <td>25</td>\n",
              "      <td>110</td>\n",
              "      <td>37</td>\n",
              "    </tr>\n",
              "  </tbody>\n",
              "</table>\n",
              "<p>177 rows × 4 columns</p>\n",
              "</div>"
            ],
            "text/plain": [
              "     TempS1  TorqueS1  TempS2  TorqueS2\n",
              "0       124        24     100        26\n",
              "1       118        23      65        24\n",
              "2       105        21     120        26\n",
              "3        96        20      76        24\n",
              "4       130        27      35        21\n",
              "..      ...       ...     ...       ...\n",
              "172     106        29      70        22\n",
              "173     105        24      80        22\n",
              "174     101        26      90        27\n",
              "175      80        26     100        32\n",
              "176     100        25     110        37\n",
              "\n",
              "[177 rows x 4 columns]"
            ]
          },
          "metadata": {
            "tags": []
          },
          "execution_count": 14
        }
      ]
    },
    {
      "cell_type": "code",
      "metadata": {
        "colab": {
          "base_uri": "https://localhost:8080/",
          "height": 297
        },
        "id": "YhmGZMPm7OeI",
        "outputId": "f57e36c5-4d9a-4fab-eef6-e546df5f9702"
      },
      "source": [
        "#Ahora hagamos un Diagrama de Dispersión que nos permitirá ver si hay alguna relación con las variables de mi tabla\n",
        "# elegimos quien será x y y (cualesquier par de variables de mi tabla df2)\n",
        "#Primero tomemos a x=Temperatura del sector1 y y=Temperatura del sector2\n",
        "df2.plot.scatter(x=\"TempS1\", y=\"TempS2\")"
      ],
      "execution_count": 15,
      "outputs": [
        {
          "output_type": "execute_result",
          "data": {
            "text/plain": [
              "<matplotlib.axes._subplots.AxesSubplot at 0x7f81b3b51f10>"
            ]
          },
          "metadata": {
            "tags": []
          },
          "execution_count": 15
        },
        {
          "output_type": "display_data",
          "data": {
            "image/png": "[encoded data removed]",
            "text/plain": [
              "<Figure size 432x288 with 1 Axes>"
            ]
          },
          "metadata": {
            "tags": [],
            "needs_background": "light"
          }
        }
      ]
    },
    {
      "cell_type": "code",
      "metadata": {
        "colab": {
          "base_uri": "https://localhost:8080/",
          "height": 297
        },
        "id": "OPVW2MGa7h6V",
        "outputId": "3b2dc157-0eec-49ad-8b11-207524900e33"
      },
      "source": [
        "#Ahora hagamos un Diagrama de Dispersión con x=Torque S1 y y=TorqueS2\n",
        "df2.plot.scatter(x=\"TempS1\", y=\"TorqueS1\")"
      ],
      "execution_count": 16,
      "outputs": [
        {
          "output_type": "execute_result",
          "data": {
            "text/plain": [
              "<matplotlib.axes._subplots.AxesSubplot at 0x7f81ab9a1a50>"
            ]
          },
          "metadata": {
            "tags": []
          },
          "execution_count": 16
        },
        {
          "output_type": "display_data",
          "data": {
            "image/png": "[encoded data removed]",
            "text/plain": [
              "<Figure size 432x288 with 1 Axes>"
            ]
          },
          "metadata": {
            "tags": [],
            "needs_background": "light"
          }
        }
      ]
    },
    {
      "cell_type": "code",
      "metadata": {
        "colab": {
          "base_uri": "https://localhost:8080/",
          "height": 297
        },
        "id": "lk6bHWaX7t7_",
        "outputId": "200896d7-cdd2-42c5-9414-1553ac638eb6"
      },
      "source": [
        "#Y lo mismo podemos hacer con las diferentes combinaciones en pares de las variables contenidas en la tabla:\n",
        "df2.plot.scatter(x=\"TempS2\", y=\"TorqueS2\")"
      ],
      "execution_count": 17,
      "outputs": [
        {
          "output_type": "execute_result",
          "data": {
            "text/plain": [
              "<matplotlib.axes._subplots.AxesSubplot at 0x7f81ab977510>"
            ]
          },
          "metadata": {
            "tags": []
          },
          "execution_count": 17
        },
        {
          "output_type": "display_data",
          "data": {
            "image/png": "[encoded data removed]",
            "text/plain": [
              "<Figure size 432x288 with 1 Axes>"
            ]
          },
          "metadata": {
            "tags": [],
            "needs_background": "light"
          }
        }
      ]
    },
    {
      "cell_type": "code",
      "metadata": {
        "colab": {
          "base_uri": "https://localhost:8080/",
          "height": 175
        },
        "id": "fgFL6PYW8B-i",
        "outputId": "8b3ff0ca-4254-4bcc-f668-5498659fc657"
      },
      "source": [
        "#Primero obtengamos una matriz de correlación simple, redondeando los coeficientes de correlación y renombrandolo como \"corr\"\n",
        "corr = df2.corr()\n",
        "corr"
      ],
      "execution_count": 18,
      "outputs": [
        {
          "output_type": "execute_result",
          "data": {
            "text/html": [
              "<div>\n",
              "<style scoped>\n",
              "    .dataframe tbody tr th:only-of-type {\n",
              "        vertical-align: middle;\n",
              "    }\n",
              "\n",
              "    .dataframe tbody tr th {\n",
              "        vertical-align: top;\n",
              "    }\n",
              "\n",
              "    .dataframe thead th {\n",
              "        text-align: right;\n",
              "    }\n",
              "</style>\n",
              "<table border=\"1\" class=\"dataframe\">\n",
              "  <thead>\n",
              "    <tr style=\"text-align: right;\">\n",
              "      <th></th>\n",
              "      <th>TempS1</th>\n",
              "      <th>TorqueS1</th>\n",
              "      <th>TempS2</th>\n",
              "      <th>TorqueS2</th>\n",
              "    </tr>\n",
              "  </thead>\n",
              "  <tbody>\n",
              "    <tr>\n",
              "      <th>TempS1</th>\n",
              "      <td>1.000000</td>\n",
              "      <td>0.354057</td>\n",
              "      <td>-0.024456</td>\n",
              "      <td>0.092461</td>\n",
              "    </tr>\n",
              "    <tr>\n",
              "      <th>TorqueS1</th>\n",
              "      <td>0.354057</td>\n",
              "      <td>1.000000</td>\n",
              "      <td>-0.040869</td>\n",
              "      <td>-0.041783</td>\n",
              "    </tr>\n",
              "    <tr>\n",
              "      <th>TempS2</th>\n",
              "      <td>-0.024456</td>\n",
              "      <td>-0.040869</td>\n",
              "      <td>1.000000</td>\n",
              "      <td>0.565294</td>\n",
              "    </tr>\n",
              "    <tr>\n",
              "      <th>TorqueS2</th>\n",
              "      <td>0.092461</td>\n",
              "      <td>-0.041783</td>\n",
              "      <td>0.565294</td>\n",
              "      <td>1.000000</td>\n",
              "    </tr>\n",
              "  </tbody>\n",
              "</table>\n",
              "</div>"
            ],
            "text/plain": [
              "            TempS1  TorqueS1    TempS2  TorqueS2\n",
              "TempS1    1.000000  0.354057 -0.024456  0.092461\n",
              "TorqueS1  0.354057  1.000000 -0.040869 -0.041783\n",
              "TempS2   -0.024456 -0.040869  1.000000  0.565294\n",
              "TorqueS2  0.092461 -0.041783  0.565294  1.000000"
            ]
          },
          "metadata": {
            "tags": []
          },
          "execution_count": 18
        }
      ]
    },
    {
      "cell_type": "code",
      "metadata": {
        "colab": {
          "base_uri": "https://localhost:8080/",
          "height": 126
        },
        "id": "zCPQzaLM9FLq",
        "outputId": "68325b5c-14f9-4aaa-9f85-8bbd4ab0f2af"
      },
      "source": [
        "corr.style.background_gradient(cmap='coolwarm').set_precision(3)"
      ],
      "execution_count": 19,
      "outputs": [
        {
          "output_type": "execute_result",
          "data": {
            "text/html": [
              "<style  type=\"text/css\" >\n",
              "#T_39911faa_9e21_11eb_af97_0242ac1c0002row0_col0,#T_39911faa_9e21_11eb_af97_0242ac1c0002row1_col1,#T_39911faa_9e21_11eb_af97_0242ac1c0002row2_col2,#T_39911faa_9e21_11eb_af97_0242ac1c0002row3_col3{\n",
              "            background-color:  #b40426;\n",
              "            color:  #f1f1f1;\n",
              "        }#T_39911faa_9e21_11eb_af97_0242ac1c0002row0_col1{\n",
              "            background-color:  #bad0f8;\n",
              "            color:  #000000;\n",
              "        }#T_39911faa_9e21_11eb_af97_0242ac1c0002row0_col2{\n",
              "            background-color:  #3f53c6;\n",
              "            color:  #f1f1f1;\n",
              "        }#T_39911faa_9e21_11eb_af97_0242ac1c0002row0_col3{\n",
              "            background-color:  #6282ea;\n",
              "            color:  #000000;\n",
              "        }#T_39911faa_9e21_11eb_af97_0242ac1c0002row1_col0{\n",
              "            background-color:  #b6cefa;\n",
              "            color:  #000000;\n",
              "        }#T_39911faa_9e21_11eb_af97_0242ac1c0002row1_col2,#T_39911faa_9e21_11eb_af97_0242ac1c0002row1_col3,#T_39911faa_9e21_11eb_af97_0242ac1c0002row2_col0,#T_39911faa_9e21_11eb_af97_0242ac1c0002row2_col1,#T_39911faa_9e21_11eb_af97_0242ac1c0002row3_col1{\n",
              "            background-color:  #3b4cc0;\n",
              "            color:  #f1f1f1;\n",
              "        }#T_39911faa_9e21_11eb_af97_0242ac1c0002row2_col3,#T_39911faa_9e21_11eb_af97_0242ac1c0002row3_col2{\n",
              "            background-color:  #efcebd;\n",
              "            color:  #000000;\n",
              "        }#T_39911faa_9e21_11eb_af97_0242ac1c0002row3_col0{\n",
              "            background-color:  #5e7de7;\n",
              "            color:  #000000;\n",
              "        }</style><table id=\"T_39911faa_9e21_11eb_af97_0242ac1c0002\" ><thead>    <tr>        <th class=\"blank level0\" ></th>        <th class=\"col_heading level0 col0\" >TempS1</th>        <th class=\"col_heading level0 col1\" >TorqueS1</th>        <th class=\"col_heading level0 col2\" >TempS2</th>        <th class=\"col_heading level0 col3\" >TorqueS2</th>    </tr></thead><tbody>\n",
              "                <tr>\n",
              "                        <th id=\"T_39911faa_9e21_11eb_af97_0242ac1c0002level0_row0\" class=\"row_heading level0 row0\" >TempS1</th>\n",
              "                        <td id=\"T_39911faa_9e21_11eb_af97_0242ac1c0002row0_col0\" class=\"data row0 col0\" >1.000</td>\n",
              "                        <td id=\"T_39911faa_9e21_11eb_af97_0242ac1c0002row0_col1\" class=\"data row0 col1\" >0.354</td>\n",
              "                        <td id=\"T_39911faa_9e21_11eb_af97_0242ac1c0002row0_col2\" class=\"data row0 col2\" >-0.024</td>\n",
              "                        <td id=\"T_39911faa_9e21_11eb_af97_0242ac1c0002row0_col3\" class=\"data row0 col3\" >0.092</td>\n",
              "            </tr>\n",
              "            <tr>\n",
              "                        <th id=\"T_39911faa_9e21_11eb_af97_0242ac1c0002level0_row1\" class=\"row_heading level0 row1\" >TorqueS1</th>\n",
              "                        <td id=\"T_39911faa_9e21_11eb_af97_0242ac1c0002row1_col0\" class=\"data row1 col0\" >0.354</td>\n",
              "                        <td id=\"T_39911faa_9e21_11eb_af97_0242ac1c0002row1_col1\" class=\"data row1 col1\" >1.000</td>\n",
              "                        <td id=\"T_39911faa_9e21_11eb_af97_0242ac1c0002row1_col2\" class=\"data row1 col2\" >-0.041</td>\n",
              "                        <td id=\"T_39911faa_9e21_11eb_af97_0242ac1c0002row1_col3\" class=\"data row1 col3\" >-0.042</td>\n",
              "            </tr>\n",
              "            <tr>\n",
              "                        <th id=\"T_39911faa_9e21_11eb_af97_0242ac1c0002level0_row2\" class=\"row_heading level0 row2\" >TempS2</th>\n",
              "                        <td id=\"T_39911faa_9e21_11eb_af97_0242ac1c0002row2_col0\" class=\"data row2 col0\" >-0.024</td>\n",
              "                        <td id=\"T_39911faa_9e21_11eb_af97_0242ac1c0002row2_col1\" class=\"data row2 col1\" >-0.041</td>\n",
              "                        <td id=\"T_39911faa_9e21_11eb_af97_0242ac1c0002row2_col2\" class=\"data row2 col2\" >1.000</td>\n",
              "                        <td id=\"T_39911faa_9e21_11eb_af97_0242ac1c0002row2_col3\" class=\"data row2 col3\" >0.565</td>\n",
              "            </tr>\n",
              "            <tr>\n",
              "                        <th id=\"T_39911faa_9e21_11eb_af97_0242ac1c0002level0_row3\" class=\"row_heading level0 row3\" >TorqueS2</th>\n",
              "                        <td id=\"T_39911faa_9e21_11eb_af97_0242ac1c0002row3_col0\" class=\"data row3 col0\" >0.092</td>\n",
              "                        <td id=\"T_39911faa_9e21_11eb_af97_0242ac1c0002row3_col1\" class=\"data row3 col1\" >-0.042</td>\n",
              "                        <td id=\"T_39911faa_9e21_11eb_af97_0242ac1c0002row3_col2\" class=\"data row3 col2\" >0.565</td>\n",
              "                        <td id=\"T_39911faa_9e21_11eb_af97_0242ac1c0002row3_col3\" class=\"data row3 col3\" >1.000</td>\n",
              "            </tr>\n",
              "    </tbody></table>"
            ],
            "text/plain": [
              "<pandas.io.formats.style.Styler at 0x7f81ab8f7310>"
            ]
          },
          "metadata": {
            "tags": []
          },
          "execution_count": 19
        }
      ]
    },
    {
      "cell_type": "code",
      "metadata": {
        "id": "0_cEGNfV8Fsw"
      },
      "source": [
        "# Recursos de visualizacion con pandas\n",
        "# https://pandas.pydata.org/pandas-docs/stable/user_guide/visualization.html\n",
        "\n",
        "# Libreria para graficas interactivas y dashboards\n",
        "# https://plotly.com/python/ tambien esta disponible para R https://plotly.com/r/"
      ],
      "execution_count": 20,
      "outputs": []
    },
    {
      "cell_type": "code",
      "metadata": {
        "id": "Jc4JXqgn8W8V"
      },
      "source": [
        ""
      ],
      "execution_count": 20,
      "outputs": []
    }
  ]
}