{
  "nbformat": 4,
  "nbformat_minor": 0,
  "metadata": {
    "colab": {
      "name": "Untitled6.ipynb",
      "provenance": [],
      "authorship_tag": "ABX9TyNOgiOANkdZitR9VatmIaWa",
      "include_colab_link": true
    },
    "kernelspec": {
      "name": "ir",
      "display_name": "R"
    },
    "language_info": {
      "name": "R"
    }
  },
  "cells": [
    {
      "cell_type": "markdown",
      "metadata": {
        "id": "view-in-github",
        "colab_type": "text"
      },
      "source": [
        "<a href=\"https://colab.research.google.com/github/DeaAnalytics/univ-workshop/blob/main/notebooks/R/Sesion7.ipynb\" target=\"_parent\"><img src=\"https://colab.research.google.com/assets/colab-badge.svg\" alt=\"Open In Colab\"/></a>"
      ]
    },
    {
      "cell_type": "markdown",
      "metadata": {
        "id": "6-o5yaFUDudG"
      },
      "source": [
        "# **Algoritmos de Clasificación** Deseamos en el siguiente problema, predecir si una palanquilla (Barra) será una barra perdida (Reventón) o no (no Reventón)"
      ]
    },
    {
      "cell_type": "code",
      "metadata": {
        "colab": {
          "base_uri": "https://localhost:8080/",
          "height": 286
        },
        "id": "LDSidAJAE8eq",
        "outputId": "d9a724d0-dfdc-42ef-e421-f6e9aa1f8151"
      },
      "source": [
        "#Leer un archivo .csv, en este caso agregarmos la liga de github que contiene esta tabla y renombrarla como df\n",
        "df <- read.csv(\"https://github.com/DeaAnalytics/univ-workshop/raw/main/data/Clasificacion_Test.csv\")\n",
        "head(df)"
      ],
      "execution_count": 1,
      "outputs": [
        {
          "output_type": "display_data",
          "data": {
            "text/plain": [
              "  Temp_SalidaHr Torque_S6 Diametro_S12 Temp_S5 Torque_S12 Diametro_S18\n",
              "1 1227          60        0.20         500     167        5.53        \n",
              "2 1207          67        1.27         500     162        5.12        \n",
              "3 1227          60        0.68         500     145        4.44        \n",
              "4 1204          61        0.96         500     157        4.78        \n",
              "5 1200          55        1.08         500     153        4.89        \n",
              "6 1179          57        1.24         500     153        4.51        \n",
              "  Torque_S18 Temp_Bobinadora Barra_Perdida\n",
              "1 70         1198            0            \n",
              "2 70         1198            0            \n",
              "3 70         1198            0            \n",
              "4 70         1198            0            \n",
              "5 70         1198            0            \n",
              "6 70         1198            0            "
            ],
            "text/latex": "A data.frame: 6 × 9\n\\begin{tabular}{r|lllllllll}\n  & Temp\\_SalidaHr & Torque\\_S6 & Diametro\\_S12 & Temp\\_S5 & Torque\\_S12 & Diametro\\_S18 & Torque\\_S18 & Temp\\_Bobinadora & Barra\\_Perdida\\\\\n  & <int> & <int> & <dbl> & <int> & <int> & <dbl> & <int> & <int> & <int>\\\\\n\\hline\n\t1 & 1227 & 60 & 0.20 & 500 & 167 & 5.53 & 70 & 1198 & 0\\\\\n\t2 & 1207 & 67 & 1.27 & 500 & 162 & 5.12 & 70 & 1198 & 0\\\\\n\t3 & 1227 & 60 & 0.68 & 500 & 145 & 4.44 & 70 & 1198 & 0\\\\\n\t4 & 1204 & 61 & 0.96 & 500 & 157 & 4.78 & 70 & 1198 & 0\\\\\n\t5 & 1200 & 55 & 1.08 & 500 & 153 & 4.89 & 70 & 1198 & 0\\\\\n\t6 & 1179 & 57 & 1.24 & 500 & 153 & 4.51 & 70 & 1198 & 0\\\\\n\\end{tabular}\n",
            "text/markdown": "\nA data.frame: 6 × 9\n\n| <!--/--> | Temp_SalidaHr &lt;int&gt; | Torque_S6 &lt;int&gt; | Diametro_S12 &lt;dbl&gt; | Temp_S5 &lt;int&gt; | Torque_S12 &lt;int&gt; | Diametro_S18 &lt;dbl&gt; | Torque_S18 &lt;int&gt; | Temp_Bobinadora &lt;int&gt; | Barra_Perdida &lt;int&gt; |\n|---|---|---|---|---|---|---|---|---|---|\n| 1 | 1227 | 60 | 0.20 | 500 | 167 | 5.53 | 70 | 1198 | 0 |\n| 2 | 1207 | 67 | 1.27 | 500 | 162 | 5.12 | 70 | 1198 | 0 |\n| 3 | 1227 | 60 | 0.68 | 500 | 145 | 4.44 | 70 | 1198 | 0 |\n| 4 | 1204 | 61 | 0.96 | 500 | 157 | 4.78 | 70 | 1198 | 0 |\n| 5 | 1200 | 55 | 1.08 | 500 | 153 | 4.89 | 70 | 1198 | 0 |\n| 6 | 1179 | 57 | 1.24 | 500 | 153 | 4.51 | 70 | 1198 | 0 |\n\n",
            "text/html": [
              "<table class=\"dataframe\">\n",
              "<caption>A data.frame: 6 × 9</caption>\n",
              "<thead>\n",
              "\t<tr><th></th><th scope=col>Temp_SalidaHr</th><th scope=col>Torque_S6</th><th scope=col>Diametro_S12</th><th scope=col>Temp_S5</th><th scope=col>Torque_S12</th><th scope=col>Diametro_S18</th><th scope=col>Torque_S18</th><th scope=col>Temp_Bobinadora</th><th scope=col>Barra_Perdida</th></tr>\n",
              "\t<tr><th></th><th scope=col>&lt;int&gt;</th><th scope=col>&lt;int&gt;</th><th scope=col>&lt;dbl&gt;</th><th scope=col>&lt;int&gt;</th><th scope=col>&lt;int&gt;</th><th scope=col>&lt;dbl&gt;</th><th scope=col>&lt;int&gt;</th><th scope=col>&lt;int&gt;</th><th scope=col>&lt;int&gt;</th></tr>\n",
              "</thead>\n",
              "<tbody>\n",
              "\t<tr><th scope=row>1</th><td>1227</td><td>60</td><td>0.20</td><td>500</td><td>167</td><td>5.53</td><td>70</td><td>1198</td><td>0</td></tr>\n",
              "\t<tr><th scope=row>2</th><td>1207</td><td>67</td><td>1.27</td><td>500</td><td>162</td><td>5.12</td><td>70</td><td>1198</td><td>0</td></tr>\n",
              "\t<tr><th scope=row>3</th><td>1227</td><td>60</td><td>0.68</td><td>500</td><td>145</td><td>4.44</td><td>70</td><td>1198</td><td>0</td></tr>\n",
              "\t<tr><th scope=row>4</th><td>1204</td><td>61</td><td>0.96</td><td>500</td><td>157</td><td>4.78</td><td>70</td><td>1198</td><td>0</td></tr>\n",
              "\t<tr><th scope=row>5</th><td>1200</td><td>55</td><td>1.08</td><td>500</td><td>153</td><td>4.89</td><td>70</td><td>1198</td><td>0</td></tr>\n",
              "\t<tr><th scope=row>6</th><td>1179</td><td>57</td><td>1.24</td><td>500</td><td>153</td><td>4.51</td><td>70</td><td>1198</td><td>0</td></tr>\n",
              "</tbody>\n",
              "</table>\n"
            ]
          },
          "metadata": {
            "tags": []
          }
        }
      ]
    },
    {
      "cell_type": "markdown",
      "metadata": {
        "id": "ajjb_dRWHnV6"
      },
      "source": [
        "Veamos como está su estructura a través de la función **str** en este caso para Barra Perdida: **0** es no ocurrió reventón **1** si ocurrió reventón"
      ]
    },
    {
      "cell_type": "code",
      "metadata": {
        "colab": {
          "base_uri": "https://localhost:8080/"
        },
        "id": "pTTeloDNHvB7",
        "outputId": "9fc7932f-ec3d-491e-ce7d-500b2b6521bf"
      },
      "source": [
        "str(df)"
      ],
      "execution_count": 2,
      "outputs": [
        {
          "output_type": "stream",
          "text": [
            "'data.frame':\t20019 obs. of  9 variables:\n",
            " $ Temp_SalidaHr  : int  1227 1207 1227 1204 1200 1179 1218 1215 1201 1198 ...\n",
            " $ Torque_S6      : int  60 67 60 61 55 57 64 55 64 60 ...\n",
            " $ Diametro_S12   : num  0.2 1.27 0.68 0.96 1.08 1.24 0.72 1 0.98 1.11 ...\n",
            " $ Temp_S5        : int  500 500 500 500 500 500 500 500 500 500 ...\n",
            " $ Torque_S12     : int  167 162 145 157 153 153 147 144 154 152 ...\n",
            " $ Diametro_S18   : num  5.53 5.12 4.44 4.78 4.89 4.51 4.08 4.36 3.5 4.56 ...\n",
            " $ Torque_S18     : int  70 70 70 70 70 70 70 70 70 70 ...\n",
            " $ Temp_Bobinadora: int  1198 1198 1198 1198 1198 1198 1198 1198 1198 1198 ...\n",
            " $ Barra_Perdida  : int  0 0 0 0 0 0 0 0 0 0 ...\n"
          ],
          "name": "stdout"
        }
      ]
    },
    {
      "cell_type": "code",
      "metadata": {
        "colab": {
          "base_uri": "https://localhost:8080/",
          "height": 381
        },
        "id": "hXPRZf0AYGbx",
        "outputId": "a98fcd14-98af-42c6-912d-67def589ff6b"
      },
      "source": [
        "summary(df)"
      ],
      "execution_count": 3,
      "outputs": [
        {
          "output_type": "display_data",
          "data": {
            "text/plain": [
              " Temp_SalidaHr    Torque_S6       Diametro_S12     Temp_S5     \n",
              " Min.   :1006   Min.   : 34.00   Min.   :0.01   Min.   :498.0  \n",
              " 1st Qu.:1069   1st Qu.: 47.00   1st Qu.:1.06   1st Qu.:500.0  \n",
              " Median :1172   Median : 54.00   Median :1.40   Median :501.0  \n",
              " Mean   :1138   Mean   : 53.35   Mean   :2.37   Mean   :507.9  \n",
              " 3rd Qu.:1199   3rd Qu.: 59.00   3rd Qu.:3.25   3rd Qu.:511.0  \n",
              " Max.   :1270   Max.   :102.00   Max.   :9.17   Max.   :570.0  \n",
              "   Torque_S12      Diametro_S18     Torque_S18     Temp_Bobinadora\n",
              " Min.   : 59.00   Min.   :0.370   Min.   : 67.00   Min.   :1198   \n",
              " 1st Qu.: 62.00   1st Qu.:0.860   1st Qu.: 72.00   1st Qu.:1205   \n",
              " Median : 66.00   Median :1.490   Median : 76.00   Median :1230   \n",
              " Mean   : 87.71   Mean   :1.976   Mean   : 75.98   Mean   :1268   \n",
              " 3rd Qu.: 96.00   3rd Qu.:3.200   3rd Qu.: 79.00   3rd Qu.:1300   \n",
              " Max.   :282.00   Max.   :5.530   Max.   :105.00   Max.   :2391   \n",
              " Barra_Perdida   \n",
              " Min.   :0.0000  \n",
              " 1st Qu.:0.0000  \n",
              " Median :0.0000  \n",
              " Mean   :0.4608  \n",
              " 3rd Qu.:1.0000  \n",
              " Max.   :1.0000  "
            ]
          },
          "metadata": {
            "tags": []
          }
        }
      ]
    },
    {
      "cell_type": "code",
      "metadata": {
        "colab": {
          "base_uri": "https://localhost:8080/",
          "height": 51
        },
        "id": "qCM0h48xZGuA",
        "outputId": "04966328-404f-44a1-fd08-096ce3a03531"
      },
      "source": [
        "class(df$Barra_Perdida)\n",
        "df$Barra_Perdida <- as.factor(df$Barra_Perdida)\n",
        "class(df$Barra_Perdida)"
      ],
      "execution_count": 4,
      "outputs": [
        {
          "output_type": "display_data",
          "data": {
            "text/plain": [
              "[1] \"integer\""
            ],
            "text/latex": "'integer'",
            "text/markdown": "'integer'",
            "text/html": [
              "'integer'"
            ]
          },
          "metadata": {
            "tags": []
          }
        },
        {
          "output_type": "display_data",
          "data": {
            "text/plain": [
              "[1] \"factor\""
            ],
            "text/latex": "'factor'",
            "text/markdown": "'factor'",
            "text/html": [
              "'factor'"
            ]
          },
          "metadata": {
            "tags": []
          }
        }
      ]
    },
    {
      "cell_type": "code",
      "metadata": {
        "colab": {
          "base_uri": "https://localhost:8080/",
          "height": 381
        },
        "id": "hAilKiKKZ-8y",
        "outputId": "48f6d6bd-cbe2-43fb-fc64-5c9b6190dbe2"
      },
      "source": [
        "summary(df)"
      ],
      "execution_count": 5,
      "outputs": [
        {
          "output_type": "display_data",
          "data": {
            "text/plain": [
              " Temp_SalidaHr    Torque_S6       Diametro_S12     Temp_S5     \n",
              " Min.   :1006   Min.   : 34.00   Min.   :0.01   Min.   :498.0  \n",
              " 1st Qu.:1069   1st Qu.: 47.00   1st Qu.:1.06   1st Qu.:500.0  \n",
              " Median :1172   Median : 54.00   Median :1.40   Median :501.0  \n",
              " Mean   :1138   Mean   : 53.35   Mean   :2.37   Mean   :507.9  \n",
              " 3rd Qu.:1199   3rd Qu.: 59.00   3rd Qu.:3.25   3rd Qu.:511.0  \n",
              " Max.   :1270   Max.   :102.00   Max.   :9.17   Max.   :570.0  \n",
              "   Torque_S12      Diametro_S18     Torque_S18     Temp_Bobinadora\n",
              " Min.   : 59.00   Min.   :0.370   Min.   : 67.00   Min.   :1198   \n",
              " 1st Qu.: 62.00   1st Qu.:0.860   1st Qu.: 72.00   1st Qu.:1205   \n",
              " Median : 66.00   Median :1.490   Median : 76.00   Median :1230   \n",
              " Mean   : 87.71   Mean   :1.976   Mean   : 75.98   Mean   :1268   \n",
              " 3rd Qu.: 96.00   3rd Qu.:3.200   3rd Qu.: 79.00   3rd Qu.:1300   \n",
              " Max.   :282.00   Max.   :5.530   Max.   :105.00   Max.   :2391   \n",
              " Barra_Perdida\n",
              " 0:10795      \n",
              " 1: 9224      \n",
              "              \n",
              "              \n",
              "              \n",
              "              "
            ]
          },
          "metadata": {
            "tags": []
          }
        }
      ]
    },
    {
      "cell_type": "markdown",
      "metadata": {
        "id": "OuUtfUryIZ6p"
      },
      "source": [
        "En la tabla anterior, podemos ver que nuestras variables son númericas, incluso aquella variable a predecir:Barra Perdida (reventón o no reventón), por lo que cambiaremos a continuación de numérica a categórica esta variable."
      ]
    },
    {
      "cell_type": "code",
      "metadata": {
        "id": "5O6QupUMI3fi"
      },
      "source": [
        "colnames(df)[9] <- \"Barra_Perdida\"\n",
        "df$Barra_Perdida <- factor(df$Barra_Perdida, levels = c(\"0\", \"1\"), labels = c(\"NoReventon\", \"Reventon\"))"
      ],
      "execution_count": 6,
      "outputs": []
    },
    {
      "cell_type": "code",
      "metadata": {
        "colab": {
          "base_uri": "https://localhost:8080/",
          "height": 381
        },
        "id": "KMZctsHGKd_V",
        "outputId": "88f42f52-edb0-4293-87b6-8fc8623f8bfe"
      },
      "source": [
        "summary(df)"
      ],
      "execution_count": 7,
      "outputs": [
        {
          "output_type": "display_data",
          "data": {
            "text/plain": [
              " Temp_SalidaHr    Torque_S6       Diametro_S12     Temp_S5     \n",
              " Min.   :1006   Min.   : 34.00   Min.   :0.01   Min.   :498.0  \n",
              " 1st Qu.:1069   1st Qu.: 47.00   1st Qu.:1.06   1st Qu.:500.0  \n",
              " Median :1172   Median : 54.00   Median :1.40   Median :501.0  \n",
              " Mean   :1138   Mean   : 53.35   Mean   :2.37   Mean   :507.9  \n",
              " 3rd Qu.:1199   3rd Qu.: 59.00   3rd Qu.:3.25   3rd Qu.:511.0  \n",
              " Max.   :1270   Max.   :102.00   Max.   :9.17   Max.   :570.0  \n",
              "   Torque_S12      Diametro_S18     Torque_S18     Temp_Bobinadora\n",
              " Min.   : 59.00   Min.   :0.370   Min.   : 67.00   Min.   :1198   \n",
              " 1st Qu.: 62.00   1st Qu.:0.860   1st Qu.: 72.00   1st Qu.:1205   \n",
              " Median : 66.00   Median :1.490   Median : 76.00   Median :1230   \n",
              " Mean   : 87.71   Mean   :1.976   Mean   : 75.98   Mean   :1268   \n",
              " 3rd Qu.: 96.00   3rd Qu.:3.200   3rd Qu.: 79.00   3rd Qu.:1300   \n",
              " Max.   :282.00   Max.   :5.530   Max.   :105.00   Max.   :2391   \n",
              "    Barra_Perdida  \n",
              " NoReventon:10795  \n",
              " Reventon  : 9224  \n",
              "                   \n",
              "                   \n",
              "                   \n",
              "                   "
            ]
          },
          "metadata": {
            "tags": []
          }
        }
      ]
    },
    {
      "cell_type": "markdown",
      "metadata": {
        "id": "E-ZSgqZ0bIPN"
      },
      "source": [
        "Por el summary anterior, podemos ver que tenemos 10,795 datos que no son Reventón y 9,224 que si son Reventón, por lo que tenemos una muestra que no necesita equilibrarse"
      ]
    },
    {
      "cell_type": "markdown",
      "metadata": {
        "id": "o8O-VDvUba0B"
      },
      "source": [
        "Por otro lado, podemos observar que hay mucha variabilidad/diferencias entre los valores que toman las variables, por lo que antes de hacer cualquier algoritmo, necesitamos rescalar para que ninguna de las variables tenga una mayor influencia sobre otra como Predictor cuando vayamos a construir el modelo. Para ello usaremos la función **scale** en donde rescalamos solo las columnas de la 1 a la 8 ya que la última recuerden que ahora es categórica"
      ]
    },
    {
      "cell_type": "code",
      "metadata": {
        "colab": {
          "base_uri": "https://localhost:8080/",
          "height": 381
        },
        "id": "SCyx9zZmbEqm",
        "outputId": "f8bb1e5d-f3a9-4d44-a7ca-1942682fcfc9"
      },
      "source": [
        "df[, c(1:8)] <- scale(df[, c(1:8)])\n",
        "summary(df)"
      ],
      "execution_count": 8,
      "outputs": [
        {
          "output_type": "display_data",
          "data": {
            "text/plain": [
              " Temp_SalidaHr       Torque_S6        Diametro_S12        Temp_S5       \n",
              " Min.   :-1.8845   Min.   :-2.3505   Min.   :-1.2378   Min.   :-0.7854  \n",
              " 1st Qu.:-0.9847   1st Qu.:-0.7712   1st Qu.:-0.6870   1st Qu.:-0.6263  \n",
              " Median : 0.4864   Median : 0.0792   Median :-0.5086   Median :-0.5467  \n",
              " Mean   : 0.0000   Mean   : 0.0000   Mean   : 0.0000   Mean   : 0.0000  \n",
              " 3rd Qu.: 0.8720   3rd Qu.: 0.6866   3rd Qu.: 0.4618   3rd Qu.: 0.2490  \n",
              " Max.   : 1.8860   Max.   : 5.9104   Max.   : 3.5673   Max.   : 4.9436  \n",
              "   Torque_S12       Diametro_S18       Torque_S18       Temp_Bobinadora  \n",
              " Min.   :-0.7003   Min.   :-1.2928   Min.   :-1.79316   Min.   :-0.7294  \n",
              " 1st Qu.:-0.6271   1st Qu.:-0.8983   1st Qu.:-0.79443   1st Qu.:-0.6567  \n",
              " Median :-0.5296   Median :-0.3910   Median : 0.00456   Median :-0.3973  \n",
              " Mean   : 0.0000   Mean   : 0.0000   Mean   : 0.00000   Mean   : 0.0000  \n",
              " 3rd Qu.: 0.2021   3rd Qu.: 0.9858   3rd Qu.: 0.60380   3rd Qu.: 0.3291  \n",
              " Max.   : 4.7384   Max.   : 2.8618   Max.   : 5.79721   Max.   :11.6510  \n",
              "    Barra_Perdida  \n",
              " NoReventon:10795  \n",
              " Reventon  : 9224  \n",
              "                   \n",
              "                   \n",
              "                   \n",
              "                   "
            ]
          },
          "metadata": {
            "tags": []
          }
        }
      ]
    },
    {
      "cell_type": "markdown",
      "metadata": {
        "id": "M9Tf02Uics-i"
      },
      "source": [
        "Ahora es momento de crear mi conjunto que sera **train** (para entrenamiento) y el conjunto **test** (para validar el modelo), lo que haremos es que mi data frame original lo voy a dividir en **75% para train** y **25% para test**, a través de la función sample.split, para ello necesitamos el paquete y librería llamados caTools"
      ]
    },
    {
      "cell_type": "code",
      "metadata": {
        "colab": {
          "base_uri": "https://localhost:8080/"
        },
        "id": "Mu9jlB19ez_z",
        "outputId": "947ff7c8-be57-482c-ae9f-ed6ebf2c637c"
      },
      "source": [
        "install.packages(\"caTools\")\n",
        "library(caTools)"
      ],
      "execution_count": 9,
      "outputs": [
        {
          "output_type": "stream",
          "text": [
            "Installing package into ‘/usr/local/lib/R/site-library’\n",
            "(as ‘lib’ is unspecified)\n",
            "\n",
            "also installing the dependency ‘bitops’\n",
            "\n",
            "\n"
          ],
          "name": "stderr"
        }
      ]
    },
    {
      "cell_type": "code",
      "metadata": {
        "id": "4NUb-iL7fISj"
      },
      "source": [
        "set.seed(1234)\n",
        "split <- sample.split(df$Barra_Perdida, SplitRatio = 0.75)\n",
        "train_df <- subset(df, split == TRUE)\n",
        "test_df <- subset(df, split== FALSE)"
      ],
      "execution_count": 10,
      "outputs": []
    },
    {
      "cell_type": "markdown",
      "metadata": {
        "id": "4Fo41A5kfpg1"
      },
      "source": [
        "Ahora visualicemos lo que acabamos de hacer y verifiquemos que la proporción en ambos conjuntos de datos sea similar a través de la función **table**"
      ]
    },
    {
      "cell_type": "code",
      "metadata": {
        "colab": {
          "base_uri": "https://localhost:8080/",
          "height": 69
        },
        "id": "Co5Ntdigf3Eo",
        "outputId": "38d0be2e-30c0-439d-d9ba-5080e2a02d24"
      },
      "source": [
        "table(train_df$Barra_Perdida)"
      ],
      "execution_count": 11,
      "outputs": [
        {
          "output_type": "display_data",
          "data": {
            "text/plain": [
              "\n",
              "NoReventon   Reventon \n",
              "      8096       6918 "
            ]
          },
          "metadata": {
            "tags": []
          }
        }
      ]
    },
    {
      "cell_type": "code",
      "metadata": {
        "colab": {
          "base_uri": "https://localhost:8080/",
          "height": 69
        },
        "id": "01zLUHrDgBHK",
        "outputId": "7dcc8ce7-266a-4b61-bb61-1abd0fa497da"
      },
      "source": [
        "table(test_df$Barra_Perdida)"
      ],
      "execution_count": 12,
      "outputs": [
        {
          "output_type": "display_data",
          "data": {
            "text/plain": [
              "\n",
              "NoReventon   Reventon \n",
              "      2699       2306 "
            ]
          },
          "metadata": {
            "tags": []
          }
        }
      ]
    },
    {
      "cell_type": "markdown",
      "metadata": {
        "id": "DfEnNJBXgf_U"
      },
      "source": [
        "En los resultados anteriores podemos ver que tanto para el data frame de test, como para train, la relación es alrededor de 1.17, de este modo, vemos que la relación se mantiene."
      ]
    },
    {
      "cell_type": "markdown",
      "metadata": {
        "id": "FuxNsWm2hXU7"
      },
      "source": [
        "# **Regresión Logística**"
      ]
    },
    {
      "cell_type": "markdown",
      "metadata": {
        "id": "a3LeNEfZhapw"
      },
      "source": [
        "Ahora probemos hacer la predicción con Regresión Logística, para ello necesitamos la función **glm** "
      ]
    },
    {
      "cell_type": "code",
      "metadata": {
        "colab": {
          "base_uri": "https://localhost:8080/"
        },
        "id": "CqdfIrl2kx04",
        "outputId": "dc3e0a71-c671-436e-bf54-626bf48d4de4"
      },
      "source": [
        "RL <- glm(Barra_Perdida ~ ., family = binomial, data = train_df)"
      ],
      "execution_count": 13,
      "outputs": [
        {
          "output_type": "stream",
          "text": [
            "Warning message:\n",
            "“glm.fit: fitted probabilities numerically 0 or 1 occurred”\n"
          ],
          "name": "stderr"
        }
      ]
    },
    {
      "cell_type": "code",
      "metadata": {
        "colab": {
          "base_uri": "https://localhost:8080/",
          "height": 519
        },
        "id": "LfRD0sLem663",
        "outputId": "e92478ff-4538-4fb3-f5d7-43a682519d65"
      },
      "source": [
        "summary(RL)"
      ],
      "execution_count": 14,
      "outputs": [
        {
          "output_type": "display_data",
          "data": {
            "text/plain": [
              "\n",
              "Call:\n",
              "glm(formula = Barra_Perdida ~ ., family = binomial, data = train_df)\n",
              "\n",
              "Deviance Residuals: \n",
              "    Min       1Q   Median       3Q      Max  \n",
              "-4.8913  -0.1146  -0.0282   0.0015   3.7671  \n",
              "\n",
              "Coefficients:\n",
              "                 Estimate Std. Error z value Pr(>|z|)    \n",
              "(Intercept)      3.465251   0.289531  11.968  < 2e-16 ***\n",
              "Temp_SalidaHr   -6.747952   0.247197 -27.298  < 2e-16 ***\n",
              "Torque_S6        0.938984   0.105637   8.889  < 2e-16 ***\n",
              "Diametro_S12     1.047363   0.332092   3.154  0.00161 ** \n",
              "Temp_S5          3.869614   0.777496   4.977 6.46e-07 ***\n",
              "Torque_S12      -0.818185   0.136673  -5.986 2.14e-09 ***\n",
              "Diametro_S18    -0.005473   0.110984  -0.049  0.96067    \n",
              "Torque_S18      -1.959422   0.202969  -9.654  < 2e-16 ***\n",
              "Temp_Bobinadora  0.707551   0.150553   4.700 2.61e-06 ***\n",
              "---\n",
              "Signif. codes:  0 ‘***’ 0.001 ‘**’ 0.01 ‘*’ 0.05 ‘.’ 0.1 ‘ ’ 1\n",
              "\n",
              "(Dispersion parameter for binomial family taken to be 1)\n",
              "\n",
              "    Null deviance: 20721.3  on 15013  degrees of freedom\n",
              "Residual deviance:  1731.8  on 15005  degrees of freedom\n",
              "AIC: 1749.8\n",
              "\n",
              "Number of Fisher Scoring iterations: 11\n"
            ]
          },
          "metadata": {
            "tags": []
          }
        }
      ]
    },
    {
      "cell_type": "markdown",
      "metadata": {
        "id": "mny8qyMuojfI"
      },
      "source": [
        "De la tabla anterior (similar a la lectura que hicimos del Anova para Regresiones Lineales), podemos ver que las variables que tienen de 1 a 3 asteríscos * tienen una gran relevancia como predictores dentro de mi modelo construido, así como el p-value que representa la relevancia estadísticamente hablando de la variable en cuestión (independiente) como un elemnto predictivo, así como los estimados de los coeficientes de cada variable."
      ]
    },
    {
      "cell_type": "markdown",
      "metadata": {
        "id": "p1NzaRlboOSZ"
      },
      "source": [
        "Ahora que ya tenemos el entrenamiento listo, podemos usar el modelo para predicción tanto para el conjunto de entrenamiento como para el de validación. Ahora como verán pusimos como **valor umbral 0.5** de modo que cualquier valor por encima de este número (de esta probabilidad) se clasifique como **1 (Reventón)** y por debajo de este número se considere como **0 (No Reventón)**"
      ]
    },
    {
      "cell_type": "markdown",
      "metadata": {
        "id": "SAQRrzh3pDQ4"
      },
      "source": [
        "A continuación:\n",
        "usamos la función predict (para las clases que deseamo clasificar), el \n",
        "\n",
        "1.   usamos la función predict (para las clases que deseamo clasificar), colocando el nombre de mi Algoritmo (RL) y el nombre de mi data de entrenamiento (train_df)\n",
        "2.   uso la función ifelse para colocar el valor umbral a partir del cual clasificará como (1 o 0) \n",
        "3. uso la función factor para poder cambiar 0 como No reventón y 1 a Reventon.\n",
        "4. Finalmente obtengo la matriz de confusión para evaluar la calidad de la predicción."
      ]
    },
    {
      "cell_type": "code",
      "metadata": {
        "id": "95L6GcQOpYVo"
      },
      "source": [
        "pred_train <- predict(RL, type = 'response', ndata = train_df)\n",
        "pred_train <- ifelse(pred_train > 0.5, 1, 0)\n",
        "pred_train <- factor(pred_train, levels = c(\"0\", \"1\"), labels = c(\"NoReventon\", \"Reventon\"))"
      ],
      "execution_count": 15,
      "outputs": []
    },
    {
      "cell_type": "code",
      "metadata": {
        "colab": {
          "base_uri": "https://localhost:8080/",
          "height": 86
        },
        "id": "MtoOdAM0pwD4",
        "outputId": "6f27b021-ae34-478e-fd6c-a14fe8e5eb81"
      },
      "source": [
        "MatrizConfusion <- table(train_df$Barra_Perdida, pred_train)\n",
        "MatrizConfusion"
      ],
      "execution_count": 16,
      "outputs": [
        {
          "output_type": "display_data",
          "data": {
            "text/plain": [
              "            pred_train\n",
              "             NoReventon Reventon\n",
              "  NoReventon       8040       56\n",
              "  Reventon          185     6733"
            ]
          },
          "metadata": {
            "tags": []
          }
        }
      ]
    },
    {
      "cell_type": "markdown",
      "metadata": {
        "id": "3obk6SiNqMwI"
      },
      "source": [
        "Vuelvo a hacer los mismos pasos que hice para la data de train, pero ahora tomando la data de entrenamiento (test_df)"
      ]
    },
    {
      "cell_type": "code",
      "metadata": {
        "colab": {
          "base_uri": "https://localhost:8080/",
          "height": 86
        },
        "id": "W4VK0F67qenP",
        "outputId": "78ffa744-f4b0-442f-b5e5-f4704c0bf247"
      },
      "source": [
        "pred_valid <- predict(RL, type = 'response', newdata = test_df)\n",
        "pred_valid <- ifelse(pred_valid > 0.5, 1, 0)\n",
        "pred_valid <- factor(pred_valid, levels = c(\"0\", \"1\"), labels = c(\"NoReventon\", \"Reventon\"))\n",
        "matrizConfusion <- table(test_df$Barra_Perdida, pred_valid)\n",
        "matrizConfusion"
      ],
      "execution_count": 17,
      "outputs": [
        {
          "output_type": "display_data",
          "data": {
            "text/plain": [
              "            pred_valid\n",
              "             NoReventon Reventon\n",
              "  NoReventon       2680       19\n",
              "  Reventon           63     2243"
            ]
          },
          "metadata": {
            "tags": []
          }
        }
      ]
    },
    {
      "cell_type": "markdown",
      "metadata": {
        "id": "jrQqBx77qcT8"
      },
      "source": [
        "Ahora veamos como esta la curva de ROC, para ello:\n",
        "\n",
        "\n",
        "1.   Descargamos el paquete ROCR y usamos la librería con el mismo nombre\n",
        "2.   usamos la función prediction donde colocamos nuestro clasificador (pred_valid) y a partir de la data (test_df, seleccionando la variable que intentamos predecir)\n",
        "3. Finalmente usamos la función de performance utilizando los Falsos Positivos (False Positives) y Verdaderos Positivos (True Positives) obtenidos del conjunto de validación (pred1)\n",
        "4. Graficamos para ver como se ve la Curva ROC\n",
        "\n"
      ]
    },
    {
      "cell_type": "code",
      "metadata": {
        "colab": {
          "base_uri": "https://localhost:8080/"
        },
        "id": "wNq5JoKgq8GE",
        "outputId": "dda95eca-fa3b-40a1-d4c3-6689a55de89a"
      },
      "source": [
        "install.packages(\"ROCR\")\n",
        "library(ROCR)"
      ],
      "execution_count": 22,
      "outputs": [
        {
          "output_type": "stream",
          "text": [
            "Installing package into ‘/usr/local/lib/R/site-library’\n",
            "(as ‘lib’ is unspecified)\n",
            "\n"
          ],
          "name": "stderr"
        }
      ]
    },
    {
      "cell_type": "code",
      "metadata": {
        "colab": {
          "base_uri": "https://localhost:8080/",
          "height": 437
        },
        "id": "CoqNLS_7rKy3",
        "outputId": "87534571-504d-48e7-c27c-7ca9f2b7ff9d"
      },
      "source": [
        "pred1 <- prediction(as.numeric(pred_valid), as.numeric(test_df$Barra_Perdida))\n",
        "perf1 <- performance(pred1, \"tpr\", \"fpr\")\n",
        "plot(perf1)"
      ],
      "execution_count": 19,
      "outputs": [
        {
          "output_type": "display_data",
          "data": {
            "image/png": "[encoded data removed]",
            "text/plain": [
              "plot without title"
            ]
          },
          "metadata": {
            "tags": [],
            "image/png": {
              "width": 420,
              "height": 420
            }
          }
        }
      ]
    },
    {
      "cell_type": "markdown",
      "metadata": {
        "id": "Iw9eeK7G0odp"
      },
      "source": [
        "5. Finalmente veamos aquí otra manera de tener más detalle sobre la Matriz de confusión a traves de la función con el mismo nombre, para ello, necesitaremos de los paquetes de \"caret y e1071\" y la librería \"caret\". Como verán obtendremos números importantes para tomar la decisión de con qué modelo quedarnos."
      ]
    },
    {
      "cell_type": "code",
      "metadata": {
        "colab": {
          "base_uri": "https://localhost:8080/"
        },
        "id": "NF5dMGfIyko0",
        "outputId": "12e14fc1-b35c-4804-8f74-b4d72795a4c2"
      },
      "source": [
        "install.packages(\"caret\")\n",
        "library (caret)"
      ],
      "execution_count": 27,
      "outputs": [
        {
          "output_type": "stream",
          "text": [
            "Installing package into ‘/usr/local/lib/R/site-library’\n",
            "(as ‘lib’ is unspecified)\n",
            "\n",
            "also installing the dependencies ‘timeDate’, ‘recipes’, ‘pROC’\n",
            "\n",
            "\n",
            "Loading required package: lattice\n",
            "\n",
            "Loading required package: ggplot2\n",
            "\n",
            "Warning message in system(\"timedatectl\", intern = TRUE):\n",
            "“running command 'timedatectl' had status 1”\n"
          ],
          "name": "stderr"
        }
      ]
    },
    {
      "cell_type": "code",
      "metadata": {
        "colab": {
          "base_uri": "https://localhost:8080/"
        },
        "id": "59mFyeuIz_0D",
        "outputId": "4efe4994-4d4e-4ed9-ec88-faca7393c2e4"
      },
      "source": [
        "install.packages(\"e1071\", dep = TRUE)"
      ],
      "execution_count": 33,
      "outputs": [
        {
          "output_type": "stream",
          "text": [
            "Installing package into ‘/usr/local/lib/R/site-library’\n",
            "(as ‘lib’ is unspecified)\n",
            "\n",
            "also installing the dependencies ‘proxy’, ‘mlbench’, ‘randomForest’, ‘SparseM’, ‘xtable’, ‘slam’\n",
            "\n",
            "\n"
          ],
          "name": "stderr"
        }
      ]
    },
    {
      "cell_type": "code",
      "metadata": {
        "colab": {
          "base_uri": "https://localhost:8080/",
          "height": 485
        },
        "id": "OEAKoPsExzXP",
        "outputId": "d9af98d8-5161-4ebc-d3c9-de498e872880"
      },
      "source": [
        "confusionMatrix(pred_valid, test_df$Barra_Perdida)"
      ],
      "execution_count": 41,
      "outputs": [
        {
          "output_type": "display_data",
          "data": {
            "text/plain": [
              "Confusion Matrix and Statistics\n",
              "\n",
              "            Reference\n",
              "Prediction   NoReventon Reventon\n",
              "  NoReventon       2680       63\n",
              "  Reventon           19     2243\n",
              "                                          \n",
              "               Accuracy : 0.9836          \n",
              "                 95% CI : (0.9797, 0.9869)\n",
              "    No Information Rate : 0.5393          \n",
              "    P-Value [Acc > NIR] : < 2.2e-16       \n",
              "                                          \n",
              "                  Kappa : 0.967           \n",
              "                                          \n",
              " Mcnemar's Test P-Value : 2.049e-06       \n",
              "                                          \n",
              "            Sensitivity : 0.9930          \n",
              "            Specificity : 0.9727          \n",
              "         Pos Pred Value : 0.9770          \n",
              "         Neg Pred Value : 0.9916          \n",
              "             Prevalence : 0.5393          \n",
              "         Detection Rate : 0.5355          \n",
              "   Detection Prevalence : 0.5481          \n",
              "      Balanced Accuracy : 0.9828          \n",
              "                                          \n",
              "       'Positive' Class : NoReventon      \n",
              "                                          "
            ]
          },
          "metadata": {
            "tags": []
          }
        }
      ]
    },
    {
      "cell_type": "markdown",
      "metadata": {
        "id": "KCX9Zrcgrs-9"
      },
      "source": [
        "# **k-NN Classifier (K-Vecinos Cercanos)**"
      ]
    },
    {
      "cell_type": "markdown",
      "metadata": {
        "id": "TXzBISPlr42K"
      },
      "source": [
        "1. Instalaremos el paquete class y usaremos su librería con el mismo nombre"
      ]
    },
    {
      "cell_type": "code",
      "metadata": {
        "colab": {
          "base_uri": "https://localhost:8080/"
        },
        "id": "nKbt9YN_r14h",
        "outputId": "b6c0684a-0bc9-4753-dabd-4265acee63b3"
      },
      "source": [
        "install.packages(\"class\")\n",
        "library(class)"
      ],
      "execution_count": 35,
      "outputs": [
        {
          "output_type": "stream",
          "text": [
            "Installing package into ‘/usr/local/lib/R/site-library’\n",
            "(as ‘lib’ is unspecified)\n",
            "\n"
          ],
          "name": "stderr"
        }
      ]
    },
    {
      "cell_type": "markdown",
      "metadata": {
        "id": "3fiKNNubsADV"
      },
      "source": [
        "2. Ahora sembraremos semillas (ya visto en sesiones pasadas)\n",
        "3. Usamos la función knn del paquete de class, tomando nuestra data de entrenamiento (excepto la columna que representa la variable a predecir, toda nuestra data de validación (excepto la columna que representa la variable a predecir) y finalmente tomando como valor k=10 (recuerden que este valor es variable)\n",
        "4. Obtenemos la matriz de confusión para ver la calidad de la predicción"
      ]
    },
    {
      "cell_type": "code",
      "metadata": {
        "id": "8iCcPvgkr_RL"
      },
      "source": [
        "library(class)\n",
        "set.seed(1234)\n",
        "pred_valid_knn <- knn(train_df[, -9], \n",
        "                      test_df[, -9], \n",
        "                      cl = train_df[, 9],\n",
        "                      k = 10)"
      ],
      "execution_count": 36,
      "outputs": []
    },
    {
      "cell_type": "code",
      "metadata": {
        "colab": {
          "base_uri": "https://localhost:8080/",
          "height": 86
        },
        "id": "xV6w9fdmsY1R",
        "outputId": "3b3f36f4-f9dc-4a21-c5d6-28a26cf119bc"
      },
      "source": [
        "matrizConfusion <- table(test_df$Barra_Perdida, pred_valid_knn)\n",
        "matrizConfusion"
      ],
      "execution_count": 37,
      "outputs": [
        {
          "output_type": "display_data",
          "data": {
            "text/plain": [
              "            pred_valid_knn\n",
              "             NoReventon Reventon\n",
              "  NoReventon       2683       16\n",
              "  Reventon           64     2242"
            ]
          },
          "metadata": {
            "tags": []
          }
        }
      ]
    },
    {
      "cell_type": "markdown",
      "metadata": {
        "id": "5mYutgQmsmYm"
      },
      "source": [
        "5. Y de manera similar a como se hizo para el Algoritmo de RL, también obtenemos la gráfica de curva ROC"
      ]
    },
    {
      "cell_type": "code",
      "metadata": {
        "colab": {
          "base_uri": "https://localhost:8080/",
          "height": 437
        },
        "id": "Hk7jWamcsece",
        "outputId": "d3515f21-cd92-4758-9270-e9dbb0042a13"
      },
      "source": [
        "library(ROCR)\n",
        "pred1 <- prediction(as.numeric(pred_valid_knn), as.numeric(test_df$Barra_Perdida))\n",
        "perf1 <- performance(pred1, \"tpr\", \"fpr\")\n",
        "plot(perf1)"
      ],
      "execution_count": 38,
      "outputs": [
        {
          "output_type": "display_data",
          "data": {
            "image/png": "[encoded data removed]",
            "text/plain": [
              "plot without title"
            ]
          },
          "metadata": {
            "tags": [],
            "image/png": {
              "width": 420,
              "height": 420
            }
          }
        }
      ]
    },
    {
      "cell_type": "markdown",
      "metadata": {
        "id": "tIS_LSHi1NTm"
      },
      "source": [
        "6. Ahora la matriz de confusión más detallada:"
      ]
    },
    {
      "cell_type": "code",
      "metadata": {
        "colab": {
          "base_uri": "https://localhost:8080/"
        },
        "id": "0bBD8kx81Q8X",
        "outputId": "a5214c5d-ba05-4d6a-e55a-d033056f01ff"
      },
      "source": [
        "install.packages(\"caret\")\n",
        "install.packages(\"e1071\", dep = TRUE) \n",
        "library(caret)"
      ],
      "execution_count": 39,
      "outputs": [
        {
          "output_type": "stream",
          "text": [
            "Installing package into ‘/usr/local/lib/R/site-library’\n",
            "(as ‘lib’ is unspecified)\n",
            "\n",
            "Installing package into ‘/usr/local/lib/R/site-library’\n",
            "(as ‘lib’ is unspecified)\n",
            "\n"
          ],
          "name": "stderr"
        }
      ]
    },
    {
      "cell_type": "code",
      "metadata": {
        "colab": {
          "base_uri": "https://localhost:8080/",
          "height": 485
        },
        "id": "OHEgp2Pp1qqA",
        "outputId": "b9687239-02ae-4b5b-93de-68a0fe23e2b6"
      },
      "source": [
        "confusionMatrix(pred_valid_knn, test_df$Barra_Perdida)"
      ],
      "execution_count": 42,
      "outputs": [
        {
          "output_type": "display_data",
          "data": {
            "text/plain": [
              "Confusion Matrix and Statistics\n",
              "\n",
              "            Reference\n",
              "Prediction   NoReventon Reventon\n",
              "  NoReventon       2683       64\n",
              "  Reventon           16     2242\n",
              "                                          \n",
              "               Accuracy : 0.984           \n",
              "                 95% CI : (0.9801, 0.9873)\n",
              "    No Information Rate : 0.5393          \n",
              "    P-Value [Acc > NIR] : < 2.2e-16       \n",
              "                                          \n",
              "                  Kappa : 0.9678          \n",
              "                                          \n",
              " Mcnemar's Test P-Value : 1.482e-07       \n",
              "                                          \n",
              "            Sensitivity : 0.9941          \n",
              "            Specificity : 0.9722          \n",
              "         Pos Pred Value : 0.9767          \n",
              "         Neg Pred Value : 0.9929          \n",
              "             Prevalence : 0.5393          \n",
              "         Detection Rate : 0.5361          \n",
              "   Detection Prevalence : 0.5489          \n",
              "      Balanced Accuracy : 0.9832          \n",
              "                                          \n",
              "       'Positive' Class : NoReventon      \n",
              "                                          "
            ]
          },
          "metadata": {
            "tags": []
          }
        }
      ]
    },
    {
      "cell_type": "markdown",
      "metadata": {
        "id": "fkcV0Ib9srq2"
      },
      "source": [
        "# **Árbol de Decisión**"
      ]
    },
    {
      "cell_type": "markdown",
      "metadata": {
        "id": "qpg8gQ1GtC-x"
      },
      "source": [
        "1. Instalamos el paquete rpart y usaremos la librería con el mismo nombre"
      ]
    },
    {
      "cell_type": "code",
      "metadata": {
        "colab": {
          "base_uri": "https://localhost:8080/"
        },
        "id": "ZjcNMCBKsvQH",
        "outputId": "219fa95d-d47e-4598-a87f-6f8886522a71"
      },
      "source": [
        "install.packages(\"rpart\")\n",
        "library(rpart)"
      ],
      "execution_count": 44,
      "outputs": [
        {
          "output_type": "stream",
          "text": [
            "Installing package into ‘/usr/local/lib/R/site-library’\n",
            "(as ‘lib’ is unspecified)\n",
            "\n"
          ],
          "name": "stderr"
        }
      ]
    },
    {
      "cell_type": "markdown",
      "metadata": {
        "id": "V0VZhVVptIai"
      },
      "source": [
        "2. nuevamente sembramos una semilla\n",
        "3. utilizamos la función rpart para crear el árbol de decisión, tomando a consideración que lo que se intenta predecir es la variable Barra_Perdida a partir de la data de entrenamiento \"train_df\""
      ]
    },
    {
      "cell_type": "code",
      "metadata": {
        "id": "yTrNira8tA9d"
      },
      "source": [
        "library(rpart)\n",
        "set.seed(1234)\n",
        "clasificadorDT <- rpart(Barra_Perdida ~ ., data = train_df)"
      ],
      "execution_count": 45,
      "outputs": []
    },
    {
      "cell_type": "markdown",
      "metadata": {
        "id": "t3NTV5Hptp78"
      },
      "source": [
        "4. Ahora hagamos la predicción, utilizando la función \"predict\", a través de el algoritmo de Árboles de decisión (clasificadorDT) y nuestra data de entrenamiento \"test_df\", confirmando el type = class\n",
        "5. Para finalmente obtener la Matriz de confusión para medir su calidad en la predicción"
      ]
    },
    {
      "cell_type": "code",
      "metadata": {
        "id": "QEYXn8T6tHep"
      },
      "source": [
        "pred_valid_DT <- predict(clasificadorDT, newdata = test_df, type = 'class')"
      ],
      "execution_count": 46,
      "outputs": []
    },
    {
      "cell_type": "code",
      "metadata": {
        "colab": {
          "base_uri": "https://localhost:8080/",
          "height": 86
        },
        "id": "TbtpbG7qtL75",
        "outputId": "7a0b6605-289d-46be-d5c4-6b47957a04e8"
      },
      "source": [
        "matrizConfusion <- table(test_df$Barra_Perdida, pred_valid_DT)\n",
        "matrizConfusion"
      ],
      "execution_count": 47,
      "outputs": [
        {
          "output_type": "display_data",
          "data": {
            "text/plain": [
              "            pred_valid_DT\n",
              "             NoReventon Reventon\n",
              "  NoReventon       2678       21\n",
              "  Reventon           55     2251"
            ]
          },
          "metadata": {
            "tags": []
          }
        }
      ]
    },
    {
      "cell_type": "markdown",
      "metadata": {
        "id": "8V0gnz3zuGmS"
      },
      "source": [
        "6. Finalmente como en los ejercicios anteriores, obtenemos la curva de ROC"
      ]
    },
    {
      "cell_type": "code",
      "metadata": {
        "colab": {
          "base_uri": "https://localhost:8080/",
          "height": 437
        },
        "id": "mROtOHCBtSIq",
        "outputId": "85f77a63-b98e-4a3a-d752-213503583b4c"
      },
      "source": [
        "pred1 <- prediction(as.numeric(pred_valid_DT), as.numeric(test_df$Barra_Perdida))\n",
        "perf1 <- performance(pred1, \"tpr\", \"fpr\")\n",
        "plot(perf1)"
      ],
      "execution_count": 48,
      "outputs": [
        {
          "output_type": "display_data",
          "data": {
            "image/png": "[encoded data removed]",
            "text/plain": [
              "plot without title"
            ]
          },
          "metadata": {
            "tags": [],
            "image/png": {
              "width": 420,
              "height": 420
            }
          }
        }
      ]
    },
    {
      "cell_type": "markdown",
      "metadata": {
        "id": "Pdrs4J7j2THZ"
      },
      "source": [
        "7. Ahora veamos la Matriz de confusión a detalle:"
      ]
    },
    {
      "cell_type": "code",
      "metadata": {
        "colab": {
          "base_uri": "https://localhost:8080/"
        },
        "id": "c2zVcOIq2WVm",
        "outputId": "b5e71ca7-c829-403a-be62-5a70bbad039a"
      },
      "source": [
        "install.packages(\"caret\")\n",
        "install.packages(\"e1071\", dep = TRUE) \n",
        "library(caret)"
      ],
      "execution_count": 49,
      "outputs": [
        {
          "output_type": "stream",
          "text": [
            "Installing package into ‘/usr/local/lib/R/site-library’\n",
            "(as ‘lib’ is unspecified)\n",
            "\n",
            "Installing package into ‘/usr/local/lib/R/site-library’\n",
            "(as ‘lib’ is unspecified)\n",
            "\n"
          ],
          "name": "stderr"
        }
      ]
    },
    {
      "cell_type": "code",
      "metadata": {
        "colab": {
          "base_uri": "https://localhost:8080/",
          "height": 485
        },
        "id": "R3pNr6ls2XsC",
        "outputId": "7f969a05-c360-4e51-cab6-b1da8c9155a8"
      },
      "source": [
        "confusionMatrix(pred_valid_DT, test_df$Barra_Perdida)"
      ],
      "execution_count": 50,
      "outputs": [
        {
          "output_type": "display_data",
          "data": {
            "text/plain": [
              "Confusion Matrix and Statistics\n",
              "\n",
              "            Reference\n",
              "Prediction   NoReventon Reventon\n",
              "  NoReventon       2678       55\n",
              "  Reventon           21     2251\n",
              "                                        \n",
              "               Accuracy : 0.9848        \n",
              "                 95% CI : (0.981, 0.988)\n",
              "    No Information Rate : 0.5393        \n",
              "    P-Value [Acc > NIR] : < 2.2e-16     \n",
              "                                        \n",
              "                  Kappa : 0.9694        \n",
              "                                        \n",
              " Mcnemar's Test P-Value : 0.0001535     \n",
              "                                        \n",
              "            Sensitivity : 0.9922        \n",
              "            Specificity : 0.9761        \n",
              "         Pos Pred Value : 0.9799        \n",
              "         Neg Pred Value : 0.9908        \n",
              "             Prevalence : 0.5393        \n",
              "         Detection Rate : 0.5351        \n",
              "   Detection Prevalence : 0.5461        \n",
              "      Balanced Accuracy : 0.9842        \n",
              "                                        \n",
              "       'Positive' Class : NoReventon    \n",
              "                                        "
            ]
          },
          "metadata": {
            "tags": []
          }
        }
      ]
    },
    {
      "cell_type": "markdown",
      "metadata": {
        "id": "fOJUIw9dtYVh"
      },
      "source": [
        "# **Random Forest**"
      ]
    },
    {
      "cell_type": "markdown",
      "metadata": {
        "id": "D6HVSgkwvNo8"
      },
      "source": [
        "1. Descargamos el paquete \"randomForest\" y utilizaremos la librería con el mismo nombre"
      ]
    },
    {
      "cell_type": "code",
      "metadata": {
        "colab": {
          "base_uri": "https://localhost:8080/"
        },
        "id": "iGdZmGUFtcGD",
        "outputId": "03dfa3e6-dd00-467e-968c-664c3c1983e6"
      },
      "source": [
        "install.packages(\"randomForest\")\n",
        "library(randomForest)"
      ],
      "execution_count": 51,
      "outputs": [
        {
          "output_type": "stream",
          "text": [
            "Installing package into ‘/usr/local/lib/R/site-library’\n",
            "(as ‘lib’ is unspecified)\n",
            "\n",
            "randomForest 4.6-14\n",
            "\n",
            "Type rfNews() to see new features/changes/bug fixes.\n",
            "\n",
            "\n",
            "Attaching package: ‘randomForest’\n",
            "\n",
            "\n",
            "The following object is masked from ‘package:ggplot2’:\n",
            "\n",
            "    margin\n",
            "\n",
            "\n"
          ],
          "name": "stderr"
        }
      ]
    },
    {
      "cell_type": "markdown",
      "metadata": {
        "id": "1swT8KJyvPBJ"
      },
      "source": [
        "2. Nuevamente hacemos un set.seed, recuerden esto siempre, pues estamos trabajando con random\n",
        "3. utilizamos la función \"randomForest\" para predecir la variable \"Barra Perdida, a partir del conjunto de entrenamiento \"train_df\" y considerando que tendremos un número de árboles (ntree) = 250 (recuerden que este número es variable, es un parámetro que podemos mejorar)"
      ]
    },
    {
      "cell_type": "code",
      "metadata": {
        "id": "LVoOHgG4tng3"
      },
      "source": [
        "set.seed(1234)\n",
        "clasificadorRF <- randomForest(Barra_Perdida ~ ., data = train_df, ntree = 250)"
      ],
      "execution_count": 52,
      "outputs": []
    },
    {
      "cell_type": "markdown",
      "metadata": {
        "id": "FLzBlv4rvq0A"
      },
      "source": [
        "4. Una vez que ya tengamos lo anterior, ahora podemos hacer la predicción utilizando la función de \"predict\" a partir del clasificador de Random Forest \"clasificadorRF\" y la data correspondiente a la validación \"test_df\"\n",
        "5. Obtenemos la matriz de confusión como en los ejercicios anteriores\n",
        "6. Y finalmente la curva de ROC como ya lo hemos venido haciendo."
      ]
    },
    {
      "cell_type": "code",
      "metadata": {
        "id": "uBdHdHjStwR0"
      },
      "source": [
        "pred_valid_RF <- predict(clasificadorRF, newdata = test_df)"
      ],
      "execution_count": 53,
      "outputs": []
    },
    {
      "cell_type": "code",
      "metadata": {
        "colab": {
          "base_uri": "https://localhost:8080/",
          "height": 86
        },
        "id": "THIvCQnit0BV",
        "outputId": "f0e6d020-8a99-488a-93cd-d0f7bd6e450c"
      },
      "source": [
        "matrizConfusion <- table(test_df$Barra_Perdida, pred_valid_RF)\n",
        "matrizConfusion"
      ],
      "execution_count": 54,
      "outputs": [
        {
          "output_type": "display_data",
          "data": {
            "text/plain": [
              "            pred_valid_RF\n",
              "             NoReventon Reventon\n",
              "  NoReventon       2680       19\n",
              "  Reventon           50     2256"
            ]
          },
          "metadata": {
            "tags": []
          }
        }
      ]
    },
    {
      "cell_type": "code",
      "metadata": {
        "colab": {
          "base_uri": "https://localhost:8080/",
          "height": 437
        },
        "id": "ryP83Izst4b7",
        "outputId": "bb739960-8d9e-478b-a05c-e6dbee5ade15"
      },
      "source": [
        "pred1 <- prediction(as.numeric(pred_valid_RF), as.numeric(test_df$Barra_Perdida))\n",
        "perf1 <- performance(pred1, \"tpr\", \"fpr\")\n",
        "plot(perf1)"
      ],
      "execution_count": 55,
      "outputs": [
        {
          "output_type": "display_data",
          "data": {
            "image/png": "[encoded data removed]",
            "text/plain": [
              "plot without title"
            ]
          },
          "metadata": {
            "tags": [],
            "image/png": {
              "width": 420,
              "height": 420
            }
          }
        }
      ]
    },
    {
      "cell_type": "markdown",
      "metadata": {
        "id": "ChppmnC23ekt"
      },
      "source": [
        "7. Obtengamos la matriz de Confusión más a detalle:"
      ]
    },
    {
      "cell_type": "code",
      "metadata": {
        "id": "qTGYcxHg3dnD"
      },
      "source": [
        "install.packages(\"caret\")\n",
        "install.packages(\"e1071\", dep = TRUE) \n",
        "library(caret)"
      ],
      "execution_count": null,
      "outputs": []
    },
    {
      "cell_type": "code",
      "metadata": {
        "colab": {
          "base_uri": "https://localhost:8080/",
          "height": 485
        },
        "id": "leGMR2MJ3ljl",
        "outputId": "9efe1778-e81b-41fe-cfb3-84abc73b37ad"
      },
      "source": [
        "confusionMatrix(pred_valid_RF, test_df$Barra_Perdida)"
      ],
      "execution_count": 56,
      "outputs": [
        {
          "output_type": "display_data",
          "data": {
            "text/plain": [
              "Confusion Matrix and Statistics\n",
              "\n",
              "            Reference\n",
              "Prediction   NoReventon Reventon\n",
              "  NoReventon       2680       50\n",
              "  Reventon           19     2256\n",
              "                                          \n",
              "               Accuracy : 0.9862          \n",
              "                 95% CI : (0.9826, 0.9893)\n",
              "    No Information Rate : 0.5393          \n",
              "    P-Value [Acc > NIR] : < 2.2e-16       \n",
              "                                          \n",
              "                  Kappa : 0.9722          \n",
              "                                          \n",
              " Mcnemar's Test P-Value : 0.0003043       \n",
              "                                          \n",
              "            Sensitivity : 0.9930          \n",
              "            Specificity : 0.9783          \n",
              "         Pos Pred Value : 0.9817          \n",
              "         Neg Pred Value : 0.9916          \n",
              "             Prevalence : 0.5393          \n",
              "         Detection Rate : 0.5355          \n",
              "   Detection Prevalence : 0.5455          \n",
              "      Balanced Accuracy : 0.9856          \n",
              "                                          \n",
              "       'Positive' Class : NoReventon      \n",
              "                                          "
            ]
          },
          "metadata": {
            "tags": []
          }
        }
      ]
    }
  ]
}